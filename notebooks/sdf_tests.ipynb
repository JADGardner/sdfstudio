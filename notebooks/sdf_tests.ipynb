{
 "cells": [
  {
   "cell_type": "code",
   "execution_count": 2,
   "metadata": {},
   "outputs": [],
   "source": [
    "# set the cwd to the root of the repo\n",
    "import os\n",
    "os.chdir(\"/workspaces/sdfstudio/\")\n",
    "\n",
    "import torch\n",
    "import yaml\n",
    "from pathlib import Path\n",
    "import random\n",
    "import matplotlib.pyplot as plt\n",
    "\n",
    "from nerfstudio.configs import base_config as cfg\n",
    "from nerfstudio.configs.method_configs import method_configs\n",
    "from nerfstudio.data.dataparsers.nerfosr_dataparser import NeRFOSR, NeRFOSRDataParserConfig\n",
    "from nerfstudio.models.reni_neus import RENINeuSModel, RENINeuSModelConfig\n",
    "from nerfstudio.pipelines.base_pipeline import VanillaDataManager\n",
    "from nerfstudio.field_components.field_heads import FieldHeadNames"
   ]
  },
  {
   "cell_type": "code",
   "execution_count": 3,
   "metadata": {},
   "outputs": [],
   "source": [
    "# setup config\n",
    "test_mode = 'val'\n",
    "world_size = 1\n",
    "local_rank = 0\n",
    "device = 'cuda:0'\n",
    "\n",
    "ckpt_path = 'outputs/data-NeRF-OSR-Data/RENI-NeuS/2023-03-09_132447'\n",
    "step = 40000\n",
    "\n",
    "ckpt = torch.load(ckpt_path + '/sdfstudio_models' + f'/step-{step:09d}.ckpt', map_location=device)\n",
    "model_dict = {}\n",
    "for key in ckpt['pipeline'].keys():\n",
    "    if key.startswith('_model.'):\n",
    "        model_dict[key[7:]] = ckpt['pipeline'][key]\n",
    "\n",
    "config = method_configs[\"RENI-NeuS\"]\n",
    "\n",
    "# ckpt_config = cfg.InstantiateConfig(yaml.load(ckpt_path + '/config.yml', Loader=yaml.Loader)).setup()\n"
   ]
  },
  {
   "cell_type": "code",
   "execution_count": 4,
   "metadata": {},
   "outputs": [
    {
     "data": {
      "text/html": [
       "<pre style=\"white-space:pre;overflow-x:auto;line-height:normal;font-family:Menlo,'DejaVu Sans Mono',consolas,'Courier New',monospace\">Loading data batch <span style=\"color: #729c1f; text-decoration-color: #729c1f\">━━━━━━━━━━━━━━━━━━━━━━━━━━━━━━━━━━━━━━━━</span> <span style=\"color: #800080; text-decoration-color: #800080\">100%</span> <span style=\"color: #008080; text-decoration-color: #008080\">0:00:00</span>\n",
       "</pre>\n"
      ],
      "text/plain": [
       "Loading data batch \u001b[38;2;114;156;31m━━━━━━━━━━━━━━━━━━━━━━━━━━━━━━━━━━━━━━━━\u001b[0m \u001b[35m100%\u001b[0m \u001b[36m0:00:00\u001b[0m\n"
      ]
     },
     "metadata": {},
     "output_type": "display_data"
    },
    {
     "data": {
      "text/html": [
       "<pre style=\"white-space:pre;overflow-x:auto;line-height:normal;font-family:Menlo,'DejaVu Sans Mono',consolas,'Courier New',monospace\"></pre>\n"
      ],
      "text/plain": []
     },
     "metadata": {},
     "output_type": "display_data"
    },
    {
     "data": {
      "text/html": [
       "<pre style=\"white-space:pre;overflow-x:auto;line-height:normal;font-family:Menlo,'DejaVu Sans Mono',consolas,'Courier New',monospace\">\n",
       "</pre>\n"
      ],
      "text/plain": [
       "\n"
      ]
     },
     "metadata": {},
     "output_type": "display_data"
    },
    {
     "data": {
      "text/plain": [
       "RENINeuSModel(\n",
       "  (collider): NearFarCollider()\n",
       "  (scene_contraction): SceneContraction()\n",
       "  (field): SDFAlbedoVisibilityField(\n",
       "    (spatial_distortion): SceneContraction()\n",
       "    (encoding): Encoding(n_input_dims=3, n_output_dims=32, seed=1337, dtype=torch.float16, hyperparams={'base_resolution': 16, 'hash': 'CoherentPrime', 'interpolation': 'Smoothstep', 'log2_hashmap_size': 19, 'n_features_per_level': 2, 'n_levels': 16, 'otype': 'Grid', 'per_level_scale': 1.3819128274917603, 'type': 'Hash'})\n",
       "    (position_encoding): NeRFEncoding()\n",
       "    (direction_encoding): NeRFEncoding()\n",
       "    (glin0): Linear(in_features=71, out_features=256, bias=True)\n",
       "    (glin1): Linear(in_features=256, out_features=256, bias=True)\n",
       "    (glin2): Linear(in_features=256, out_features=256, bias=True)\n",
       "    (glin3): Linear(in_features=256, out_features=185, bias=True)\n",
       "    (glin4): Linear(in_features=256, out_features=256, bias=True)\n",
       "    (glin5): Linear(in_features=256, out_features=257, bias=True)\n",
       "    (laplace_density): LaplaceDensity()\n",
       "    (deviation_network): SingleVarianceNetwork()\n",
       "    (clin0): Linear(in_features=259, out_features=256, bias=True)\n",
       "    (clin1): Linear(in_features=256, out_features=256, bias=True)\n",
       "    (clin2): Linear(in_features=256, out_features=256, bias=True)\n",
       "    (clin3): Linear(in_features=256, out_features=256, bias=True)\n",
       "    (clin4): Linear(in_features=256, out_features=256, bias=True)\n",
       "    (clin5): Linear(in_features=256, out_features=3, bias=True)\n",
       "    (softplus): Softplus(beta=100, threshold=20)\n",
       "    (relu): ReLU()\n",
       "    (sigmoid): Sigmoid()\n",
       "  )\n",
       "  (sampler_bg): LinearDisparitySampler()\n",
       "  (renderer_rgb): RGBRenderer()\n",
       "  (renderer_accumulation): AccumulationRenderer()\n",
       "  (renderer_depth): DepthRenderer()\n",
       "  (renderer_normal): SemanticRenderer()\n",
       "  (patch_warping): PatchWarping()\n",
       "  (rgb_loss): L1Loss()\n",
       "  (eikonal_loss): MSELoss()\n",
       "  (depth_loss): ScaleAndShiftInvariantLoss(\n",
       "    (_ScaleAndShiftInvariantLoss__data_loss): MiDaSMSELoss()\n",
       "    (_ScaleAndShiftInvariantLoss__regularization_loss): GradientLoss()\n",
       "  )\n",
       "  (patch_loss): MultiViewLoss(\n",
       "    (ssim): NCC()\n",
       "  )\n",
       "  (sensor_depth_loss): SensorDepthLoss()\n",
       "  (psnr): PeakSignalNoiseRatio()\n",
       "  (lpips): LearnedPerceptualImagePatchSimilarity(\n",
       "    (net): NoTrainLpips(\n",
       "      (scaling_layer): ScalingLayer()\n",
       "      (net): alexnet(\n",
       "        (slice1): Sequential(\n",
       "          (0): Conv2d(3, 64, kernel_size=(11, 11), stride=(4, 4), padding=(2, 2))\n",
       "          (1): ReLU(inplace=True)\n",
       "        )\n",
       "        (slice2): Sequential(\n",
       "          (2): MaxPool2d(kernel_size=3, stride=2, padding=0, dilation=1, ceil_mode=False)\n",
       "          (3): Conv2d(64, 192, kernel_size=(5, 5), stride=(1, 1), padding=(2, 2))\n",
       "          (4): ReLU(inplace=True)\n",
       "        )\n",
       "        (slice3): Sequential(\n",
       "          (5): MaxPool2d(kernel_size=3, stride=2, padding=0, dilation=1, ceil_mode=False)\n",
       "          (6): Conv2d(192, 384, kernel_size=(3, 3), stride=(1, 1), padding=(1, 1))\n",
       "          (7): ReLU(inplace=True)\n",
       "        )\n",
       "        (slice4): Sequential(\n",
       "          (8): Conv2d(384, 256, kernel_size=(3, 3), stride=(1, 1), padding=(1, 1))\n",
       "          (9): ReLU(inplace=True)\n",
       "        )\n",
       "        (slice5): Sequential(\n",
       "          (10): Conv2d(256, 256, kernel_size=(3, 3), stride=(1, 1), padding=(1, 1))\n",
       "          (11): ReLU(inplace=True)\n",
       "        )\n",
       "      )\n",
       "      (lin0): NetLinLayer(\n",
       "        (model): Sequential(\n",
       "          (0): Dropout(p=0.5, inplace=False)\n",
       "          (1): Conv2d(64, 1, kernel_size=(1, 1), stride=(1, 1), bias=False)\n",
       "        )\n",
       "      )\n",
       "      (lin1): NetLinLayer(\n",
       "        (model): Sequential(\n",
       "          (0): Dropout(p=0.5, inplace=False)\n",
       "          (1): Conv2d(192, 1, kernel_size=(1, 1), stride=(1, 1), bias=False)\n",
       "        )\n",
       "      )\n",
       "      (lin2): NetLinLayer(\n",
       "        (model): Sequential(\n",
       "          (0): Dropout(p=0.5, inplace=False)\n",
       "          (1): Conv2d(384, 1, kernel_size=(1, 1), stride=(1, 1), bias=False)\n",
       "        )\n",
       "      )\n",
       "      (lin3): NetLinLayer(\n",
       "        (model): Sequential(\n",
       "          (0): Dropout(p=0.5, inplace=False)\n",
       "          (1): Conv2d(256, 1, kernel_size=(1, 1), stride=(1, 1), bias=False)\n",
       "        )\n",
       "      )\n",
       "      (lin4): NetLinLayer(\n",
       "        (model): Sequential(\n",
       "          (0): Dropout(p=0.5, inplace=False)\n",
       "          (1): Conv2d(256, 1, kernel_size=(1, 1), stride=(1, 1), bias=False)\n",
       "        )\n",
       "      )\n",
       "      (lins): ModuleList(\n",
       "        (0): NetLinLayer(\n",
       "          (model): Sequential(\n",
       "            (0): Dropout(p=0.5, inplace=False)\n",
       "            (1): Conv2d(64, 1, kernel_size=(1, 1), stride=(1, 1), bias=False)\n",
       "          )\n",
       "        )\n",
       "        (1): NetLinLayer(\n",
       "          (model): Sequential(\n",
       "            (0): Dropout(p=0.5, inplace=False)\n",
       "            (1): Conv2d(192, 1, kernel_size=(1, 1), stride=(1, 1), bias=False)\n",
       "          )\n",
       "        )\n",
       "        (2): NetLinLayer(\n",
       "          (model): Sequential(\n",
       "            (0): Dropout(p=0.5, inplace=False)\n",
       "            (1): Conv2d(384, 1, kernel_size=(1, 1), stride=(1, 1), bias=False)\n",
       "          )\n",
       "        )\n",
       "        (3): NetLinLayer(\n",
       "          (model): Sequential(\n",
       "            (0): Dropout(p=0.5, inplace=False)\n",
       "            (1): Conv2d(256, 1, kernel_size=(1, 1), stride=(1, 1), bias=False)\n",
       "          )\n",
       "        )\n",
       "        (4): NetLinLayer(\n",
       "          (model): Sequential(\n",
       "            (0): Dropout(p=0.5, inplace=False)\n",
       "            (1): Conv2d(256, 1, kernel_size=(1, 1), stride=(1, 1), bias=False)\n",
       "          )\n",
       "        )\n",
       "      )\n",
       "    )\n",
       "  )\n",
       "  (sampler): NeuSSampler(\n",
       "    (uniform_sampler): UniformSampler()\n",
       "    (pdf_sampler): PDFSampler()\n",
       "    (outside_sampler): LinearDisparitySampler()\n",
       "    (error_bounded_sampler): ErrorBoundedSampler(\n",
       "      (uniform_sampler): UniformSampler()\n",
       "      (pdf_sampler): PDFSampler()\n",
       "    )\n",
       "  )\n",
       "  (illumination_sampler): IcosahedronSampler()\n",
       "  (illumination_field_train): RENIField(\n",
       "    (reni): RENIVariationalAutoDecoder(\n",
       "      (net): Sequential(\n",
       "        (0): SineLayer(\n",
       "          (linear): Linear(in_features=1370, out_features=256, bias=True)\n",
       "        )\n",
       "        (1): SineLayer(\n",
       "          (linear): Linear(in_features=256, out_features=256, bias=True)\n",
       "        )\n",
       "        (2): SineLayer(\n",
       "          (linear): Linear(in_features=256, out_features=256, bias=True)\n",
       "        )\n",
       "        (3): SineLayer(\n",
       "          (linear): Linear(in_features=256, out_features=256, bias=True)\n",
       "        )\n",
       "        (4): SineLayer(\n",
       "          (linear): Linear(in_features=256, out_features=256, bias=True)\n",
       "        )\n",
       "        (5): SineLayer(\n",
       "          (linear): Linear(in_features=256, out_features=256, bias=True)\n",
       "        )\n",
       "        (6): Linear(in_features=256, out_features=3, bias=True)\n",
       "        (7): Tanh()\n",
       "      )\n",
       "    )\n",
       "  )\n",
       "  (illumination_field_eval): RENIField(\n",
       "    (reni): RENIVariationalAutoDecoder(\n",
       "      (net): Sequential(\n",
       "        (0): SineLayer(\n",
       "          (linear): Linear(in_features=1370, out_features=256, bias=True)\n",
       "        )\n",
       "        (1): SineLayer(\n",
       "          (linear): Linear(in_features=256, out_features=256, bias=True)\n",
       "        )\n",
       "        (2): SineLayer(\n",
       "          (linear): Linear(in_features=256, out_features=256, bias=True)\n",
       "        )\n",
       "        (3): SineLayer(\n",
       "          (linear): Linear(in_features=256, out_features=256, bias=True)\n",
       "        )\n",
       "        (4): SineLayer(\n",
       "          (linear): Linear(in_features=256, out_features=256, bias=True)\n",
       "        )\n",
       "        (5): SineLayer(\n",
       "          (linear): Linear(in_features=256, out_features=256, bias=True)\n",
       "        )\n",
       "        (6): Linear(in_features=256, out_features=3, bias=True)\n",
       "        (7): Tanh()\n",
       "      )\n",
       "    )\n",
       "  )\n",
       "  (proposal_networks): ModuleList(\n",
       "    (0): HashMLPDensityField(\n",
       "      (spatial_distortion): SceneContraction()\n",
       "      (mlp_base): NetworkWithInputEncoding(n_input_dims=3, n_output_dims=1, seed=1337, dtype=torch.float16, hyperparams={'encoding': {'base_resolution': 16, 'hash': 'CoherentPrime', 'interpolation': 'Linear', 'log2_hashmap_size': 17, 'n_features_per_level': 2, 'n_levels': 5, 'otype': 'Grid', 'per_level_scale': 1.4142135381698608, 'type': 'Hash'}, 'network': {'activation': 'ReLU', 'n_hidden_layers': 1, 'n_neurons': 16, 'otype': 'FullyFusedMLP', 'output_activation': 'None'}, 'otype': 'NetworkWithInputEncoding'})\n",
       "    )\n",
       "    (1): HashMLPDensityField(\n",
       "      (spatial_distortion): SceneContraction()\n",
       "      (mlp_base): NetworkWithInputEncoding(n_input_dims=3, n_output_dims=1, seed=1337, dtype=torch.float16, hyperparams={'encoding': {'base_resolution': 16, 'hash': 'CoherentPrime', 'interpolation': 'Linear', 'log2_hashmap_size': 17, 'n_features_per_level': 2, 'n_levels': 5, 'otype': 'Grid', 'per_level_scale': 2.0, 'type': 'Hash'}, 'network': {'activation': 'ReLU', 'n_hidden_layers': 1, 'n_neurons': 16, 'otype': 'FullyFusedMLP', 'output_activation': 'None'}, 'otype': 'NetworkWithInputEncoding'})\n",
       "    )\n",
       "  )\n",
       "  (proposal_sampler): ProposalNetworkSampler(\n",
       "    (initial_sampler): UniformSampler()\n",
       "    (pdf_sampler): PDFSampler()\n",
       "  )\n",
       "  (albedo_renderer): RGBRenderer()\n",
       "  (lambertian_renderer): RGBLambertianRendererWithVisibility()\n",
       ")"
      ]
     },
     "execution_count": 4,
     "metadata": {},
     "output_type": "execute_result"
    }
   ],
   "source": [
    "test_mode = 'val'\n",
    "world_size = 1\n",
    "local_rank = 0\n",
    "device = 'cuda:0'\n",
    "\n",
    "config = method_configs[\"RENI-NeuS\"]\n",
    "\n",
    "pipeline_config = config.pipeline\n",
    "pipeline_config.datamanager.dataparser.scene = 'lk2'\n",
    "pipeline_config.datamanager.dataparser.use_session_data = False\n",
    "\n",
    "# config = # vaninllanpipelineconfig / fit_eval_pipeline_config\n",
    "datamanager: VanillaDataManager = pipeline_config.datamanager.setup(\n",
    "    device=device, test_mode=test_mode, world_size=world_size, local_rank=local_rank, \n",
    ")\n",
    "datamanager.to(device)\n",
    "# includes num_eval_data as needed for reni latent code fitting.\n",
    "model = pipeline_config.model.setup(\n",
    "    scene_box=datamanager.train_dataset.scene_box,\n",
    "    num_train_data=len(datamanager.train_dataset),\n",
    "    num_eval_data=len(datamanager.eval_dataset),\n",
    "    metadata=datamanager.train_dataset.metadata,\n",
    "    world_size=world_size,\n",
    "    local_rank=local_rank,\n",
    "    eval_latent_optimisation_source=pipeline_config.eval_latent_optimisation_source,\n",
    ")\n",
    "model.to(device)"
   ]
  },
  {
   "cell_type": "code",
   "execution_count": 5,
   "metadata": {},
   "outputs": [
    {
     "data": {
      "text/plain": [
       "<All keys matched successfully>"
      ]
     },
     "execution_count": 5,
     "metadata": {},
     "output_type": "execute_result"
    }
   ],
   "source": [
    "ckpt_path = 'outputs/data-NeRF-OSR-Data/RENI-NeuS/2023-03-09_132447/sdfstudio_models/step-000040000.ckpt'\n",
    "ckpt = torch.load(ckpt_path, map_location=device)\n",
    "model_dict = {}\n",
    "for key in ckpt['pipeline'].keys():\n",
    "    if key.startswith('_model.'):\n",
    "        model_dict[key[7:]] = ckpt['pipeline'][key]\n",
    "\n",
    "model.load_state_dict(model_dict)"
   ]
  },
  {
   "cell_type": "code",
   "execution_count": 81,
   "metadata": {},
   "outputs": [],
   "source": [
    "image_idx, camera_ray_bundle, batch = datamanager.next_eval_image(1)\n",
    "img = batch['image'] # [H, W, 3]\n",
    "fg_mask = batch['fg_mask'].images[0] # [H, W]\n",
    "fg_mask = fg_mask.reshape(-1).bool() # [H*W]"
   ]
  },
  {
   "cell_type": "code",
   "execution_count": 82,
   "metadata": {},
   "outputs": [],
   "source": [
    "origins = camera_ray_bundle.origins # [H, W, 1, 3]\n",
    "directions = camera_ray_bundle.directions # [H, W, 1, 3]\n",
    "pixel_area = camera_ray_bundle.pixel_area # [H, W, 1, 1]\n",
    "directions_norm = camera_ray_bundle.directions_norm # [H, W, 1, 1]\n",
    "camera_indices = camera_ray_bundle.camera_indices # [H, W, 1, 1]"
   ]
  },
  {
   "cell_type": "code",
   "execution_count": 83,
   "metadata": {},
   "outputs": [],
   "source": [
    "# flatten\n",
    "origins = origins.reshape(-1, 3) # [H*W, 3]\n",
    "directions = directions.reshape(-1, 3) # [H*W, 3]\n",
    "pixel_area = pixel_area.reshape(-1, 1) # [H*W, 1]\n",
    "directions_norm = directions_norm.reshape(-1, 1) # [H*W, 1]\n",
    "camera_indices = camera_indices.reshape(-1, 1) # [H*W, 1]\n",
    "# set all nears to 0.05\n",
    "nears = torch.zeros_like(directions_norm) + 0.05\n",
    "# set all fars to 100\n",
    "fars = torch.zeros_like(directions_norm) + 100\n",
    "\n",
    "# mask and update camera ray bundle\n",
    "camera_ray_bundle.origins = origins[fg_mask]\n",
    "camera_ray_bundle.directions = directions[fg_mask]\n",
    "camera_ray_bundle.pixel_area = pixel_area[fg_mask]\n",
    "camera_ray_bundle.directions_norm = directions_norm[fg_mask]\n",
    "camera_ray_bundle.camera_indices = camera_indices[fg_mask]\n",
    "camera_ray_bundle.nears = nears[fg_mask]\n",
    "camera_ray_bundle.fars = fars[fg_mask]"
   ]
  },
  {
   "cell_type": "code",
   "execution_count": 90,
   "metadata": {},
   "outputs": [],
   "source": [
    "# generate sample\n",
    "indices = random.sample(range(len(camera_ray_bundle)), k=256)"
   ]
  },
  {
   "cell_type": "code",
   "execution_count": 91,
   "metadata": {},
   "outputs": [],
   "source": [
    "camera_ray_bundle.origins = camera_ray_bundle.origins[indices]\n",
    "camera_ray_bundle.directions = camera_ray_bundle.directions[indices]\n",
    "camera_ray_bundle.pixel_area = camera_ray_bundle.pixel_area[indices]\n",
    "camera_ray_bundle.directions_norm = camera_ray_bundle.directions_norm[indices]\n",
    "camera_ray_bundle.camera_indices = camera_ray_bundle.camera_indices[indices]\n",
    "camera_ray_bundle.nears = camera_ray_bundle.nears[indices]\n",
    "camera_ray_bundle.fars = camera_ray_bundle.fars[indices]"
   ]
  },
  {
   "cell_type": "code",
   "execution_count": 92,
   "metadata": {},
   "outputs": [],
   "source": [
    "# forward through model for camera ray bundle\n",
    "ray_samples, weights_list, ray_samples_list = model.proposal_sampler(camera_ray_bundle, density_fns=model.density_fns)\n",
    "\n",
    "# Get camera indices for each sample for use in the illumination field\n",
    "camera_indices = ray_samples.camera_indices.squeeze()  # [num_rays, samples_per_ray]\n",
    "\n",
    "illumination_field = model.illumination_field_train\n",
    "\n",
    "illumination_directions = model.illumination_sampler(model.config.num_illumination_samples)\n",
    "illumination_directions = illumination_directions.to(device)\n",
    "\n",
    "field_outputs = model.field(ray_samples, return_alphas=True, illumination_directions=illumination_directions)\n",
    "weights, transmittance = ray_samples.get_weights_and_transmittance_from_alphas(\n",
    "    field_outputs[FieldHeadNames.ALPHA]\n",
    ")\n",
    "\n",
    "bg_transmittance = transmittance[:, -1, :]\n",
    "\n",
    "weights_list.append(weights)\n",
    "ray_samples_list.append(ray_samples)\n",
    "\n",
    "p2p_dist = model.renderer_depth(weights=weights, ray_samples=ray_samples)\n",
    "# convert point-to-point distance to depth\n",
    "depth = p2p_dist / camera_ray_bundle.directions_norm"
   ]
  },
  {
   "cell_type": "code",
   "execution_count": 93,
   "metadata": {},
   "outputs": [],
   "source": [
    "origins = camera_ray_bundle.origins + camera_ray_bundle.directions * p2p_dist"
   ]
  },
  {
   "cell_type": "code",
   "execution_count": 94,
   "metadata": {},
   "outputs": [],
   "source": [
    "sdf = model.field.get_sdf_at_pos(origins)"
   ]
  },
  {
   "cell_type": "code",
   "execution_count": 97,
   "metadata": {},
   "outputs": [
    {
     "data": {
      "text/plain": [
       "tensor(0.0332, device='cuda:0', grad_fn=<StdBackward0>)"
      ]
     },
     "execution_count": 97,
     "metadata": {},
     "output_type": "execute_result"
    }
   ],
   "source": [
    "# plot histogram of sdf\n",
    "# remove sdf value over 2\n",
    "sdf = sdf[sdf < 2]\n",
    "# standard deviation\n",
    "sdf.std()"
   ]
  },
  {
   "cell_type": "code",
   "execution_count": 115,
   "metadata": {},
   "outputs": [
    {
     "data": {
      "text/plain": [
       "[<matplotlib.lines.Line2D at 0x7ff0d813d4e0>]"
      ]
     },
     "execution_count": 115,
     "metadata": {},
     "output_type": "execute_result"
    },
    {
     "data": {
      "image/png": "[encoded data removed]",
      "text/plain": [
       "<Figure size 640x480 with 1 Axes>"
      ]
     },
     "metadata": {},
     "output_type": "display_data"
    }
   ],
   "source": [
    "# choose a single origin, gradually travel along the ray direction and plot the sdf value\n",
    "origin = origins[0].repeat(1000, 1)\n",
    "direction = camera_ray_bundle.directions[0].repeat(1000, 1)\n",
    "termination = p2p_dist[0].item() + 2.0\n",
    "# sample 100 points along the ray\n",
    "dist = torch.linspace(0, termination, 1000).unsqueeze(1).to(device)\n",
    "# get sdf value at each point\n",
    "sdf = model.field.get_sdf_at_pos(origin + direction * dist)\n",
    "# plot\n",
    "# convert to numpy and plot\n",
    "sdf = sdf.cpu().detach().numpy()\n",
    "plt.plot(sdf)"
   ]
  },
  {
   "cell_type": "code",
   "execution_count": 105,
   "metadata": {},
   "outputs": [
    {
     "ename": "RuntimeError",
     "evalue": "The size of tensor a (3) must match the size of tensor b (100) at non-singleton dimension 1",
     "output_type": "error",
     "traceback": [
      "\u001b[0;31m---------------------------------------------------------------------------\u001b[0m",
      "\u001b[0;31mRuntimeError\u001b[0m                              Traceback (most recent call last)",
      "Cell \u001b[0;32mIn[105], line 1\u001b[0m\n\u001b[0;32m----> 1\u001b[0m origin \u001b[39m+\u001b[39m direction \u001b[39m*\u001b[39;49m dist\n",
      "\u001b[0;31mRuntimeError\u001b[0m: The size of tensor a (3) must match the size of tensor b (100) at non-singleton dimension 1"
     ]
    }
   ],
   "source": [
    "origin + direction * dist"
   ]
  },
  {
   "cell_type": "code",
   "execution_count": 33,
   "metadata": {},
   "outputs": [
    {
     "data": {
      "application/vnd.plotly.v1+json": {
       "config": {
        "plotlyServerURL": "https://plot.ly"
       },
       "data": [
        {
         "mode": "markers",
         "type": "scatter3d",
         "x": [
          0.005368225276470184,
          -0.43326449394226074,
          0.3488714098930359,
          0.4174700975418091,
          0.4111921787261963,
          -0.5974388718605042,
          0.10036088526248932,
          0.4216039776802063,
          0.5216452479362488,
          0.009850919246673584,
          0.28181445598602295,
          -0.0544375516474247,
          -0.1718299835920334,
          0.1714927703142166,
          0.16884677112102509,
          -0.019300147891044617,
          0.16709227859973907,
          -0.21382467448711395,
          0.1152222603559494,
          0.03298716992139816,
          0.04517011344432831,
          0.5394030809402466,
          1.105862021446228,
          -0.3551684021949768,
          0.1143408864736557,
          0.04452286660671234,
          0.048326119780540466,
          -0.24750199913978577,
          -0.13175900280475616,
          0.5170236825942993,
          0.6623669862747192,
          0.27482277154922485,
          0.09605991840362549,
          0.43709421157836914,
          0.05907110869884491,
          0.13402947783470154,
          0.15505243837833405,
          0.4321802258491516,
          -0.2316828966140747,
          0.0995161384344101,
          0.04866465926170349,
          0.05871579051017761,
          0.2673463821411133,
          0.17551545798778534,
          0.3826826214790344,
          0.4298781752586365,
          -0.27900248765945435,
          -0.14727142453193665,
          0.02493683248758316,
          -0.38865792751312256,
          0.5818827748298645,
          0.571126401424408,
          0.23458074033260345,
          -0.2978771924972534,
          0.2533397674560547,
          0.4921305775642395,
          -0.2207978218793869,
          0.07573676109313965,
          -0.25504738092422485,
          0.4365593194961548,
          0.5393816232681274,
          0.6541721224784851,
          0.518351674079895,
          0.1166609674692154,
          0.2943626046180725,
          -0.004774510860443115,
          -0.5879054069519043,
          -0.2907682955265045,
          -0.5260509848594666,
          -0.4035753011703491,
          0.48216718435287476,
          -0.23841027915477753,
          -0.5268044471740723,
          0.31880712509155273,
          -0.12237755954265594,
          -0.3790249228477478,
          -0.02804321050643921,
          0.008126795291900635,
          0.5864485502243042,
          0.18951515853405,
          0.19076471030712128,
          0.09107480943202972,
          0.03499838709831238,
          0.045890599489212036,
          0.38694947957992554,
          0.08105319738388062,
          0.3634464144706726,
          -0.10962393134832382,
          0.20408739149570465,
          0.03681664913892746,
          -0.13884782791137695,
          0.13917599618434906,
          0.22654877603054047,
          0.45221811532974243,
          0.06251239776611328,
          0.439436674118042,
          0.38590914011001587,
          -0.07157106697559357,
          0.07906310260295868,
          -0.09278146922588348,
          0.025087371468544006,
          0.23537124693393707,
          0.021325163543224335,
          -0.21525658667087555,
          0.11983262002468109,
          0.03407265245914459,
          -0.32622477412223816,
          -0.12070535868406296,
          0.3884837031364441,
          0.12533038854599,
          -0.3089149594306946,
          0.42432987689971924,
          -0.06520840525627136,
          -0.757300615310669,
          0.5347779393196106,
          0.23827682435512543,
          -0.1510070264339447,
          0.12237673997879028,
          0.5846851468086243,
          0.1544206738471985,
          -0.18169540166854858,
          -0.8126741647720337,
          -0.6156901717185974,
          -0.45524829626083374,
          0.7420243620872498,
          -0.12326550483703613,
          0.4885827898979187,
          0.4835658669471741,
          -0.6146916747093201,
          -0.3271164894104004,
          -0.09611736238002777,
          0.002257019281387329,
          0.4003676772117615,
          0.0765649825334549,
          -0.3853156566619873,
          -0.04552573710680008,
          0.32581454515457153,
          -0.3738752603530884,
          0.07368600368499756,
          -0.23324456810951233,
          -0.10114005208015442,
          0.20851890742778778,
          -0.034206584095954895,
          -0.3770180940628052,
          -0.523211658000946,
          0.26800864934921265,
          -0.16767117381095886,
          0.06909006834030151,
          -0.2355964034795761,
          -0.13701686263084412,
          0.11947385966777802,
          0.49139195680618286,
          -0.5347527265548706,
          -0.14158329367637634,
          0.1546650528907776,
          0.13420815765857697,
          -0.027170278131961823,
          0.6904718279838562,
          -0.45335060358047485,
          -0.3409683108329773,
          0.14376255869865417,
          -0.27244555950164795,
          -0.33176398277282715,
          0.7032380700111389,
          -0.16524410247802734,
          -0.14763522148132324,
          0.4863179922103882,
          -0.30218279361724854,
          -0.4652412533760071,
          0.6452224254608154,
          -0.1265644133090973,
          0.23639072477817535,
          -0.10810871422290802,
          0.25120818614959717,
          -0.09176656603813171,
          -0.7938531637191772,
          0.08601188659667969,
          0.056381285190582275,
          0.3744955062866211,
          -0.2863805294036865,
          0.33947521448135376,
          -0.3569542169570923,
          0.37825512886047363,
          -0.34542667865753174,
          0.18284298479557037,
          0.10152028501033783,
          0.11436501145362854,
          0.504479706287384,
          -0.0718117281794548,
          0.049329936504364014,
          -0.4309890866279602,
          -0.28177857398986816,
          -0.31519919633865356,
          -0.10638874024152756,
          -0.006201587617397308,
          -0.25202056765556335,
          0.4229099154472351,
          0.21065209805965424,
          0.20696981251239777,
          -0.014107823371887207,
          -0.1328996866941452,
          -0.060243070125579834,
          -0.36574023962020874,
          -0.021952062845230103,
          0.1229303628206253,
          0.058783695101737976,
          -0.04636988788843155,
          -0.5570622086524963,
          -0.11294582486152649,
          0.5512331128120422,
          0.531328022480011,
          0.1308080106973648,
          0.040957123041152954,
          0.374190092086792,
          0.4754081964492798,
          -0.21484696865081787,
          0.10244235396385193,
          0.5775884985923767,
          0.628508985042572,
          -0.49024927616119385,
          -0.15139558911323547,
          0.035030998289585114,
          -0.021422408521175385,
          -0.0010655522346496582,
          -0.13414135575294495,
          0.06105044484138489,
          0.23918791115283966,
          -0.27467265725135803,
          -0.331432044506073,
          0.4260735511779785,
          0.669396162033081,
          0.5426777005195618,
          0.5599861741065979,
          0.3623683452606201,
          0.97258460521698,
          0.3863586187362671,
          0.002292349934577942,
          -0.45661526918411255,
          0.63270503282547,
          0.1575516164302826,
          0.06481833755970001,
          0.26825064420700073,
          -0.8458091020584106,
          0.04194726049900055,
          -0.25010955333709717,
          0.26888370513916016,
          0.06958772242069244,
          -0.3595520257949829,
          0.6243581175804138,
          0.5821986794471741,
          0.17046011984348297,
          0.00845693051815033,
          -0.7579336762428284,
          -0.19001613557338715,
          -0.08430444449186325
         ],
         "y": [
          0.19157755374908447,
          0.4498627185821533,
          0.3204815983772278,
          0.373915433883667,
          0.38084250688552856,
          0.7010331153869629,
          0.1937328577041626,
          0.531001091003418,
          0.38706034421920776,
          0.2251759171485901,
          0.24278974533081055,
          0.20508921146392822,
          0.2689301371574402,
          0.17623567581176758,
          0.19535470008850098,
          0.2617805600166321,
          0.1874713897705078,
          0.41178464889526367,
          0.19219672679901123,
          0.17550134658813477,
          0.22828972339630127,
          0.37442195415496826,
          0.9417415857315063,
          0.4289134740829468,
          0.1870630979537964,
          0.18699443340301514,
          0.21090489625930786,
          0.43012553453445435,
          0.20785915851593018,
          0.4401850700378418,
          0.3842148184776306,
          0.1861444115638733,
          0.17240124940872192,
          0.38125985860824585,
          0.18447113037109375,
          0.18592524528503418,
          0.2745847702026367,
          0.34417563676834106,
          0.4143992066383362,
          0.1611294150352478,
          0.20479083061218262,
          1.0457295179367065,
          0.2129780650138855,
          0.30906742811203003,
          0.3077116012573242,
          0.3891943097114563,
          0.41477811336517334,
          0.23342198133468628,
          0.1976870894432068,
          0.4747896194458008,
          0.3516755700111389,
          0.4209832549095154,
          0.2750890254974365,
          0.4184892773628235,
          0.18378561735153198,
          0.39000946283340454,
          0.4151560664176941,
          0.19984716176986694,
          0.4276294708251953,
          0.3820912837982178,
          0.3838573694229126,
          0.5165863037109375,
          0.38456475734710693,
          0.18728333711624146,
          0.2556377053260803,
          0.1951020359992981,
          0.6492205858230591,
          0.41995978355407715,
          0.5063252449035645,
          0.4263794422149658,
          0.38501250743865967,
          0.419161319732666,
          0.5907598733901978,
          0.2465878129005432,
          0.23250406980514526,
          0.42636120319366455,
          0.18910157680511475,
          0.2047296166419983,
          0.35051095485687256,
          0.19534027576446533,
          0.1898069977760315,
          0.1976568102836609,
          0.19676005840301514,
          0.2790257930755615,
          0.36793404817581177,
          0.6674849987030029,
          0.24746644496917725,
          0.21681922674179077,
          0.18866801261901855,
          1.1196562051773071,
          0.2650555372238159,
          0.18969273567199707,
          0.1790192723274231,
          0.3843740224838257,
          0.2047135829925537,
          0.38104474544525146,
          0.36648237705230713,
          0.20305615663528442,
          0.19301223754882812,
          0.25838208198547363,
          0.19811761379241943,
          0.1841830611228943,
          0.19425898790359497,
          0.4030839800834656,
          1.0424236059188843,
          0.197704017162323,
          0.42467623949050903,
          0.2133834958076477,
          0.3643101453781128,
          0.20926296710968018,
          0.5597469806671143,
          0.38031941652297974,
          0.21909070014953613,
          1.1265052556991577,
          0.378492534160614,
          0.3050249218940735,
          0.24650901556015015,
          0.1842702031135559,
          0.42744505405426025,
          0.18399375677108765,
          0.2747650146484375,
          1.0784169435501099,
          0.9726887941360474,
          0.45187854766845703,
          0.5582139492034912,
          0.191927969455719,
          0.38510143756866455,
          0.3867114782333374,
          0.8203904628753662,
          0.45108580589294434,
          0.21085745096206665,
          0.1837194561958313,
          0.37502384185791016,
          0.18985718488693237,
          0.4194984436035156,
          0.20543193817138672,
          0.2977633476257324,
          0.4106237292289734,
          0.18663859367370605,
          0.42507660388946533,
          0.19771689176559448,
          0.1851789951324463,
          0.20325720310211182,
          0.430728018283844,
          0.5407758951187134,
          0.23184645175933838,
          0.2682809829711914,
          0.19453072547912598,
          0.4148785471916199,
          0.24270790815353394,
          0.18614429235458374,
          0.399589478969574,
          0.6206537485122681,
          0.2369614839553833,
          0.19326633214950562,
          0.1850731372833252,
          0.20365095138549805,
          0.4589606523513794,
          0.3731735348701477,
          0.44033777713775635,
          0.2590780258178711,
          0.4169979691505432,
          0.3819020986557007,
          0.40110719203948975,
          0.23000997304916382,
          0.22027045488357544,
          0.36035680770874023,
          0.4215945601463318,
          0.6421575546264648,
          0.36037111282348633,
          0.2211797833442688,
          0.1968526840209961,
          0.20507967472076416,
          0.2106771469116211,
          0.19705599546432495,
          1.1899445056915283,
          0.17841720581054688,
          0.1967586874961853,
          0.27450424432754517,
          0.4150732159614563,
          0.3200722932815552,
          0.42397189140319824,
          0.36758995056152344,
          0.850689172744751,
          0.19102609157562256,
          0.19547617435455322,
          0.2512360215187073,
          0.38328397274017334,
          0.20003926753997803,
          0.19086498022079468,
          0.42743533849716187,
          0.43233561515808105,
          0.4257248044013977,
          0.20101016759872437,
          0.19292134046554565,
          0.41948896646499634,
          0.3753328323364258,
          0.17229163646697998,
          0.18861156702041626,
          0.1991349458694458,
          0.22886961698532104,
          0.20701980590820312,
          0.42746496200561523,
          0.33360207080841064,
          0.1862773895263672,
          0.20030111074447632,
          0.18926268815994263,
          0.5992469787597656,
          0.20266860723495483,
          0.3658212423324585,
          0.2786855101585388,
          0.23879766464233398,
          0.19892334938049316,
          0.36524438858032227,
          0.38266950845718384,
          0.38664114475250244,
          0.19149482250213623,
          0.4140087962150574,
          0.355487585067749,
          0.44503676891326904,
          0.2502857446670532,
          0.23806864023208618,
          0.1974036693572998,
          0.19464755058288574,
          0.3404009938240051,
          0.20031332969665527,
          0.2952577471733093,
          0.5567649602890015,
          0.4194337725639343,
          0.23281019926071167,
          0.5044518709182739,
          0.3827980160713196,
          0.3951844573020935,
          0.34711092710494995,
          0.9423991441726685,
          0.37256765365600586,
          0.1903722882270813,
          0.45490896701812744,
          0.3530304431915283,
          0.1895182728767395,
          0.18859082460403442,
          0.19608336687088013,
          1.1304429769515991,
          0.19564807415008545,
          0.4171528220176697,
          0.21964353322982788,
          0.18216216564178467,
          0.43621790409088135,
          0.3879570960998535,
          0.4172266125679016,
          0.25221168994903564,
          0.19780981540679932,
          1.098171591758728,
          0.29288250207901,
          0.19566690921783447
         ],
         "z": [
          -0.0002718366449698806,
          0.023649051785469055,
          0.06223152205348015,
          0.03983133286237717,
          0.3360820710659027,
          0.024553483352065086,
          0.2197052538394928,
          0.593902587890625,
          0.22486746311187744,
          0.23261107504367828,
          0.22141943871974945,
          0.15327246487140656,
          0.22908800840377808,
          0.34987571835517883,
          0.07209811359643936,
          0.06044425070285797,
          0.2796502709388733,
          0.1312718242406845,
          0.1746651828289032,
          -0.07532786577939987,
          -0.043077148497104645,
          -0.04687390848994255,
          0.17535163462162018,
          0.1393614262342453,
          0.06608080863952637,
          0.3160909414291382,
          0.10497894883155823,
          0.006540985777974129,
          0.34037938714027405,
          0.21388399600982666,
          0.0028341119177639484,
          -0.08514755219221115,
          -0.08527015894651413,
          0.2715999484062195,
          0.32242798805236816,
          0.06496196985244751,
          0.03656579926609993,
          -0.05992698296904564,
          -0.04584908112883568,
          -0.08484159409999847,
          -0.0020941244438290596,
          0.9852721095085144,
          0.3389154076576233,
          0.16374732553958893,
          -0.050788842141628265,
          0.3991239070892334,
          0.2419787496328354,
          0.3277859389781952,
          0.11859600991010666,
          -0.03068217635154724,
          -0.06253430247306824,
          0.09898361563682556,
          0.3244299292564392,
          0.03386486694216728,
          -0.07524486631155014,
          0.2381313443183899,
          -0.04204258695244789,
          0.04997287318110466,
          0.021662207320332527,
          0.2889964282512665,
          0.2433483898639679,
          0.22063659131526947,
          0.015632789582014084,
          0.3765106499195099,
          0.10647842288017273,
          0.23106375336647034,
          -0.021237775683403015,
          -0.009517863392829895,
          -0.04974425584077835,
          0.17198863625526428,
          0.39775773882865906,
          0.09728407114744186,
          0.4203072786331177,
          -0.042346417903900146,
          -0.048150211572647095,
          0.21488279104232788,
          0.31482747197151184,
          0.3843785226345062,
          -0.060862064361572266,
          0.10797402262687683,
          0.26030245423316956,
          0.0298143457621336,
          0.1986016184091568,
          0.03892975673079491,
          0.395002543926239,
          0.6979156136512756,
          -0.0750124603509903,
          -0.05097893998026848,
          0.0740133747458458,
          0.9599441885948181,
          -0.02001037821173668,
          0.20502881705760956,
          0.3953268527984619,
          0.0625850260257721,
          0.11482484638690948,
          0.08078201115131378,
          0.3458525240421295,
          0.07965343445539474,
          0.15016353130340576,
          0.10769743472337723,
          0.12172390520572662,
          -0.0732424408197403,
          0.2636104226112366,
          0.1458893120288849,
          0.9106087684631348,
          0.13937094807624817,
          -0.03906082361936569,
          0.09691791236400604,
          0.3758191764354706,
          -0.023503586649894714,
          0.4628056287765503,
          0.2861589789390564,
          0.2927509546279907,
          0.16234445571899414,
          0.4278720021247864,
          -0.008678117766976357,
          0.18825849890708923,
          0.07088897377252579,
          0.06868956983089447,
          -0.059418078511953354,
          0.3633618652820587,
          0.14278191328048706,
          0.10665813833475113,
          0.2892252206802368,
          0.049889691174030304,
          0.343152791261673,
          0.33129215240478516,
          0.025910943746566772,
          0.26468604803085327,
          0.012180984951555729,
          -0.049707673490047455,
          -0.0638483390212059,
          0.15474559366703033,
          -0.05706295371055603,
          0.33645308017730713,
          0.062631756067276,
          0.10908100008964539,
          -0.04990149661898613,
          0.30811381340026855,
          0.018454164266586304,
          -0.07027722150087357,
          0.29719194769859314,
          0.21100342273712158,
          0.03597626835107803,
          -0.03551154583692551,
          0.2886818051338196,
          0.10009627789258957,
          0.204005166888237,
          0.21088078618049622,
          0.040073659271001816,
          0.271277517080307,
          0.21908971667289734,
          -0.024945812299847603,
          0.18204817175865173,
          0.07132764905691147,
          -0.07622415572404861,
          0.12438112497329712,
          0.053631171584129333,
          -0.08069749176502228,
          0.09513230621814728,
          0.08513250946998596,
          0.20445318520069122,
          -0.08722859621047974,
          0.06882668286561966,
          0.3624884784221649,
          -0.07523225992918015,
          -0.0598449744284153,
          0.43507012724876404,
          0.25060099363327026,
          -0.034175340086221695,
          0.11003917455673218,
          0.26352569460868835,
          0.107688769698143,
          0.24373795092105865,
          0.10572163015604019,
          0.2756279706954956,
          0.3434392511844635,
          0.21674180030822754,
          -0.06803222000598907,
          0.31325244903564453,
          0.28139373660087585,
          0.38687166571617126,
          0.17337505519390106,
          0.5902113318443298,
          -0.04642607271671295,
          -0.0048914141952991486,
          0.20015782117843628,
          0.1175096407532692,
          0.378880113363266,
          0.4403284192085266,
          0.2995675504207611,
          -0.038331083953380585,
          0.04680294916033745,
          0.2241019755601883,
          0.301530122756958,
          0.19433893263339996,
          0.06619029492139816,
          -0.07333356142044067,
          0.19220870733261108,
          0.15835893154144287,
          0.135899618268013,
          0.038326751440763474,
          0.1834472417831421,
          0.07852331548929214,
          0.16858331859111786,
          -0.04417771100997925,
          0.31692585349082947,
          0.1534670889377594,
          -0.07028540223836899,
          -0.05683416128158569,
          -0.08656444400548935,
          0.046964358538389206,
          0.041028302162885666,
          0.22622311115264893,
          0.009048792533576488,
          0.29735109210014343,
          0.06738627701997757,
          0.047739192843437195,
          -0.03543904423713684,
          -0.04803150147199631,
          0.07394285500049591,
          0.10078983008861542,
          0.2730783522129059,
          0.023763133212924004,
          -0.06236683949828148,
          0.257958322763443,
          0.3300839960575104,
          0.3932863771915436,
          -0.04196670651435852,
          -0.09331128746271133,
          -0.0045061917044222355,
          0.2538135051727295,
          0.4133654236793518,
          0.13976329565048218,
          0.21190617978572845,
          0.19438554346561432,
          0.2964862585067749,
          0.28394800424575806,
          -0.040936555713415146,
          0.2443082332611084,
          0.30345502495765686,
          -0.07058586180210114,
          0.2558410167694092,
          0.10676764696836472,
          0.2328830510377884,
          0.0550263449549675,
          0.32875093817710876,
          0.0068526798859238625,
          -0.02746240422129631,
          0.4387229084968567,
          -0.037173010408878326,
          0.10203128308057785,
          0.152388796210289,
          0.4415939450263977,
          0.02701096422970295
         ]
        }
       ],
       "layout": {
        "template": {
         "data": {
          "bar": [
           {
            "error_x": {
             "color": "#2a3f5f"
            },
            "error_y": {
             "color": "#2a3f5f"
            },
            "marker": {
             "line": {
              "color": "#E5ECF6",
              "width": 0.5
             },
             "pattern": {
              "fillmode": "overlay",
              "size": 10,
              "solidity": 0.2
             }
            },
            "type": "bar"
           }
          ],
          "barpolar": [
           {
            "marker": {
             "line": {
              "color": "#E5ECF6",
              "width": 0.5
             },
             "pattern": {
              "fillmode": "overlay",
              "size": 10,
              "solidity": 0.2
             }
            },
            "type": "barpolar"
           }
          ],
          "carpet": [
           {
            "aaxis": {
             "endlinecolor": "#2a3f5f",
             "gridcolor": "white",
             "linecolor": "white",
             "minorgridcolor": "white",
             "startlinecolor": "#2a3f5f"
            },
            "baxis": {
             "endlinecolor": "#2a3f5f",
             "gridcolor": "white",
             "linecolor": "white",
             "minorgridcolor": "white",
             "startlinecolor": "#2a3f5f"
            },
            "type": "carpet"
           }
          ],
          "choropleth": [
           {
            "colorbar": {
             "outlinewidth": 0,
             "ticks": ""
            },
            "type": "choropleth"
           }
          ],
          "contour": [
           {
            "colorbar": {
             "outlinewidth": 0,
             "ticks": ""
            },
            "colorscale": [
             [
              0,
              "#0d0887"
             ],
             [
              0.1111111111111111,
              "#46039f"
             ],
             [
              0.2222222222222222,
              "#7201a8"
             ],
             [
              0.3333333333333333,
              "#9c179e"
             ],
             [
              0.4444444444444444,
              "#bd3786"
             ],
             [
              0.5555555555555556,
              "#d8576b"
             ],
             [
              0.6666666666666666,
              "#ed7953"
             ],
             [
              0.7777777777777778,
              "#fb9f3a"
             ],
             [
              0.8888888888888888,
              "#fdca26"
             ],
             [
              1,
              "#f0f921"
             ]
            ],
            "type": "contour"
           }
          ],
          "contourcarpet": [
           {
            "colorbar": {
             "outlinewidth": 0,
             "ticks": ""
            },
            "type": "contourcarpet"
           }
          ],
          "heatmap": [
           {
            "colorbar": {
             "outlinewidth": 0,
             "ticks": ""
            },
            "colorscale": [
             [
              0,
              "#0d0887"
             ],
             [
              0.1111111111111111,
              "#46039f"
             ],
             [
              0.2222222222222222,
              "#7201a8"
             ],
             [
              0.3333333333333333,
              "#9c179e"
             ],
             [
              0.4444444444444444,
              "#bd3786"
             ],
             [
              0.5555555555555556,
              "#d8576b"
             ],
             [
              0.6666666666666666,
              "#ed7953"
             ],
             [
              0.7777777777777778,
              "#fb9f3a"
             ],
             [
              0.8888888888888888,
              "#fdca26"
             ],
             [
              1,
              "#f0f921"
             ]
            ],
            "type": "heatmap"
           }
          ],
          "heatmapgl": [
           {
            "colorbar": {
             "outlinewidth": 0,
             "ticks": ""
            },
            "colorscale": [
             [
              0,
              "#0d0887"
             ],
             [
              0.1111111111111111,
              "#46039f"
             ],
             [
              0.2222222222222222,
              "#7201a8"
             ],
             [
              0.3333333333333333,
              "#9c179e"
             ],
             [
              0.4444444444444444,
              "#bd3786"
             ],
             [
              0.5555555555555556,
              "#d8576b"
             ],
             [
              0.6666666666666666,
              "#ed7953"
             ],
             [
              0.7777777777777778,
              "#fb9f3a"
             ],
             [
              0.8888888888888888,
              "#fdca26"
             ],
             [
              1,
              "#f0f921"
             ]
            ],
            "type": "heatmapgl"
           }
          ],
          "histogram": [
           {
            "marker": {
             "pattern": {
              "fillmode": "overlay",
              "size": 10,
              "solidity": 0.2
             }
            },
            "type": "histogram"
           }
          ],
          "histogram2d": [
           {
            "colorbar": {
             "outlinewidth": 0,
             "ticks": ""
            },
            "colorscale": [
             [
              0,
              "#0d0887"
             ],
             [
              0.1111111111111111,
              "#46039f"
             ],
             [
              0.2222222222222222,
              "#7201a8"
             ],
             [
              0.3333333333333333,
              "#9c179e"
             ],
             [
              0.4444444444444444,
              "#bd3786"
             ],
             [
              0.5555555555555556,
              "#d8576b"
             ],
             [
              0.6666666666666666,
              "#ed7953"
             ],
             [
              0.7777777777777778,
              "#fb9f3a"
             ],
             [
              0.8888888888888888,
              "#fdca26"
             ],
             [
              1,
              "#f0f921"
             ]
            ],
            "type": "histogram2d"
           }
          ],
          "histogram2dcontour": [
           {
            "colorbar": {
             "outlinewidth": 0,
             "ticks": ""
            },
            "colorscale": [
             [
              0,
              "#0d0887"
             ],
             [
              0.1111111111111111,
              "#46039f"
             ],
             [
              0.2222222222222222,
              "#7201a8"
             ],
             [
              0.3333333333333333,
              "#9c179e"
             ],
             [
              0.4444444444444444,
              "#bd3786"
             ],
             [
              0.5555555555555556,
              "#d8576b"
             ],
             [
              0.6666666666666666,
              "#ed7953"
             ],
             [
              0.7777777777777778,
              "#fb9f3a"
             ],
             [
              0.8888888888888888,
              "#fdca26"
             ],
             [
              1,
              "#f0f921"
             ]
            ],
            "type": "histogram2dcontour"
           }
          ],
          "mesh3d": [
           {
            "colorbar": {
             "outlinewidth": 0,
             "ticks": ""
            },
            "type": "mesh3d"
           }
          ],
          "parcoords": [
           {
            "line": {
             "colorbar": {
              "outlinewidth": 0,
              "ticks": ""
             }
            },
            "type": "parcoords"
           }
          ],
          "pie": [
           {
            "automargin": true,
            "type": "pie"
           }
          ],
          "scatter": [
           {
            "fillpattern": {
             "fillmode": "overlay",
             "size": 10,
             "solidity": 0.2
            },
            "type": "scatter"
           }
          ],
          "scatter3d": [
           {
            "line": {
             "colorbar": {
              "outlinewidth": 0,
              "ticks": ""
             }
            },
            "marker": {
             "colorbar": {
              "outlinewidth": 0,
              "ticks": ""
             }
            },
            "type": "scatter3d"
           }
          ],
          "scattercarpet": [
           {
            "marker": {
             "colorbar": {
              "outlinewidth": 0,
              "ticks": ""
             }
            },
            "type": "scattercarpet"
           }
          ],
          "scattergeo": [
           {
            "marker": {
             "colorbar": {
              "outlinewidth": 0,
              "ticks": ""
             }
            },
            "type": "scattergeo"
           }
          ],
          "scattergl": [
           {
            "marker": {
             "colorbar": {
              "outlinewidth": 0,
              "ticks": ""
             }
            },
            "type": "scattergl"
           }
          ],
          "scattermapbox": [
           {
            "marker": {
             "colorbar": {
              "outlinewidth": 0,
              "ticks": ""
             }
            },
            "type": "scattermapbox"
           }
          ],
          "scatterpolar": [
           {
            "marker": {
             "colorbar": {
              "outlinewidth": 0,
              "ticks": ""
             }
            },
            "type": "scatterpolar"
           }
          ],
          "scatterpolargl": [
           {
            "marker": {
             "colorbar": {
              "outlinewidth": 0,
              "ticks": ""
             }
            },
            "type": "scatterpolargl"
           }
          ],
          "scatterternary": [
           {
            "marker": {
             "colorbar": {
              "outlinewidth": 0,
              "ticks": ""
             }
            },
            "type": "scatterternary"
           }
          ],
          "surface": [
           {
            "colorbar": {
             "outlinewidth": 0,
             "ticks": ""
            },
            "colorscale": [
             [
              0,
              "#0d0887"
             ],
             [
              0.1111111111111111,
              "#46039f"
             ],
             [
              0.2222222222222222,
              "#7201a8"
             ],
             [
              0.3333333333333333,
              "#9c179e"
             ],
             [
              0.4444444444444444,
              "#bd3786"
             ],
             [
              0.5555555555555556,
              "#d8576b"
             ],
             [
              0.6666666666666666,
              "#ed7953"
             ],
             [
              0.7777777777777778,
              "#fb9f3a"
             ],
             [
              0.8888888888888888,
              "#fdca26"
             ],
             [
              1,
              "#f0f921"
             ]
            ],
            "type": "surface"
           }
          ],
          "table": [
           {
            "cells": {
             "fill": {
              "color": "#EBF0F8"
             },
             "line": {
              "color": "white"
             }
            },
            "header": {
             "fill": {
              "color": "#C8D4E3"
             },
             "line": {
              "color": "white"
             }
            },
            "type": "table"
           }
          ]
         },
         "layout": {
          "annotationdefaults": {
           "arrowcolor": "#2a3f5f",
           "arrowhead": 0,
           "arrowwidth": 1
          },
          "autotypenumbers": "strict",
          "coloraxis": {
           "colorbar": {
            "outlinewidth": 0,
            "ticks": ""
           }
          },
          "colorscale": {
           "diverging": [
            [
             0,
             "#8e0152"
            ],
            [
             0.1,
             "#c51b7d"
            ],
            [
             0.2,
             "#de77ae"
            ],
            [
             0.3,
             "#f1b6da"
            ],
            [
             0.4,
             "#fde0ef"
            ],
            [
             0.5,
             "#f7f7f7"
            ],
            [
             0.6,
             "#e6f5d0"
            ],
            [
             0.7,
             "#b8e186"
            ],
            [
             0.8,
             "#7fbc41"
            ],
            [
             0.9,
             "#4d9221"
            ],
            [
             1,
             "#276419"
            ]
           ],
           "sequential": [
            [
             0,
             "#0d0887"
            ],
            [
             0.1111111111111111,
             "#46039f"
            ],
            [
             0.2222222222222222,
             "#7201a8"
            ],
            [
             0.3333333333333333,
             "#9c179e"
            ],
            [
             0.4444444444444444,
             "#bd3786"
            ],
            [
             0.5555555555555556,
             "#d8576b"
            ],
            [
             0.6666666666666666,
             "#ed7953"
            ],
            [
             0.7777777777777778,
             "#fb9f3a"
            ],
            [
             0.8888888888888888,
             "#fdca26"
            ],
            [
             1,
             "#f0f921"
            ]
           ],
           "sequentialminus": [
            [
             0,
             "#0d0887"
            ],
            [
             0.1111111111111111,
             "#46039f"
            ],
            [
             0.2222222222222222,
             "#7201a8"
            ],
            [
             0.3333333333333333,
             "#9c179e"
            ],
            [
             0.4444444444444444,
             "#bd3786"
            ],
            [
             0.5555555555555556,
             "#d8576b"
            ],
            [
             0.6666666666666666,
             "#ed7953"
            ],
            [
             0.7777777777777778,
             "#fb9f3a"
            ],
            [
             0.8888888888888888,
             "#fdca26"
            ],
            [
             1,
             "#f0f921"
            ]
           ]
          },
          "colorway": [
           "#636efa",
           "#EF553B",
           "#00cc96",
           "#ab63fa",
           "#FFA15A",
           "#19d3f3",
           "#FF6692",
           "#B6E880",
           "#FF97FF",
           "#FECB52"
          ],
          "font": {
           "color": "#2a3f5f"
          },
          "geo": {
           "bgcolor": "white",
           "lakecolor": "white",
           "landcolor": "#E5ECF6",
           "showlakes": true,
           "showland": true,
           "subunitcolor": "white"
          },
          "hoverlabel": {
           "align": "left"
          },
          "hovermode": "closest",
          "mapbox": {
           "style": "light"
          },
          "paper_bgcolor": "white",
          "plot_bgcolor": "#E5ECF6",
          "polar": {
           "angularaxis": {
            "gridcolor": "white",
            "linecolor": "white",
            "ticks": ""
           },
           "bgcolor": "#E5ECF6",
           "radialaxis": {
            "gridcolor": "white",
            "linecolor": "white",
            "ticks": ""
           }
          },
          "scene": {
           "xaxis": {
            "backgroundcolor": "#E5ECF6",
            "gridcolor": "white",
            "gridwidth": 2,
            "linecolor": "white",
            "showbackground": true,
            "ticks": "",
            "zerolinecolor": "white"
           },
           "yaxis": {
            "backgroundcolor": "#E5ECF6",
            "gridcolor": "white",
            "gridwidth": 2,
            "linecolor": "white",
            "showbackground": true,
            "ticks": "",
            "zerolinecolor": "white"
           },
           "zaxis": {
            "backgroundcolor": "#E5ECF6",
            "gridcolor": "white",
            "gridwidth": 2,
            "linecolor": "white",
            "showbackground": true,
            "ticks": "",
            "zerolinecolor": "white"
           }
          },
          "shapedefaults": {
           "line": {
            "color": "#2a3f5f"
           }
          },
          "ternary": {
           "aaxis": {
            "gridcolor": "white",
            "linecolor": "white",
            "ticks": ""
           },
           "baxis": {
            "gridcolor": "white",
            "linecolor": "white",
            "ticks": ""
           },
           "bgcolor": "#E5ECF6",
           "caxis": {
            "gridcolor": "white",
            "linecolor": "white",
            "ticks": ""
           }
          },
          "title": {
           "x": 0.05
          },
          "xaxis": {
           "automargin": true,
           "gridcolor": "white",
           "linecolor": "white",
           "ticks": "",
           "title": {
            "standoff": 15
           },
           "zerolinecolor": "white",
           "zerolinewidth": 2
          },
          "yaxis": {
           "automargin": true,
           "gridcolor": "white",
           "linecolor": "white",
           "ticks": "",
           "title": {
            "standoff": 15
           },
           "zerolinecolor": "white",
           "zerolinewidth": 2
          }
         }
        }
       }
      },
      "text/html": [
       "<div>                            <div id=\"4d60eb5c-a2de-437a-ae2d-99fea0505440\" class=\"plotly-graph-div\" style=\"height:525px; width:100%;\"></div>            <script type=\"text/javascript\">                require([\"plotly\"], function(Plotly) {                    window.PLOTLYENV=window.PLOTLYENV || {};                                    if (document.getElementById(\"4d60eb5c-a2de-437a-ae2d-99fea0505440\")) {                    Plotly.newPlot(                        \"4d60eb5c-a2de-437a-ae2d-99fea0505440\",                        [{\"mode\":\"markers\",\"x\":[0.005368225276470184,-0.43326449394226074,0.3488714098930359,0.4174700975418091,0.4111921787261963,-0.5974388718605042,0.10036088526248932,0.4216039776802063,0.5216452479362488,0.009850919246673584,0.28181445598602295,-0.0544375516474247,-0.1718299835920334,0.1714927703142166,0.16884677112102509,-0.019300147891044617,0.16709227859973907,-0.21382467448711395,0.1152222603559494,0.03298716992139816,0.04517011344432831,0.5394030809402466,1.105862021446228,-0.3551684021949768,0.1143408864736557,0.04452286660671234,0.048326119780540466,-0.24750199913978577,-0.13175900280475616,0.5170236825942993,0.6623669862747192,0.27482277154922485,0.09605991840362549,0.43709421157836914,0.05907110869884491,0.13402947783470154,0.15505243837833405,0.4321802258491516,-0.2316828966140747,0.0995161384344101,0.04866465926170349,0.05871579051017761,0.2673463821411133,0.17551545798778534,0.3826826214790344,0.4298781752586365,-0.27900248765945435,-0.14727142453193665,0.02493683248758316,-0.38865792751312256,0.5818827748298645,0.571126401424408,0.23458074033260345,-0.2978771924972534,0.2533397674560547,0.4921305775642395,-0.2207978218793869,0.07573676109313965,-0.25504738092422485,0.4365593194961548,0.5393816232681274,0.6541721224784851,0.518351674079895,0.1166609674692154,0.2943626046180725,-0.004774510860443115,-0.5879054069519043,-0.2907682955265045,-0.5260509848594666,-0.4035753011703491,0.48216718435287476,-0.23841027915477753,-0.5268044471740723,0.31880712509155273,-0.12237755954265594,-0.3790249228477478,-0.02804321050643921,0.008126795291900635,0.5864485502243042,0.18951515853405,0.19076471030712128,0.09107480943202972,0.03499838709831238,0.045890599489212036,0.38694947957992554,0.08105319738388062,0.3634464144706726,-0.10962393134832382,0.20408739149570465,0.03681664913892746,-0.13884782791137695,0.13917599618434906,0.22654877603054047,0.45221811532974243,0.06251239776611328,0.439436674118042,0.38590914011001587,-0.07157106697559357,0.07906310260295868,-0.09278146922588348,0.025087371468544006,0.23537124693393707,0.021325163543224335,-0.21525658667087555,0.11983262002468109,0.03407265245914459,-0.32622477412223816,-0.12070535868406296,0.3884837031364441,0.12533038854599,-0.3089149594306946,0.42432987689971924,-0.06520840525627136,-0.757300615310669,0.5347779393196106,0.23827682435512543,-0.1510070264339447,0.12237673997879028,0.5846851468086243,0.1544206738471985,-0.18169540166854858,-0.8126741647720337,-0.6156901717185974,-0.45524829626083374,0.7420243620872498,-0.12326550483703613,0.4885827898979187,0.4835658669471741,-0.6146916747093201,-0.3271164894104004,-0.09611736238002777,0.002257019281387329,0.4003676772117615,0.0765649825334549,-0.3853156566619873,-0.04552573710680008,0.32581454515457153,-0.3738752603530884,0.07368600368499756,-0.23324456810951233,-0.10114005208015442,0.20851890742778778,-0.034206584095954895,-0.3770180940628052,-0.523211658000946,0.26800864934921265,-0.16767117381095886,0.06909006834030151,-0.2355964034795761,-0.13701686263084412,0.11947385966777802,0.49139195680618286,-0.5347527265548706,-0.14158329367637634,0.1546650528907776,0.13420815765857697,-0.027170278131961823,0.6904718279838562,-0.45335060358047485,-0.3409683108329773,0.14376255869865417,-0.27244555950164795,-0.33176398277282715,0.7032380700111389,-0.16524410247802734,-0.14763522148132324,0.4863179922103882,-0.30218279361724854,-0.4652412533760071,0.6452224254608154,-0.1265644133090973,0.23639072477817535,-0.10810871422290802,0.25120818614959717,-0.09176656603813171,-0.7938531637191772,0.08601188659667969,0.056381285190582275,0.3744955062866211,-0.2863805294036865,0.33947521448135376,-0.3569542169570923,0.37825512886047363,-0.34542667865753174,0.18284298479557037,0.10152028501033783,0.11436501145362854,0.504479706287384,-0.0718117281794548,0.049329936504364014,-0.4309890866279602,-0.28177857398986816,-0.31519919633865356,-0.10638874024152756,-0.006201587617397308,-0.25202056765556335,0.4229099154472351,0.21065209805965424,0.20696981251239777,-0.014107823371887207,-0.1328996866941452,-0.060243070125579834,-0.36574023962020874,-0.021952062845230103,0.1229303628206253,0.058783695101737976,-0.04636988788843155,-0.5570622086524963,-0.11294582486152649,0.5512331128120422,0.531328022480011,0.1308080106973648,0.040957123041152954,0.374190092086792,0.4754081964492798,-0.21484696865081787,0.10244235396385193,0.5775884985923767,0.628508985042572,-0.49024927616119385,-0.15139558911323547,0.035030998289585114,-0.021422408521175385,-0.0010655522346496582,-0.13414135575294495,0.06105044484138489,0.23918791115283966,-0.27467265725135803,-0.331432044506073,0.4260735511779785,0.669396162033081,0.5426777005195618,0.5599861741065979,0.3623683452606201,0.97258460521698,0.3863586187362671,0.002292349934577942,-0.45661526918411255,0.63270503282547,0.1575516164302826,0.06481833755970001,0.26825064420700073,-0.8458091020584106,0.04194726049900055,-0.25010955333709717,0.26888370513916016,0.06958772242069244,-0.3595520257949829,0.6243581175804138,0.5821986794471741,0.17046011984348297,0.00845693051815033,-0.7579336762428284,-0.19001613557338715,-0.08430444449186325],\"y\":[0.19157755374908447,0.4498627185821533,0.3204815983772278,0.373915433883667,0.38084250688552856,0.7010331153869629,0.1937328577041626,0.531001091003418,0.38706034421920776,0.2251759171485901,0.24278974533081055,0.20508921146392822,0.2689301371574402,0.17623567581176758,0.19535470008850098,0.2617805600166321,0.1874713897705078,0.41178464889526367,0.19219672679901123,0.17550134658813477,0.22828972339630127,0.37442195415496826,0.9417415857315063,0.4289134740829468,0.1870630979537964,0.18699443340301514,0.21090489625930786,0.43012553453445435,0.20785915851593018,0.4401850700378418,0.3842148184776306,0.1861444115638733,0.17240124940872192,0.38125985860824585,0.18447113037109375,0.18592524528503418,0.2745847702026367,0.34417563676834106,0.4143992066383362,0.1611294150352478,0.20479083061218262,1.0457295179367065,0.2129780650138855,0.30906742811203003,0.3077116012573242,0.3891943097114563,0.41477811336517334,0.23342198133468628,0.1976870894432068,0.4747896194458008,0.3516755700111389,0.4209832549095154,0.2750890254974365,0.4184892773628235,0.18378561735153198,0.39000946283340454,0.4151560664176941,0.19984716176986694,0.4276294708251953,0.3820912837982178,0.3838573694229126,0.5165863037109375,0.38456475734710693,0.18728333711624146,0.2556377053260803,0.1951020359992981,0.6492205858230591,0.41995978355407715,0.5063252449035645,0.4263794422149658,0.38501250743865967,0.419161319732666,0.5907598733901978,0.2465878129005432,0.23250406980514526,0.42636120319366455,0.18910157680511475,0.2047296166419983,0.35051095485687256,0.19534027576446533,0.1898069977760315,0.1976568102836609,0.19676005840301514,0.2790257930755615,0.36793404817581177,0.6674849987030029,0.24746644496917725,0.21681922674179077,0.18866801261901855,1.1196562051773071,0.2650555372238159,0.18969273567199707,0.1790192723274231,0.3843740224838257,0.2047135829925537,0.38104474544525146,0.36648237705230713,0.20305615663528442,0.19301223754882812,0.25838208198547363,0.19811761379241943,0.1841830611228943,0.19425898790359497,0.4030839800834656,1.0424236059188843,0.197704017162323,0.42467623949050903,0.2133834958076477,0.3643101453781128,0.20926296710968018,0.5597469806671143,0.38031941652297974,0.21909070014953613,1.1265052556991577,0.378492534160614,0.3050249218940735,0.24650901556015015,0.1842702031135559,0.42744505405426025,0.18399375677108765,0.2747650146484375,1.0784169435501099,0.9726887941360474,0.45187854766845703,0.5582139492034912,0.191927969455719,0.38510143756866455,0.3867114782333374,0.8203904628753662,0.45108580589294434,0.21085745096206665,0.1837194561958313,0.37502384185791016,0.18985718488693237,0.4194984436035156,0.20543193817138672,0.2977633476257324,0.4106237292289734,0.18663859367370605,0.42507660388946533,0.19771689176559448,0.1851789951324463,0.20325720310211182,0.430728018283844,0.5407758951187134,0.23184645175933838,0.2682809829711914,0.19453072547912598,0.4148785471916199,0.24270790815353394,0.18614429235458374,0.399589478969574,0.6206537485122681,0.2369614839553833,0.19326633214950562,0.1850731372833252,0.20365095138549805,0.4589606523513794,0.3731735348701477,0.44033777713775635,0.2590780258178711,0.4169979691505432,0.3819020986557007,0.40110719203948975,0.23000997304916382,0.22027045488357544,0.36035680770874023,0.4215945601463318,0.6421575546264648,0.36037111282348633,0.2211797833442688,0.1968526840209961,0.20507967472076416,0.2106771469116211,0.19705599546432495,1.1899445056915283,0.17841720581054688,0.1967586874961853,0.27450424432754517,0.4150732159614563,0.3200722932815552,0.42397189140319824,0.36758995056152344,0.850689172744751,0.19102609157562256,0.19547617435455322,0.2512360215187073,0.38328397274017334,0.20003926753997803,0.19086498022079468,0.42743533849716187,0.43233561515808105,0.4257248044013977,0.20101016759872437,0.19292134046554565,0.41948896646499634,0.3753328323364258,0.17229163646697998,0.18861156702041626,0.1991349458694458,0.22886961698532104,0.20701980590820312,0.42746496200561523,0.33360207080841064,0.1862773895263672,0.20030111074447632,0.18926268815994263,0.5992469787597656,0.20266860723495483,0.3658212423324585,0.2786855101585388,0.23879766464233398,0.19892334938049316,0.36524438858032227,0.38266950845718384,0.38664114475250244,0.19149482250213623,0.4140087962150574,0.355487585067749,0.44503676891326904,0.2502857446670532,0.23806864023208618,0.1974036693572998,0.19464755058288574,0.3404009938240051,0.20031332969665527,0.2952577471733093,0.5567649602890015,0.4194337725639343,0.23281019926071167,0.5044518709182739,0.3827980160713196,0.3951844573020935,0.34711092710494995,0.9423991441726685,0.37256765365600586,0.1903722882270813,0.45490896701812744,0.3530304431915283,0.1895182728767395,0.18859082460403442,0.19608336687088013,1.1304429769515991,0.19564807415008545,0.4171528220176697,0.21964353322982788,0.18216216564178467,0.43621790409088135,0.3879570960998535,0.4172266125679016,0.25221168994903564,0.19780981540679932,1.098171591758728,0.29288250207901,0.19566690921783447],\"z\":[-0.0002718366449698806,0.023649051785469055,0.06223152205348015,0.03983133286237717,0.3360820710659027,0.024553483352065086,0.2197052538394928,0.593902587890625,0.22486746311187744,0.23261107504367828,0.22141943871974945,0.15327246487140656,0.22908800840377808,0.34987571835517883,0.07209811359643936,0.06044425070285797,0.2796502709388733,0.1312718242406845,0.1746651828289032,-0.07532786577939987,-0.043077148497104645,-0.04687390848994255,0.17535163462162018,0.1393614262342453,0.06608080863952637,0.3160909414291382,0.10497894883155823,0.006540985777974129,0.34037938714027405,0.21388399600982666,0.0028341119177639484,-0.08514755219221115,-0.08527015894651413,0.2715999484062195,0.32242798805236816,0.06496196985244751,0.03656579926609993,-0.05992698296904564,-0.04584908112883568,-0.08484159409999847,-0.0020941244438290596,0.9852721095085144,0.3389154076576233,0.16374732553958893,-0.050788842141628265,0.3991239070892334,0.2419787496328354,0.3277859389781952,0.11859600991010666,-0.03068217635154724,-0.06253430247306824,0.09898361563682556,0.3244299292564392,0.03386486694216728,-0.07524486631155014,0.2381313443183899,-0.04204258695244789,0.04997287318110466,0.021662207320332527,0.2889964282512665,0.2433483898639679,0.22063659131526947,0.015632789582014084,0.3765106499195099,0.10647842288017273,0.23106375336647034,-0.021237775683403015,-0.009517863392829895,-0.04974425584077835,0.17198863625526428,0.39775773882865906,0.09728407114744186,0.4203072786331177,-0.042346417903900146,-0.048150211572647095,0.21488279104232788,0.31482747197151184,0.3843785226345062,-0.060862064361572266,0.10797402262687683,0.26030245423316956,0.0298143457621336,0.1986016184091568,0.03892975673079491,0.395002543926239,0.6979156136512756,-0.0750124603509903,-0.05097893998026848,0.0740133747458458,0.9599441885948181,-0.02001037821173668,0.20502881705760956,0.3953268527984619,0.0625850260257721,0.11482484638690948,0.08078201115131378,0.3458525240421295,0.07965343445539474,0.15016353130340576,0.10769743472337723,0.12172390520572662,-0.0732424408197403,0.2636104226112366,0.1458893120288849,0.9106087684631348,0.13937094807624817,-0.03906082361936569,0.09691791236400604,0.3758191764354706,-0.023503586649894714,0.4628056287765503,0.2861589789390564,0.2927509546279907,0.16234445571899414,0.4278720021247864,-0.008678117766976357,0.18825849890708923,0.07088897377252579,0.06868956983089447,-0.059418078511953354,0.3633618652820587,0.14278191328048706,0.10665813833475113,0.2892252206802368,0.049889691174030304,0.343152791261673,0.33129215240478516,0.025910943746566772,0.26468604803085327,0.012180984951555729,-0.049707673490047455,-0.0638483390212059,0.15474559366703033,-0.05706295371055603,0.33645308017730713,0.062631756067276,0.10908100008964539,-0.04990149661898613,0.30811381340026855,0.018454164266586304,-0.07027722150087357,0.29719194769859314,0.21100342273712158,0.03597626835107803,-0.03551154583692551,0.2886818051338196,0.10009627789258957,0.204005166888237,0.21088078618049622,0.040073659271001816,0.271277517080307,0.21908971667289734,-0.024945812299847603,0.18204817175865173,0.07132764905691147,-0.07622415572404861,0.12438112497329712,0.053631171584129333,-0.08069749176502228,0.09513230621814728,0.08513250946998596,0.20445318520069122,-0.08722859621047974,0.06882668286561966,0.3624884784221649,-0.07523225992918015,-0.0598449744284153,0.43507012724876404,0.25060099363327026,-0.034175340086221695,0.11003917455673218,0.26352569460868835,0.107688769698143,0.24373795092105865,0.10572163015604019,0.2756279706954956,0.3434392511844635,0.21674180030822754,-0.06803222000598907,0.31325244903564453,0.28139373660087585,0.38687166571617126,0.17337505519390106,0.5902113318443298,-0.04642607271671295,-0.0048914141952991486,0.20015782117843628,0.1175096407532692,0.378880113363266,0.4403284192085266,0.2995675504207611,-0.038331083953380585,0.04680294916033745,0.2241019755601883,0.301530122756958,0.19433893263339996,0.06619029492139816,-0.07333356142044067,0.19220870733261108,0.15835893154144287,0.135899618268013,0.038326751440763474,0.1834472417831421,0.07852331548929214,0.16858331859111786,-0.04417771100997925,0.31692585349082947,0.1534670889377594,-0.07028540223836899,-0.05683416128158569,-0.08656444400548935,0.046964358538389206,0.041028302162885666,0.22622311115264893,0.009048792533576488,0.29735109210014343,0.06738627701997757,0.047739192843437195,-0.03543904423713684,-0.04803150147199631,0.07394285500049591,0.10078983008861542,0.2730783522129059,0.023763133212924004,-0.06236683949828148,0.257958322763443,0.3300839960575104,0.3932863771915436,-0.04196670651435852,-0.09331128746271133,-0.0045061917044222355,0.2538135051727295,0.4133654236793518,0.13976329565048218,0.21190617978572845,0.19438554346561432,0.2964862585067749,0.28394800424575806,-0.040936555713415146,0.2443082332611084,0.30345502495765686,-0.07058586180210114,0.2558410167694092,0.10676764696836472,0.2328830510377884,0.0550263449549675,0.32875093817710876,0.0068526798859238625,-0.02746240422129631,0.4387229084968567,-0.037173010408878326,0.10203128308057785,0.152388796210289,0.4415939450263977,0.02701096422970295],\"type\":\"scatter3d\"}],                        {\"template\":{\"data\":{\"histogram2dcontour\":[{\"type\":\"histogram2dcontour\",\"colorbar\":{\"outlinewidth\":0,\"ticks\":\"\"},\"colorscale\":[[0.0,\"#0d0887\"],[0.1111111111111111,\"#46039f\"],[0.2222222222222222,\"#7201a8\"],[0.3333333333333333,\"#9c179e\"],[0.4444444444444444,\"#bd3786\"],[0.5555555555555556,\"#d8576b\"],[0.6666666666666666,\"#ed7953\"],[0.7777777777777778,\"#fb9f3a\"],[0.8888888888888888,\"#fdca26\"],[1.0,\"#f0f921\"]]}],\"choropleth\":[{\"type\":\"choropleth\",\"colorbar\":{\"outlinewidth\":0,\"ticks\":\"\"}}],\"histogram2d\":[{\"type\":\"histogram2d\",\"colorbar\":{\"outlinewidth\":0,\"ticks\":\"\"},\"colorscale\":[[0.0,\"#0d0887\"],[0.1111111111111111,\"#46039f\"],[0.2222222222222222,\"#7201a8\"],[0.3333333333333333,\"#9c179e\"],[0.4444444444444444,\"#bd3786\"],[0.5555555555555556,\"#d8576b\"],[0.6666666666666666,\"#ed7953\"],[0.7777777777777778,\"#fb9f3a\"],[0.8888888888888888,\"#fdca26\"],[1.0,\"#f0f921\"]]}],\"heatmap\":[{\"type\":\"heatmap\",\"colorbar\":{\"outlinewidth\":0,\"ticks\":\"\"},\"colorscale\":[[0.0,\"#0d0887\"],[0.1111111111111111,\"#46039f\"],[0.2222222222222222,\"#7201a8\"],[0.3333333333333333,\"#9c179e\"],[0.4444444444444444,\"#bd3786\"],[0.5555555555555556,\"#d8576b\"],[0.6666666666666666,\"#ed7953\"],[0.7777777777777778,\"#fb9f3a\"],[0.8888888888888888,\"#fdca26\"],[1.0,\"#f0f921\"]]}],\"heatmapgl\":[{\"type\":\"heatmapgl\",\"colorbar\":{\"outlinewidth\":0,\"ticks\":\"\"},\"colorscale\":[[0.0,\"#0d0887\"],[0.1111111111111111,\"#46039f\"],[0.2222222222222222,\"#7201a8\"],[0.3333333333333333,\"#9c179e\"],[0.4444444444444444,\"#bd3786\"],[0.5555555555555556,\"#d8576b\"],[0.6666666666666666,\"#ed7953\"],[0.7777777777777778,\"#fb9f3a\"],[0.8888888888888888,\"#fdca26\"],[1.0,\"#f0f921\"]]}],\"contourcarpet\":[{\"type\":\"contourcarpet\",\"colorbar\":{\"outlinewidth\":0,\"ticks\":\"\"}}],\"contour\":[{\"type\":\"contour\",\"colorbar\":{\"outlinewidth\":0,\"ticks\":\"\"},\"colorscale\":[[0.0,\"#0d0887\"],[0.1111111111111111,\"#46039f\"],[0.2222222222222222,\"#7201a8\"],[0.3333333333333333,\"#9c179e\"],[0.4444444444444444,\"#bd3786\"],[0.5555555555555556,\"#d8576b\"],[0.6666666666666666,\"#ed7953\"],[0.7777777777777778,\"#fb9f3a\"],[0.8888888888888888,\"#fdca26\"],[1.0,\"#f0f921\"]]}],\"surface\":[{\"type\":\"surface\",\"colorbar\":{\"outlinewidth\":0,\"ticks\":\"\"},\"colorscale\":[[0.0,\"#0d0887\"],[0.1111111111111111,\"#46039f\"],[0.2222222222222222,\"#7201a8\"],[0.3333333333333333,\"#9c179e\"],[0.4444444444444444,\"#bd3786\"],[0.5555555555555556,\"#d8576b\"],[0.6666666666666666,\"#ed7953\"],[0.7777777777777778,\"#fb9f3a\"],[0.8888888888888888,\"#fdca26\"],[1.0,\"#f0f921\"]]}],\"mesh3d\":[{\"type\":\"mesh3d\",\"colorbar\":{\"outlinewidth\":0,\"ticks\":\"\"}}],\"scatter\":[{\"fillpattern\":{\"fillmode\":\"overlay\",\"size\":10,\"solidity\":0.2},\"type\":\"scatter\"}],\"parcoords\":[{\"type\":\"parcoords\",\"line\":{\"colorbar\":{\"outlinewidth\":0,\"ticks\":\"\"}}}],\"scatterpolargl\":[{\"type\":\"scatterpolargl\",\"marker\":{\"colorbar\":{\"outlinewidth\":0,\"ticks\":\"\"}}}],\"bar\":[{\"error_x\":{\"color\":\"#2a3f5f\"},\"error_y\":{\"color\":\"#2a3f5f\"},\"marker\":{\"line\":{\"color\":\"#E5ECF6\",\"width\":0.5},\"pattern\":{\"fillmode\":\"overlay\",\"size\":10,\"solidity\":0.2}},\"type\":\"bar\"}],\"scattergeo\":[{\"type\":\"scattergeo\",\"marker\":{\"colorbar\":{\"outlinewidth\":0,\"ticks\":\"\"}}}],\"scatterpolar\":[{\"type\":\"scatterpolar\",\"marker\":{\"colorbar\":{\"outlinewidth\":0,\"ticks\":\"\"}}}],\"histogram\":[{\"marker\":{\"pattern\":{\"fillmode\":\"overlay\",\"size\":10,\"solidity\":0.2}},\"type\":\"histogram\"}],\"scattergl\":[{\"type\":\"scattergl\",\"marker\":{\"colorbar\":{\"outlinewidth\":0,\"ticks\":\"\"}}}],\"scatter3d\":[{\"type\":\"scatter3d\",\"line\":{\"colorbar\":{\"outlinewidth\":0,\"ticks\":\"\"}},\"marker\":{\"colorbar\":{\"outlinewidth\":0,\"ticks\":\"\"}}}],\"scattermapbox\":[{\"type\":\"scattermapbox\",\"marker\":{\"colorbar\":{\"outlinewidth\":0,\"ticks\":\"\"}}}],\"scatterternary\":[{\"type\":\"scatterternary\",\"marker\":{\"colorbar\":{\"outlinewidth\":0,\"ticks\":\"\"}}}],\"scattercarpet\":[{\"type\":\"scattercarpet\",\"marker\":{\"colorbar\":{\"outlinewidth\":0,\"ticks\":\"\"}}}],\"carpet\":[{\"aaxis\":{\"endlinecolor\":\"#2a3f5f\",\"gridcolor\":\"white\",\"linecolor\":\"white\",\"minorgridcolor\":\"white\",\"startlinecolor\":\"#2a3f5f\"},\"baxis\":{\"endlinecolor\":\"#2a3f5f\",\"gridcolor\":\"white\",\"linecolor\":\"white\",\"minorgridcolor\":\"white\",\"startlinecolor\":\"#2a3f5f\"},\"type\":\"carpet\"}],\"table\":[{\"cells\":{\"fill\":{\"color\":\"#EBF0F8\"},\"line\":{\"color\":\"white\"}},\"header\":{\"fill\":{\"color\":\"#C8D4E3\"},\"line\":{\"color\":\"white\"}},\"type\":\"table\"}],\"barpolar\":[{\"marker\":{\"line\":{\"color\":\"#E5ECF6\",\"width\":0.5},\"pattern\":{\"fillmode\":\"overlay\",\"size\":10,\"solidity\":0.2}},\"type\":\"barpolar\"}],\"pie\":[{\"automargin\":true,\"type\":\"pie\"}]},\"layout\":{\"autotypenumbers\":\"strict\",\"colorway\":[\"#636efa\",\"#EF553B\",\"#00cc96\",\"#ab63fa\",\"#FFA15A\",\"#19d3f3\",\"#FF6692\",\"#B6E880\",\"#FF97FF\",\"#FECB52\"],\"font\":{\"color\":\"#2a3f5f\"},\"hovermode\":\"closest\",\"hoverlabel\":{\"align\":\"left\"},\"paper_bgcolor\":\"white\",\"plot_bgcolor\":\"#E5ECF6\",\"polar\":{\"bgcolor\":\"#E5ECF6\",\"angularaxis\":{\"gridcolor\":\"white\",\"linecolor\":\"white\",\"ticks\":\"\"},\"radialaxis\":{\"gridcolor\":\"white\",\"linecolor\":\"white\",\"ticks\":\"\"}},\"ternary\":{\"bgcolor\":\"#E5ECF6\",\"aaxis\":{\"gridcolor\":\"white\",\"linecolor\":\"white\",\"ticks\":\"\"},\"baxis\":{\"gridcolor\":\"white\",\"linecolor\":\"white\",\"ticks\":\"\"},\"caxis\":{\"gridcolor\":\"white\",\"linecolor\":\"white\",\"ticks\":\"\"}},\"coloraxis\":{\"colorbar\":{\"outlinewidth\":0,\"ticks\":\"\"}},\"colorscale\":{\"sequential\":[[0.0,\"#0d0887\"],[0.1111111111111111,\"#46039f\"],[0.2222222222222222,\"#7201a8\"],[0.3333333333333333,\"#9c179e\"],[0.4444444444444444,\"#bd3786\"],[0.5555555555555556,\"#d8576b\"],[0.6666666666666666,\"#ed7953\"],[0.7777777777777778,\"#fb9f3a\"],[0.8888888888888888,\"#fdca26\"],[1.0,\"#f0f921\"]],\"sequentialminus\":[[0.0,\"#0d0887\"],[0.1111111111111111,\"#46039f\"],[0.2222222222222222,\"#7201a8\"],[0.3333333333333333,\"#9c179e\"],[0.4444444444444444,\"#bd3786\"],[0.5555555555555556,\"#d8576b\"],[0.6666666666666666,\"#ed7953\"],[0.7777777777777778,\"#fb9f3a\"],[0.8888888888888888,\"#fdca26\"],[1.0,\"#f0f921\"]],\"diverging\":[[0,\"#8e0152\"],[0.1,\"#c51b7d\"],[0.2,\"#de77ae\"],[0.3,\"#f1b6da\"],[0.4,\"#fde0ef\"],[0.5,\"#f7f7f7\"],[0.6,\"#e6f5d0\"],[0.7,\"#b8e186\"],[0.8,\"#7fbc41\"],[0.9,\"#4d9221\"],[1,\"#276419\"]]},\"xaxis\":{\"gridcolor\":\"white\",\"linecolor\":\"white\",\"ticks\":\"\",\"title\":{\"standoff\":15},\"zerolinecolor\":\"white\",\"automargin\":true,\"zerolinewidth\":2},\"yaxis\":{\"gridcolor\":\"white\",\"linecolor\":\"white\",\"ticks\":\"\",\"title\":{\"standoff\":15},\"zerolinecolor\":\"white\",\"automargin\":true,\"zerolinewidth\":2},\"scene\":{\"xaxis\":{\"backgroundcolor\":\"#E5ECF6\",\"gridcolor\":\"white\",\"linecolor\":\"white\",\"showbackground\":true,\"ticks\":\"\",\"zerolinecolor\":\"white\",\"gridwidth\":2},\"yaxis\":{\"backgroundcolor\":\"#E5ECF6\",\"gridcolor\":\"white\",\"linecolor\":\"white\",\"showbackground\":true,\"ticks\":\"\",\"zerolinecolor\":\"white\",\"gridwidth\":2},\"zaxis\":{\"backgroundcolor\":\"#E5ECF6\",\"gridcolor\":\"white\",\"linecolor\":\"white\",\"showbackground\":true,\"ticks\":\"\",\"zerolinecolor\":\"white\",\"gridwidth\":2}},\"shapedefaults\":{\"line\":{\"color\":\"#2a3f5f\"}},\"annotationdefaults\":{\"arrowcolor\":\"#2a3f5f\",\"arrowhead\":0,\"arrowwidth\":1},\"geo\":{\"bgcolor\":\"white\",\"landcolor\":\"#E5ECF6\",\"subunitcolor\":\"white\",\"showland\":true,\"showlakes\":true,\"lakecolor\":\"white\"},\"title\":{\"x\":0.05},\"mapbox\":{\"style\":\"light\"}}}},                        {\"responsive\": true}                    ).then(function(){\n",
       "                            \n",
       "var gd = document.getElementById('4d60eb5c-a2de-437a-ae2d-99fea0505440');\n",
       "var x = new MutationObserver(function (mutations, observer) {{\n",
       "        var display = window.getComputedStyle(gd).display;\n",
       "        if (!display || display === 'none') {{\n",
       "            console.log([gd, 'removed!']);\n",
       "            Plotly.purge(gd);\n",
       "            observer.disconnect();\n",
       "        }}\n",
       "}});\n",
       "\n",
       "// Listen for the removal of the full notebook cells\n",
       "var notebookContainer = gd.closest('#notebook-container');\n",
       "if (notebookContainer) {{\n",
       "    x.observe(notebookContainer, {childList: true});\n",
       "}}\n",
       "\n",
       "// Listen for the clearing of the current output cell\n",
       "var outputEl = gd.closest('.output');\n",
       "if (outputEl) {{\n",
       "    x.observe(outputEl, {childList: true});\n",
       "}}\n",
       "\n",
       "                        })                };                });            </script>        </div>"
      ]
     },
     "metadata": {},
     "output_type": "display_data"
    }
   ],
   "source": [
    "# plot origins using plotly\n",
    "# remove any points in origins with a y greater than 7\n",
    "origins = origins[origins[:, 1] < 7]\n",
    "import plotly.graph_objects as go\n",
    "fig = go.Figure(data=[go.Scatter3d(\n",
    "    x=origins[:, 0].cpu().detach().numpy(),\n",
    "    y=origins[:, 1].cpu().detach().numpy(),\n",
    "    z=origins[:, 2].cpu().detach().numpy(),\n",
    "    mode='markers',\n",
    ")])\n",
    "fig.show()"
   ]
  },
  {
   "cell_type": "code",
   "execution_count": 39,
   "metadata": {},
   "outputs": [
    {
     "data": {
      "text/plain": [
       "tensor(1.1899, device='cuda:0', grad_fn=<MaxBackward1>)"
      ]
     },
     "execution_count": 39,
     "metadata": {},
     "output_type": "execute_result"
    }
   ],
   "source": [
    "origins.max()"
   ]
  },
  {
   "cell_type": "code",
   "execution_count": 40,
   "metadata": {},
   "outputs": [
    {
     "data": {
      "text/plain": [
       "tensor(-0.1311, device='cuda:0', grad_fn=<MinBackward1>)"
      ]
     },
     "execution_count": 40,
     "metadata": {},
     "output_type": "execute_result"
    }
   ],
   "source": [
    "sdf.min()"
   ]
  },
  {
   "cell_type": "code",
   "execution_count": 41,
   "metadata": {},
   "outputs": [
    {
     "data": {
      "text/plain": [
       "tensor(0.0238, device='cuda:0', grad_fn=<MeanBackward0>)"
      ]
     },
     "execution_count": 41,
     "metadata": {},
     "output_type": "execute_result"
    }
   ],
   "source": [
    "sdf.mean()"
   ]
  },
  {
   "cell_type": "code",
   "execution_count": 42,
   "metadata": {},
   "outputs": [
    {
     "data": {
      "text/plain": [
       "tensor(6.7890, device='cuda:0', grad_fn=<MaxBackward1>)"
      ]
     },
     "execution_count": 42,
     "metadata": {},
     "output_type": "execute_result"
    }
   ],
   "source": [
    "sdf.max()"
   ]
  },
  {
   "cell_type": "code",
   "execution_count": null,
   "metadata": {},
   "outputs": [],
   "source": []
  }
 ],
 "metadata": {
  "kernelspec": {
   "display_name": "Python 3",
   "language": "python",
   "name": "python3"
  },
  "language_info": {
   "codemirror_mode": {
    "name": "ipython",
    "version": 3
   },
   "file_extension": ".py",
   "mimetype": "text/x-python",
   "name": "python",
   "nbconvert_exporter": "python",
   "pygments_lexer": "ipython3",
   "version": "3.10.6"
  },
  "orig_nbformat": 4
 },
 "nbformat": 4,
 "nbformat_minor": 2
}

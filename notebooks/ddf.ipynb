{
 "cells": [
  {
   "cell_type": "code",
   "execution_count": null,
   "metadata": {},
   "outputs": [],
   "source": [
    "# set visible devices\n",
    "import os\n",
    "os.environ[\"CUDA_VISIBLE_DEVICES\"] = \"1\""
   ]
  },
  {
   "cell_type": "code",
   "execution_count": 1,
   "metadata": {},
   "outputs": [
    {
     "data": {
      "text/html": [
       "<pre style=\"white-space:pre;overflow-x:auto;line-height:normal;font-family:Menlo,'DejaVu Sans Mono',consolas,'Courier New',monospace\">Loading data batch <span style=\"color: #729c1f; text-decoration-color: #729c1f\">━━━━━━━━━━━━━━━━━━━━━━━━━━━━━━━━━━━━━━━━</span> <span style=\"color: #800080; text-decoration-color: #800080\">100%</span> <span style=\"color: #008080; text-decoration-color: #008080\">0:00:00</span>\n",
       "</pre>\n"
      ],
      "text/plain": [
       "Loading data batch \u001b[38;2;114;156;31m━━━━━━━━━━━━━━━━━━━━━━━━━━━━━━━━━━━━━━━━\u001b[0m \u001b[35m100%\u001b[0m \u001b[36m0:00:00\u001b[0m\n"
      ]
     },
     "metadata": {},
     "output_type": "display_data"
    },
    {
     "data": {
      "text/html": [
       "<pre style=\"white-space:pre;overflow-x:auto;line-height:normal;font-family:Menlo,'DejaVu Sans Mono',consolas,'Courier New',monospace\"></pre>\n"
      ],
      "text/plain": []
     },
     "metadata": {},
     "output_type": "display_data"
    },
    {
     "data": {
      "text/html": [
       "<pre style=\"white-space:pre;overflow-x:auto;line-height:normal;font-family:Menlo,'DejaVu Sans Mono',consolas,'Courier New',monospace\">\n",
       "</pre>\n"
      ],
      "text/plain": [
       "\n"
      ]
     },
     "metadata": {},
     "output_type": "display_data"
    },
    {
     "data": {
      "text/plain": [
       "True"
      ]
     },
     "execution_count": 1,
     "metadata": {},
     "output_type": "execute_result"
    }
   ],
   "source": [
    "# set the cwd to the root of the repo\n",
    "\n",
    "import os\n",
    "# change dir to root of repo\n",
    "os.chdir('..')\n",
    "\n",
    "import torch\n",
    "import yaml\n",
    "from pathlib import Path\n",
    "import random\n",
    "import matplotlib.pyplot as plt\n",
    "import numpy as np\n",
    "import tqdm\n",
    "\n",
    "from nerfstudio.configs import base_config as cfg\n",
    "from nerfstudio.configs.method_configs import method_configs\n",
    "from nerfstudio.data.dataparsers.nerfosr_dataparser import NeRFOSR, NeRFOSRDataParserConfig\n",
    "from nerfstudio.models.reni_neus import RENINeuSModel, RENINeuSModelConfig\n",
    "from nerfstudio.pipelines.base_pipeline import VanillaDataManager\n",
    "from nerfstudio.field_components.field_heads import FieldHeadNames\n",
    "from nerfstudio.fields.reni_field import get_directions\n",
    "from nerfstudio.fields.reni_field import RENIField, get_directions, get_sineweight\n",
    "from nerfstudio.cameras.rays import RayBundle\n",
    "\n",
    "def make_ray_bundle_copy(ray_bundle):\n",
    "    new_ray_bundle = RayBundle(\n",
    "      origins=ray_bundle.origins.detach().clone(),\n",
    "      directions=ray_bundle.directions.detach().clone(),\n",
    "      pixel_area=ray_bundle.pixel_area.detach().clone(),\n",
    "      directions_norm=ray_bundle.directions_norm.detach().clone(),\n",
    "      camera_indices=ray_bundle.camera_indices.detach().clone(),\n",
    "      nears=ray_bundle.nears.detach().clone() if ray_bundle.nears is not None else None,\n",
    "      fars=ray_bundle.fars.detach().clone() if ray_bundle.fars is not None else None,\n",
    "    )\n",
    "    return new_ray_bundle\n",
    "\n",
    "def make_batch_clone(batch):\n",
    "    new_batch = {}\n",
    "    for key, value in batch.items():\n",
    "        if isinstance(value, torch.Tensor):\n",
    "            new_batch[key] = value.detach().clone()\n",
    "        else:\n",
    "            new_batch[key] = value\n",
    "    return new_batch       \n",
    "\n",
    "def sRGB(imgs):\n",
    "    # if shape is not B, C, H, W, then add batch dimension\n",
    "    if len(imgs.shape) == 3:\n",
    "        imgs = imgs.unsqueeze(0)\n",
    "    q = torch.quantile(torch.quantile(torch.quantile(imgs, 0.98, dim=(1)), 0.98, dim=(1)), 0.98, dim=(1))\n",
    "    imgs = imgs / q.unsqueeze(1).unsqueeze(2).unsqueeze(3)\n",
    "    imgs = torch.clamp(imgs, 0.0, 1.0)\n",
    "    imgs = torch.where(\n",
    "        imgs <= 0.0031308,\n",
    "        12.92 * imgs,\n",
    "        1.055 * torch.pow(torch.abs(imgs), 1 / 2.4) - 0.055,\n",
    "    )\n",
    "    return imgs\n",
    "\n",
    "def rotation_matrix(axis, angle):\n",
    "    \"\"\"\n",
    "    Return 3D rotation matrix for rotating around the given axis by the given angle.\n",
    "    \"\"\"\n",
    "    axis = np.asarray(axis)\n",
    "    axis = axis / np.sqrt(np.dot(axis, axis))\n",
    "    a = np.cos(angle / 2.0)\n",
    "    b, c, d = -axis * np.sin(angle / 2.0)\n",
    "    aa, bb, cc, dd = a * a, b * b, c * c, d * d\n",
    "    bc, ad, ac, ab, bd, cd = b * c, a * d, a * c, a * b, b * d, c * d\n",
    "    return np.array([[aa + bb - cc - dd, 2 * (bc + ad), 2 * (bd - ac)],\n",
    "                     [2 * (bc - ad), aa + cc - bb - dd, 2 * (cd + ab)],\n",
    "                     [2 * (bd + ac), 2 * (cd - ab), aa + dd - bb - cc]])\n",
    "\n",
    "# setup config\n",
    "test_mode = 'val'\n",
    "world_size = 1\n",
    "local_rank = 0\n",
    "device = 'cuda:0'\n",
    "\n",
    "ckpt_path = 'outputs/data-NeRF-OSR-Data/RENI-NeuS/latest_with_rot_and_clip_illumination/'\n",
    "step = 80000\n",
    "\n",
    "ckpt = torch.load(ckpt_path + '/sdfstudio_models' + f'/step-{step:09d}.ckpt', map_location=device)\n",
    "model_dict = {}\n",
    "for key in ckpt['pipeline'].keys():\n",
    "    if key.startswith('_model.'):\n",
    "        model_dict[key[7:]] = ckpt['pipeline'][key]\n",
    "\n",
    "# load yaml checkpoint config\n",
    "config_path = Path(ckpt_path) / 'config.yml'\n",
    "config = yaml.load(config_path.open(), Loader=yaml.Loader)\n",
    "\n",
    "pipeline_config = config.pipeline\n",
    "pipeline_config.datamanager.dataparser.scene = 'lk2'\n",
    "pipeline_config.datamanager.dataparser.use_session_data = False\n",
    "\n",
    "# if illumination_sampler_random_rotation not in pipeline.config.model add it and set to false\n",
    "try:\n",
    "    pipeline_config.model.illumination_sampler_random_rotation\n",
    "except AttributeError:\n",
    "    pipeline_config.model.illumination_sampler_random_rotation = True\n",
    "try:\n",
    "    pipeline_config.model.illumination_sample_remove_lower_hemisphere\n",
    "except AttributeError:\n",
    "    pipeline_config.model.illumination_sample_remove_lower_hemisphere = True\n",
    "\n",
    "datamanager: VanillaDataManager = pipeline_config.datamanager.setup(\n",
    "    device=device, test_mode=test_mode, world_size=world_size, local_rank=local_rank, \n",
    ")\n",
    "datamanager.to(device)\n",
    "# includes num_eval_data as needed for reni latent code fitting.\n",
    "model = pipeline_config.model.setup(\n",
    "    scene_box=datamanager.train_dataset.scene_box,\n",
    "    num_train_data=len(datamanager.train_dataset),\n",
    "    num_eval_data=len(datamanager.eval_dataset),\n",
    "    metadata=datamanager.train_dataset.metadata,\n",
    "    world_size=world_size,\n",
    "    local_rank=local_rank,\n",
    "    eval_latent_optimisation_source=pipeline_config.eval_latent_optimisation_source,\n",
    ")\n",
    "model.to(device)\n",
    "\n",
    "model.load_state_dict(model_dict)\n",
    "model.eval()\n",
    "\n",
    "image_idx_original, camera_ray_bundle_original, batch_original = datamanager.next_eval_image(1)\n",
    "\n",
    "True # printing to hide long cell output"
   ]
  },
  {
   "attachments": {},
   "cell_type": "markdown",
   "metadata": {},
   "source": [
    "mlp($\\hat{x}, d$) where $x = \\hat{x}r$\n",
    "\n",
    "$||x|| = ||d|| = 1$\n",
    "\n",
    "Losses:\n",
    "\n",
    "1. DDF->SDF Level Set \n",
    "2. Ray Hit Probability Supervision -> SDF Accumulation \n",
    "3. SDF Expected Termination Supervisioni -> SDF Accumulation\n",
    "4. Multiview consitancy -> other point on sphere $x_{2}$ looking at same point must have $f_{\\text{DDF}} <= \n"
   ]
  },
  {
   "attachments": {},
   "cell_type": "markdown",
   "metadata": {},
   "source": [
    "Now we need to generate a lot of random positions on a unit sphere and directions but directions need to be only in the hemisphere of the inward facing normal from the point on the sphere."
   ]
  },
  {
   "cell_type": "code",
   "execution_count": 3,
   "metadata": {},
   "outputs": [],
   "source": [
    "import torch\n",
    "import plotly.graph_objects as go\n",
    "import numpy as np\n",
    "\n",
    "def random_points_on_unit_sphere(num_points, cartesian=False):\n",
    "    theta = 2 * torch.pi * torch.rand(num_points)\n",
    "    phi = torch.acos(2 * torch.rand(num_points) - 1)\n",
    "    if cartesian:\n",
    "        return torch.stack(sph2cart(theta, phi), dim=1)\n",
    "    return torch.stack([theta, phi], dim=1)\n",
    "\n",
    "def random_inward_facing_directions(num_directions, normals):\n",
    "    # num_directions = scalar\n",
    "    # normals = (N, 3)\n",
    "    # returns (N, num_directions, 3)\n",
    "\n",
    "    # For each normal get a random set of directions\n",
    "    directions = random_points_on_unit_sphere(num_directions * normals.shape[0], cartesian=True)\n",
    "    directions = directions.reshape(normals.shape[0], num_directions, 3)\n",
    "\n",
    "    # remove any directions that are not in the hemisphere of the associated normal\n",
    "    dot_products = torch.sum(normals.unsqueeze(1) * directions, dim=2)\n",
    "    mask = dot_products < 0\n",
    "\n",
    "    # negate the directions that are not in the hemisphere\n",
    "    directions[mask] = -directions[mask]\n",
    "\n",
    "    return directions    \n",
    "\n",
    "def sph2cart(theta, phi):\n",
    "    x = torch.sin(phi) * torch.cos(theta)\n",
    "    y = torch.sin(phi) * torch.sin(theta)\n",
    "    z = torch.cos(phi)\n",
    "    return x, y, z\n",
    "\n",
    "def cart2sph(x, y, z):\n",
    "    r = torch.sqrt(x**2 + y**2 + z**2)\n",
    "    theta = torch.atan2(y, x)\n",
    "    phi = torch.acos(z / r)\n",
    "    return theta, phi\n",
    "\n",
    "\n",
    "from torch.utils.data import Dataset\n",
    "\n",
    "class DDFSDFDataset(Dataset):\n",
    "    def __init__(self, num_directions, ddf_sphere_radius, sdf_function, device):\n",
    "        self.sdf_function = sdf_function\n",
    "        self.ddf_sphere_radius = ddf_sphere_radius\n",
    "        self.num_directions = num_directions\n",
    "        self.device = device\n",
    "        # generate a H and W from number of directions\n",
    "        self.H = int(np.sqrt(self.num_directions))\n",
    "        self.W = int(np.sqrt(self.num_directions))\n",
    "\n",
    "        origins = torch.zeros(self.H, self.W, 1, 3, device=device)\n",
    "        directions = torch.ones(self.H, self.W, 1, 3, device=device)\n",
    "        pixel_area = torch.ones(self.H, self.W, 1, 1, device=device)\n",
    "        directions_norm = torch.ones(self.H, self.W, 1, 1, device=device)\n",
    "        # camera indices should be int64\n",
    "        camera_indices = torch.zeros(self.H, self.W, 1, 1, device=device, dtype=torch.int64)\n",
    "        nears = torch.ones(self.H, self.W, 1, 1, device=device) * sdf_function.scene_box.near\n",
    "        fars = torch.ones(self.H, self.W, 1, 1, device=device) * sdf_function.scene_box.far\n",
    "\n",
    "        self.ray_bundle = RayBundle(\n",
    "                              origins=origins,\n",
    "                              directions=directions,\n",
    "                              pixel_area=pixel_area,\n",
    "                              directions_norm=directions_norm,\n",
    "                              camera_indices=camera_indices,\n",
    "                              nears=nears,\n",
    "                              fars=fars\n",
    "                          )\n",
    "\n",
    "    def __len__(self):\n",
    "        return self.num_positions\n",
    "        \n",
    "\n",
    "    def _generate_sample(self):\n",
    "        positions = random_points_on_unit_sphere(1, cartesian=True) # (1, 3)\n",
    "        directions = random_inward_facing_directions(self.num_directions, normals=-positions) # (1, num_directions, 3)\n",
    "        \n",
    "        # scale positions from unit sphere to ddf_sphere_radius\n",
    "        positions = positions * self.ddf_sphere_radius\n",
    "        \n",
    "        pos_ray = positions.unsqueeze(1).unsqueeze(1).expand(self.H, self.W, 1, -1).to(self.device)\n",
    "        dir_ray = directions.reshape(self.H, self.W, 3).unsqueeze(2).to(self.device)\n",
    "\n",
    "        self.ray_bundle.origins = pos_ray\n",
    "        self.ray_bundle.directions = dir_ray\n",
    "        field_outputs = self.sdf_function.get_outputs_for_camera_ray_bundle(self.ray_bundle)\n",
    "        accumultation = field_outputs[\"accumulation\"].reshape(-1, 1).squeeze()\n",
    "        termination_dist = field_outputs[\"depth\"].reshape(-1, 1)\n",
    "\n",
    "        directions = directions.squeeze(0)\n",
    "        positions = positions.repeat(directions.shape[0], 1)\n",
    "\n",
    "        return positions, directions, accumultation, termination_dist\n",
    "        \n",
    "    def __getitem__(self, idx):\n",
    "        return self._generate_sample()\n"
   ]
  },
  {
   "cell_type": "code",
   "execution_count": 16,
   "metadata": {},
   "outputs": [
    {
     "data": {
      "text/html": [
       "<pre style=\"white-space:pre;overflow-x:auto;line-height:normal;font-family:Menlo,'DejaVu Sans Mono',consolas,'Courier New',monospace\"><span style=\"color: #008000; text-decoration-color: #008000\">Generating output for camera...</span> <span style=\"color: #f92672; text-decoration-color: #f92672\">━━━━━━━━━━━━━━━━━━━━━━━━━━━━━━━━━━━━━━╸</span><span style=\"color: #3a3a3a; text-decoration-color: #3a3a3a\">━</span> <span style=\"color: #800080; text-decoration-color: #800080\"> 97%</span> <span style=\"color: #008080; text-decoration-color: #008080\">0:00:01</span>\n",
       "</pre>\n"
      ],
      "text/plain": [
       "\u001b[32mGenerating output for camera...\u001b[0m \u001b[38;2;249;38;114m━━━━━━━━━━━━━━━━━━━━━━━━━━━━━━━━━━━━━━\u001b[0m\u001b[38;2;249;38;114m╸\u001b[0m\u001b[38;5;237m━\u001b[0m \u001b[35m 97%\u001b[0m \u001b[36m0:00:01\u001b[0m\n"
      ]
     },
     "metadata": {},
     "output_type": "display_data"
    },
    {
     "data": {
      "text/html": [
       "<pre style=\"white-space:pre;overflow-x:auto;line-height:normal;font-family:Menlo,'DejaVu Sans Mono',consolas,'Courier New',monospace\"></pre>\n"
      ],
      "text/plain": []
     },
     "metadata": {},
     "output_type": "display_data"
    },
    {
     "data": {
      "text/html": [
       "<pre style=\"white-space:pre;overflow-x:auto;line-height:normal;font-family:Menlo,'DejaVu Sans Mono',consolas,'Courier New',monospace\">\n",
       "</pre>\n"
      ],
      "text/plain": [
       "\n"
      ]
     },
     "metadata": {},
     "output_type": "display_data"
    },
    {
     "data": {
      "text/plain": [
       "<matplotlib.image.AxesImage at 0x7f965d778850>"
      ]
     },
     "execution_count": 16,
     "metadata": {},
     "output_type": "execute_result"
    },
    {
     "data": {
      "image/png": "[encoded data removed]",
      "text/plain": [
       "<Figure size 1000x500 with 2 Axes>"
      ]
     },
     "metadata": {},
     "output_type": "display_data"
    }
   ],
   "source": [
    "# camera_ray_bundle = make_ray_bundle_copy(camera_ray_bundle_original)\n",
    "# batch = make_batch_clone(batch_original)\n",
    "\n",
    "W = 512\n",
    "H = W // 2\n",
    "\n",
    "directions = get_directions(W).squeeze(0).reshape(H, W, 3).unsqueeze(2).to(device) # [H, W, 1, 3]\n",
    "# swap Y and Z axes and invert X axis\n",
    "directions = torch.stack([directions[..., 0] * -1, directions[..., 2], directions[..., 1]], dim=-1)\n",
    "\n",
    "# select only H, W worth of each element of the camera ray bundle\n",
    "camera_ray_bundle = camera_ray_bundle[:H, :W]\n",
    "camera_ray_bundle.directions = directions # [H, W, 1, 3]\n",
    "\n",
    "origins = random_points_on_unit_sphere(1, cartesian=True) # [1, 3]\n",
    "origins = origins.unsqueeze(0).unsqueeze(0).repeat(H, W, 1, 1).to(device) # [H, W, 1, 3]\n",
    "\n",
    "camera_ray_bundle.origins = origins\n",
    "\n",
    "camera_ray_bundle.directions_norm = torch.ones_like(camera_ray_bundle.directions_norm).to(device)\n",
    "\n",
    "# set all pixel areas to 1\n",
    "camera_ray_bundle.pixel_area = torch.ones_like(camera_ray_bundle.pixel_area).to(device) * 0.01\n",
    "\n",
    "# set all nears to 0.05\n",
    "camera_ray_bundle.nears = torch.zeros_like(camera_ray_bundle.directions_norm) + model.scene_box.near\n",
    "# set all fars to 100\n",
    "camera_ray_bundle.fars = torch.zeros_like(camera_ray_bundle.directions_norm) + model.scene_box.far\n",
    "\n",
    "model.config.eval_num_rays_per_chunk = 2048\n",
    "\n",
    "outputs = model.get_outputs_for_camera_ray_bundle(camera_ray_bundle, show_progress=True)\n",
    "\n",
    "accumulation = outputs['accumulation'].cpu().detach().numpy()\n",
    "visibiltiy = 1.0 - accumulation\n",
    "rgb = outputs['rgb'].cpu().detach().numpy()\n",
    "\n",
    "# plot both in the same figure\n",
    "fig, ax = plt.subplots(1, 2, figsize=(10, 5))\n",
    "ax[0].imshow(visibiltiy)\n",
    "ax[1].imshow(rgb)"
   ]
  },
  {
   "cell_type": "code",
   "execution_count": 7,
   "metadata": {},
   "outputs": [
    {
     "data": {
      "application/vnd.plotly.v1+json": {
       "config": {
        "plotlyServerURL": "https://plot.ly"
       },
       "data": [
        {
         "mode": "markers",
         "type": "scatter3d",
         "x": [
          -0.825484037399292,
          0.2373226433992386
         ],
         "y": [
          -0.5073594450950623,
          -0.9617244601249695
         ],
         "z": [
          0.24731047451496124,
          -0.13698221743106842
         ]
        },
        {
         "line": {
          "width": 15
         },
         "mode": "lines",
         "type": "scatter3d",
         "x": [
          -0.825484037399292,
          0
         ],
         "y": [
          -0.5073594450950623,
          0
         ],
         "z": [
          0.24731047451496124,
          0
         ]
        },
        {
         "line": {
          "width": 15
         },
         "mode": "lines",
         "type": "scatter3d",
         "x": [
          0.2373226433992386,
          0
         ],
         "y": [
          -0.9617244601249695,
          0
         ],
         "z": [
          -0.13698221743106842,
          0
         ]
        },
        {
         "line": {
          "width": 5
         },
         "mode": "lines",
         "type": "scatter3d",
         "x": [
          -0.825484037399292,
          -1.229231834411621
         ],
         "y": [
          -0.5073594450950623,
          -0.06727799773216248
         ],
         "z": [
          0.24731047451496124,
          -0.5547593832015991
         ]
        },
        {
         "line": {
          "width": 5
         },
         "mode": "lines",
         "type": "scatter3d",
         "x": [
          -0.825484037399292,
          -0.6434045433998108
         ],
         "y": [
          -0.5073594450950623,
          -0.3655993640422821
         ],
         "z": [
          0.24731047451496124,
          -0.7257009148597717
         ]
        },
        {
         "line": {
          "width": 5
         },
         "mode": "lines",
         "type": "scatter3d",
         "x": [
          -0.825484037399292,
          0.005021929740905762
         ],
         "y": [
          -0.5073594450950623,
          -1.058895468711853
         ],
         "z": [
          0.24731047451496124,
          0.16941438615322113
         ]
        },
        {
         "line": {
          "width": 5
         },
         "mode": "lines",
         "type": "scatter3d",
         "x": [
          -0.825484037399292,
          0.150262713432312
         ],
         "y": [
          -0.5073594450950623,
          -0.28918957710266113
         ],
         "z": [
          0.24731047451496124,
          0.2652032673358917
         ]
        },
        {
         "line": {
          "width": 5
         },
         "mode": "lines",
         "type": "scatter3d",
         "x": [
          -0.825484037399292,
          -0.4418337345123291
         ],
         "y": [
          -0.5073594450950623,
          -1.039149284362793
         ],
         "z": [
          0.24731047451496124,
          -0.5076809525489807
         ]
        },
        {
         "line": {
          "width": 5
         },
         "mode": "lines",
         "type": "scatter3d",
         "x": [
          -0.825484037399292,
          0.17027735710144043
         ],
         "y": [
          -0.5073594450950623,
          -0.5709817409515381
         ],
         "z": [
          0.24731047451496124,
          0.31372806429862976
         ]
        },
        {
         "line": {
          "width": 5
         },
         "mode": "lines",
         "type": "scatter3d",
         "x": [
          -0.825484037399292,
          -0.7045687437057495
         ],
         "y": [
          -0.5073594450950623,
          -0.7429132461547852
         ],
         "z": [
          0.24731047451496124,
          -0.7169995903968811
         ]
        },
        {
         "line": {
          "width": 5
         },
         "mode": "lines",
         "type": "scatter3d",
         "x": [
          -0.825484037399292,
          -0.3310224711894989
         ],
         "y": [
          -0.5073594450950623,
          -0.3945153057575226
         ],
         "z": [
          0.24731047451496124,
          1.1091538667678833
         ]
        },
        {
         "line": {
          "width": 5
         },
         "mode": "lines",
         "type": "scatter3d",
         "x": [
          -0.825484037399292,
          0.09256887435913086
         ],
         "y": [
          -0.5073594450950623,
          -0.2777191996574402
         ],
         "z": [
          0.24731047451496124,
          -0.07586784660816193
         ]
        },
        {
         "line": {
          "width": 5
         },
         "mode": "lines",
         "type": "scatter3d",
         "x": [
          -0.825484037399292,
          -0.24736154079437256
         ],
         "y": [
          -0.5073594450950623,
          -1.1294485330581665
         ],
         "z": [
          0.24731047451496124,
          0.7753061652183533
         ]
        },
        {
         "line": {
          "width": 5
         },
         "mode": "lines",
         "type": "scatter3d",
         "x": [
          -0.825484037399292,
          0.0448794960975647
         ],
         "y": [
          -0.5073594450950623,
          -0.46994128823280334
         ],
         "z": [
          0.24731047451496124,
          0.7382965087890625
         ]
        },
        {
         "line": {
          "width": 5
         },
         "mode": "lines",
         "type": "scatter3d",
         "x": [
          -0.825484037399292,
          -0.43250980973243713
         ],
         "y": [
          -0.5073594450950623,
          0.16496622562408447
         ],
         "z": [
          0.24731047451496124,
          0.8746456503868103
         ]
        },
        {
         "line": {
          "width": 5
         },
         "mode": "lines",
         "type": "scatter3d",
         "x": [
          -0.825484037399292,
          -1.0165098905563354
         ],
         "y": [
          -0.5073594450950623,
          0.3668854832649231
         ],
         "z": [
          0.24731047451496124,
          -0.19901330769062042
         ]
        },
        {
         "line": {
          "width": 5
         },
         "mode": "lines",
         "type": "scatter3d",
         "x": [
          -0.825484037399292,
          0.14346623420715332
         ],
         "y": [
          -0.5073594450950623,
          -0.7224187850952148
         ],
         "z": [
          0.24731047451496124,
          0.12530724704265594
         ]
        },
        {
         "line": {
          "width": 5
         },
         "mode": "lines",
         "type": "scatter3d",
         "x": [
          -0.825484037399292,
          -1.0394304990768433
         ],
         "y": [
          -0.5073594450950623,
          0.3644293546676636
         ],
         "z": [
          0.24731047451496124,
          0.6880044341087341
         ]
        },
        {
         "line": {
          "width": 5
         },
         "mode": "lines",
         "type": "scatter3d",
         "x": [
          0.2373226433992386,
          1.0633015632629395
         ],
         "y": [
          -0.9617244601249695,
          -0.42504262924194336
         ],
         "z": [
          -0.13698221743106842,
          -0.3094105124473572
         ]
        },
        {
         "line": {
          "width": 5
         },
         "mode": "lines",
         "type": "scatter3d",
         "x": [
          0.2373226433992386,
          0.19144383072853088
         ],
         "y": [
          -0.9617244601249695,
          -0.42318612337112427
         ],
         "z": [
          -0.13698221743106842,
          0.7043688297271729
         ]
        },
        {
         "line": {
          "width": 5
         },
         "mode": "lines",
         "type": "scatter3d",
         "x": [
          0.2373226433992386,
          -0.04063756763935089
         ],
         "y": [
          -0.9617244601249695,
          -0.8669590950012207
         ],
         "z": [
          -0.13698221743106842,
          0.8189244866371155
         ]
        },
        {
         "line": {
          "width": 5
         },
         "mode": "lines",
         "type": "scatter3d",
         "x": [
          0.2373226433992386,
          0.8315652012825012
         ],
         "y": [
          -0.9617244601249695,
          -0.5548521280288696
         ],
         "z": [
          -0.13698221743106842,
          0.5567978024482727
         ]
        },
        {
         "line": {
          "width": 5
         },
         "mode": "lines",
         "type": "scatter3d",
         "x": [
          0.2373226433992386,
          -0.6325186491012573
         ],
         "y": [
          -0.9617244601249695,
          -0.6042900085449219
         ],
         "z": [
          -0.13698221743106842,
          0.20304252207279205
         ]
        },
        {
         "line": {
          "width": 5
         },
         "mode": "lines",
         "type": "scatter3d",
         "x": [
          0.2373226433992386,
          -0.0941927582025528
         ],
         "y": [
          -0.9617244601249695,
          -0.5874603390693665
         ],
         "z": [
          -0.13698221743106842,
          -1.003021478652954
         ]
        },
        {
         "line": {
          "width": 5
         },
         "mode": "lines",
         "type": "scatter3d",
         "x": [
          0.2373226433992386,
          -0.48695534467697144
         ],
         "y": [
          -0.9617244601249695,
          -0.3627796769142151
         ],
         "z": [
          -0.13698221743106842,
          -0.47857630252838135
         ]
        },
        {
         "line": {
          "width": 5
         },
         "mode": "lines",
         "type": "scatter3d",
         "x": [
          0.2373226433992386,
          0.743392288684845
         ],
         "y": [
          -0.9617244601249695,
          -0.565659761428833
         ],
         "z": [
          -0.13698221743106842,
          -0.9031585454940796
         ]
        },
        {
         "line": {
          "width": 5
         },
         "mode": "lines",
         "type": "scatter3d",
         "x": [
          0.2373226433992386,
          0.7839036583900452
         ],
         "y": [
          -0.9617244601249695,
          -0.27408337593078613
         ],
         "z": [
          -0.13698221743106842,
          -0.6148931980133057
         ]
        },
        {
         "line": {
          "width": 5
         },
         "mode": "lines",
         "type": "scatter3d",
         "x": [
          0.2373226433992386,
          0.32048049569129944
         ],
         "y": [
          -0.9617244601249695,
          -0.08951878547668457
         ],
         "z": [
          -0.13698221743106842,
          -0.6190009117126465
         ]
        },
        {
         "line": {
          "width": 5
         },
         "mode": "lines",
         "type": "scatter3d",
         "x": [
          0.2373226433992386,
          0.5494675040245056
         ],
         "y": [
          -0.9617244601249695,
          -0.01171046495437622
         ],
         "z": [
          -0.13698221743106842,
          -0.13074101507663727
         ]
        },
        {
         "line": {
          "width": 5
         },
         "mode": "lines",
         "type": "scatter3d",
         "x": [
          0.2373226433992386,
          -0.38483303785324097
         ],
         "y": [
          -0.9617244601249695,
          -0.2976738214492798
         ],
         "z": [
          -0.13698221743106842,
          0.27769726514816284
         ]
        },
        {
         "line": {
          "width": 5
         },
         "mode": "lines",
         "type": "scatter3d",
         "x": [
          0.2373226433992386,
          -0.264506995677948
         ],
         "y": [
          -0.9617244601249695,
          -0.09979677200317383
         ],
         "z": [
          -0.13698221743106842,
          -0.20942318439483643
         ]
        },
        {
         "line": {
          "width": 5
         },
         "mode": "lines",
         "type": "scatter3d",
         "x": [
          0.2373226433992386,
          -0.3835851550102234
         ],
         "y": [
          -0.9617244601249695,
          -1.0681785345077515
         ],
         "z": [
          -0.13698221743106842,
          0.6396393775939941
         ]
        },
        {
         "line": {
          "width": 5
         },
         "mode": "lines",
         "type": "scatter3d",
         "x": [
          0.2373226433992386,
          0.40480712056159973
         ],
         "y": [
          -0.9617244601249695,
          0.018340647220611572
         ],
         "z": [
          -0.13698221743106842,
          -0.030111655592918396
         ]
        }
       ],
       "layout": {
        "scene": {
         "aspectmode": "cube",
         "xaxis": {
          "autorange": false,
          "range": [
           -2,
           2
          ],
          "zeroline": false
         },
         "yaxis": {
          "autorange": false,
          "range": [
           -2,
           2
          ],
          "zeroline": false
         },
         "zaxis": {
          "autorange": false,
          "range": [
           -2,
           2
          ],
          "zeroline": false
         }
        },
        "template": {
         "data": {
          "bar": [
           {
            "error_x": {
             "color": "#2a3f5f"
            },
            "error_y": {
             "color": "#2a3f5f"
            },
            "marker": {
             "line": {
              "color": "#E5ECF6",
              "width": 0.5
             },
             "pattern": {
              "fillmode": "overlay",
              "size": 10,
              "solidity": 0.2
             }
            },
            "type": "bar"
           }
          ],
          "barpolar": [
           {
            "marker": {
             "line": {
              "color": "#E5ECF6",
              "width": 0.5
             },
             "pattern": {
              "fillmode": "overlay",
              "size": 10,
              "solidity": 0.2
             }
            },
            "type": "barpolar"
           }
          ],
          "carpet": [
           {
            "aaxis": {
             "endlinecolor": "#2a3f5f",
             "gridcolor": "white",
             "linecolor": "white",
             "minorgridcolor": "white",
             "startlinecolor": "#2a3f5f"
            },
            "baxis": {
             "endlinecolor": "#2a3f5f",
             "gridcolor": "white",
             "linecolor": "white",
             "minorgridcolor": "white",
             "startlinecolor": "#2a3f5f"
            },
            "type": "carpet"
           }
          ],
          "choropleth": [
           {
            "colorbar": {
             "outlinewidth": 0,
             "ticks": ""
            },
            "type": "choropleth"
           }
          ],
          "contour": [
           {
            "colorbar": {
             "outlinewidth": 0,
             "ticks": ""
            },
            "colorscale": [
             [
              0,
              "#0d0887"
             ],
             [
              0.1111111111111111,
              "#46039f"
             ],
             [
              0.2222222222222222,
              "#7201a8"
             ],
             [
              0.3333333333333333,
              "#9c179e"
             ],
             [
              0.4444444444444444,
              "#bd3786"
             ],
             [
              0.5555555555555556,
              "#d8576b"
             ],
             [
              0.6666666666666666,
              "#ed7953"
             ],
             [
              0.7777777777777778,
              "#fb9f3a"
             ],
             [
              0.8888888888888888,
              "#fdca26"
             ],
             [
              1,
              "#f0f921"
             ]
            ],
            "type": "contour"
           }
          ],
          "contourcarpet": [
           {
            "colorbar": {
             "outlinewidth": 0,
             "ticks": ""
            },
            "type": "contourcarpet"
           }
          ],
          "heatmap": [
           {
            "colorbar": {
             "outlinewidth": 0,
             "ticks": ""
            },
            "colorscale": [
             [
              0,
              "#0d0887"
             ],
             [
              0.1111111111111111,
              "#46039f"
             ],
             [
              0.2222222222222222,
              "#7201a8"
             ],
             [
              0.3333333333333333,
              "#9c179e"
             ],
             [
              0.4444444444444444,
              "#bd3786"
             ],
             [
              0.5555555555555556,
              "#d8576b"
             ],
             [
              0.6666666666666666,
              "#ed7953"
             ],
             [
              0.7777777777777778,
              "#fb9f3a"
             ],
             [
              0.8888888888888888,
              "#fdca26"
             ],
             [
              1,
              "#f0f921"
             ]
            ],
            "type": "heatmap"
           }
          ],
          "heatmapgl": [
           {
            "colorbar": {
             "outlinewidth": 0,
             "ticks": ""
            },
            "colorscale": [
             [
              0,
              "#0d0887"
             ],
             [
              0.1111111111111111,
              "#46039f"
             ],
             [
              0.2222222222222222,
              "#7201a8"
             ],
             [
              0.3333333333333333,
              "#9c179e"
             ],
             [
              0.4444444444444444,
              "#bd3786"
             ],
             [
              0.5555555555555556,
              "#d8576b"
             ],
             [
              0.6666666666666666,
              "#ed7953"
             ],
             [
              0.7777777777777778,
              "#fb9f3a"
             ],
             [
              0.8888888888888888,
              "#fdca26"
             ],
             [
              1,
              "#f0f921"
             ]
            ],
            "type": "heatmapgl"
           }
          ],
          "histogram": [
           {
            "marker": {
             "pattern": {
              "fillmode": "overlay",
              "size": 10,
              "solidity": 0.2
             }
            },
            "type": "histogram"
           }
          ],
          "histogram2d": [
           {
            "colorbar": {
             "outlinewidth": 0,
             "ticks": ""
            },
            "colorscale": [
             [
              0,
              "#0d0887"
             ],
             [
              0.1111111111111111,
              "#46039f"
             ],
             [
              0.2222222222222222,
              "#7201a8"
             ],
             [
              0.3333333333333333,
              "#9c179e"
             ],
             [
              0.4444444444444444,
              "#bd3786"
             ],
             [
              0.5555555555555556,
              "#d8576b"
             ],
             [
              0.6666666666666666,
              "#ed7953"
             ],
             [
              0.7777777777777778,
              "#fb9f3a"
             ],
             [
              0.8888888888888888,
              "#fdca26"
             ],
             [
              1,
              "#f0f921"
             ]
            ],
            "type": "histogram2d"
           }
          ],
          "histogram2dcontour": [
           {
            "colorbar": {
             "outlinewidth": 0,
             "ticks": ""
            },
            "colorscale": [
             [
              0,
              "#0d0887"
             ],
             [
              0.1111111111111111,
              "#46039f"
             ],
             [
              0.2222222222222222,
              "#7201a8"
             ],
             [
              0.3333333333333333,
              "#9c179e"
             ],
             [
              0.4444444444444444,
              "#bd3786"
             ],
             [
              0.5555555555555556,
              "#d8576b"
             ],
             [
              0.6666666666666666,
              "#ed7953"
             ],
             [
              0.7777777777777778,
              "#fb9f3a"
             ],
             [
              0.8888888888888888,
              "#fdca26"
             ],
             [
              1,
              "#f0f921"
             ]
            ],
            "type": "histogram2dcontour"
           }
          ],
          "mesh3d": [
           {
            "colorbar": {
             "outlinewidth": 0,
             "ticks": ""
            },
            "type": "mesh3d"
           }
          ],
          "parcoords": [
           {
            "line": {
             "colorbar": {
              "outlinewidth": 0,
              "ticks": ""
             }
            },
            "type": "parcoords"
           }
          ],
          "pie": [
           {
            "automargin": true,
            "type": "pie"
           }
          ],
          "scatter": [
           {
            "fillpattern": {
             "fillmode": "overlay",
             "size": 10,
             "solidity": 0.2
            },
            "type": "scatter"
           }
          ],
          "scatter3d": [
           {
            "line": {
             "colorbar": {
              "outlinewidth": 0,
              "ticks": ""
             }
            },
            "marker": {
             "colorbar": {
              "outlinewidth": 0,
              "ticks": ""
             }
            },
            "type": "scatter3d"
           }
          ],
          "scattercarpet": [
           {
            "marker": {
             "colorbar": {
              "outlinewidth": 0,
              "ticks": ""
             }
            },
            "type": "scattercarpet"
           }
          ],
          "scattergeo": [
           {
            "marker": {
             "colorbar": {
              "outlinewidth": 0,
              "ticks": ""
             }
            },
            "type": "scattergeo"
           }
          ],
          "scattergl": [
           {
            "marker": {
             "colorbar": {
              "outlinewidth": 0,
              "ticks": ""
             }
            },
            "type": "scattergl"
           }
          ],
          "scattermapbox": [
           {
            "marker": {
             "colorbar": {
              "outlinewidth": 0,
              "ticks": ""
             }
            },
            "type": "scattermapbox"
           }
          ],
          "scatterpolar": [
           {
            "marker": {
             "colorbar": {
              "outlinewidth": 0,
              "ticks": ""
             }
            },
            "type": "scatterpolar"
           }
          ],
          "scatterpolargl": [
           {
            "marker": {
             "colorbar": {
              "outlinewidth": 0,
              "ticks": ""
             }
            },
            "type": "scatterpolargl"
           }
          ],
          "scatterternary": [
           {
            "marker": {
             "colorbar": {
              "outlinewidth": 0,
              "ticks": ""
             }
            },
            "type": "scatterternary"
           }
          ],
          "surface": [
           {
            "colorbar": {
             "outlinewidth": 0,
             "ticks": ""
            },
            "colorscale": [
             [
              0,
              "#0d0887"
             ],
             [
              0.1111111111111111,
              "#46039f"
             ],
             [
              0.2222222222222222,
              "#7201a8"
             ],
             [
              0.3333333333333333,
              "#9c179e"
             ],
             [
              0.4444444444444444,
              "#bd3786"
             ],
             [
              0.5555555555555556,
              "#d8576b"
             ],
             [
              0.6666666666666666,
              "#ed7953"
             ],
             [
              0.7777777777777778,
              "#fb9f3a"
             ],
             [
              0.8888888888888888,
              "#fdca26"
             ],
             [
              1,
              "#f0f921"
             ]
            ],
            "type": "surface"
           }
          ],
          "table": [
           {
            "cells": {
             "fill": {
              "color": "#EBF0F8"
             },
             "line": {
              "color": "white"
             }
            },
            "header": {
             "fill": {
              "color": "#C8D4E3"
             },
             "line": {
              "color": "white"
             }
            },
            "type": "table"
           }
          ]
         },
         "layout": {
          "annotationdefaults": {
           "arrowcolor": "#2a3f5f",
           "arrowhead": 0,
           "arrowwidth": 1
          },
          "autotypenumbers": "strict",
          "coloraxis": {
           "colorbar": {
            "outlinewidth": 0,
            "ticks": ""
           }
          },
          "colorscale": {
           "diverging": [
            [
             0,
             "#8e0152"
            ],
            [
             0.1,
             "#c51b7d"
            ],
            [
             0.2,
             "#de77ae"
            ],
            [
             0.3,
             "#f1b6da"
            ],
            [
             0.4,
             "#fde0ef"
            ],
            [
             0.5,
             "#f7f7f7"
            ],
            [
             0.6,
             "#e6f5d0"
            ],
            [
             0.7,
             "#b8e186"
            ],
            [
             0.8,
             "#7fbc41"
            ],
            [
             0.9,
             "#4d9221"
            ],
            [
             1,
             "#276419"
            ]
           ],
           "sequential": [
            [
             0,
             "#0d0887"
            ],
            [
             0.1111111111111111,
             "#46039f"
            ],
            [
             0.2222222222222222,
             "#7201a8"
            ],
            [
             0.3333333333333333,
             "#9c179e"
            ],
            [
             0.4444444444444444,
             "#bd3786"
            ],
            [
             0.5555555555555556,
             "#d8576b"
            ],
            [
             0.6666666666666666,
             "#ed7953"
            ],
            [
             0.7777777777777778,
             "#fb9f3a"
            ],
            [
             0.8888888888888888,
             "#fdca26"
            ],
            [
             1,
             "#f0f921"
            ]
           ],
           "sequentialminus": [
            [
             0,
             "#0d0887"
            ],
            [
             0.1111111111111111,
             "#46039f"
            ],
            [
             0.2222222222222222,
             "#7201a8"
            ],
            [
             0.3333333333333333,
             "#9c179e"
            ],
            [
             0.4444444444444444,
             "#bd3786"
            ],
            [
             0.5555555555555556,
             "#d8576b"
            ],
            [
             0.6666666666666666,
             "#ed7953"
            ],
            [
             0.7777777777777778,
             "#fb9f3a"
            ],
            [
             0.8888888888888888,
             "#fdca26"
            ],
            [
             1,
             "#f0f921"
            ]
           ]
          },
          "colorway": [
           "#636efa",
           "#EF553B",
           "#00cc96",
           "#ab63fa",
           "#FFA15A",
           "#19d3f3",
           "#FF6692",
           "#B6E880",
           "#FF97FF",
           "#FECB52"
          ],
          "font": {
           "color": "#2a3f5f"
          },
          "geo": {
           "bgcolor": "white",
           "lakecolor": "white",
           "landcolor": "#E5ECF6",
           "showlakes": true,
           "showland": true,
           "subunitcolor": "white"
          },
          "hoverlabel": {
           "align": "left"
          },
          "hovermode": "closest",
          "mapbox": {
           "style": "light"
          },
          "paper_bgcolor": "white",
          "plot_bgcolor": "#E5ECF6",
          "polar": {
           "angularaxis": {
            "gridcolor": "white",
            "linecolor": "white",
            "ticks": ""
           },
           "bgcolor": "#E5ECF6",
           "radialaxis": {
            "gridcolor": "white",
            "linecolor": "white",
            "ticks": ""
           }
          },
          "scene": {
           "xaxis": {
            "backgroundcolor": "#E5ECF6",
            "gridcolor": "white",
            "gridwidth": 2,
            "linecolor": "white",
            "showbackground": true,
            "ticks": "",
            "zerolinecolor": "white"
           },
           "yaxis": {
            "backgroundcolor": "#E5ECF6",
            "gridcolor": "white",
            "gridwidth": 2,
            "linecolor": "white",
            "showbackground": true,
            "ticks": "",
            "zerolinecolor": "white"
           },
           "zaxis": {
            "backgroundcolor": "#E5ECF6",
            "gridcolor": "white",
            "gridwidth": 2,
            "linecolor": "white",
            "showbackground": true,
            "ticks": "",
            "zerolinecolor": "white"
           }
          },
          "shapedefaults": {
           "line": {
            "color": "#2a3f5f"
           }
          },
          "ternary": {
           "aaxis": {
            "gridcolor": "white",
            "linecolor": "white",
            "ticks": ""
           },
           "baxis": {
            "gridcolor": "white",
            "linecolor": "white",
            "ticks": ""
           },
           "bgcolor": "#E5ECF6",
           "caxis": {
            "gridcolor": "white",
            "linecolor": "white",
            "ticks": ""
           }
          },
          "title": {
           "x": 0.05
          },
          "xaxis": {
           "automargin": true,
           "gridcolor": "white",
           "linecolor": "white",
           "ticks": "",
           "title": {
            "standoff": 15
           },
           "zerolinecolor": "white",
           "zerolinewidth": 2
          },
          "yaxis": {
           "automargin": true,
           "gridcolor": "white",
           "linecolor": "white",
           "ticks": "",
           "title": {
            "standoff": 15
           },
           "zerolinecolor": "white",
           "zerolinewidth": 2
          }
         }
        }
       }
      },
      "text/html": [
       "<div>                            <div id=\"6baa2230-8c91-4ac9-bb5c-6f3b0d0d2105\" class=\"plotly-graph-div\" style=\"height:525px; width:100%;\"></div>            <script type=\"text/javascript\">                require([\"plotly\"], function(Plotly) {                    window.PLOTLYENV=window.PLOTLYENV || {};                                    if (document.getElementById(\"6baa2230-8c91-4ac9-bb5c-6f3b0d0d2105\")) {                    Plotly.newPlot(                        \"6baa2230-8c91-4ac9-bb5c-6f3b0d0d2105\",                        [{\"mode\":\"markers\",\"x\":[-0.825484037399292,0.2373226433992386],\"y\":[-0.5073594450950623,-0.9617244601249695],\"z\":[0.24731047451496124,-0.13698221743106842],\"type\":\"scatter3d\"},{\"line\":{\"width\":15},\"mode\":\"lines\",\"x\":[-0.825484037399292,0.0],\"y\":[-0.5073594450950623,0.0],\"z\":[0.24731047451496124,0.0],\"type\":\"scatter3d\"},{\"line\":{\"width\":15},\"mode\":\"lines\",\"x\":[0.2373226433992386,0.0],\"y\":[-0.9617244601249695,0.0],\"z\":[-0.13698221743106842,0.0],\"type\":\"scatter3d\"},{\"line\":{\"width\":5},\"mode\":\"lines\",\"x\":[-0.825484037399292,-1.229231834411621],\"y\":[-0.5073594450950623,-0.06727799773216248],\"z\":[0.24731047451496124,-0.5547593832015991],\"type\":\"scatter3d\"},{\"line\":{\"width\":5},\"mode\":\"lines\",\"x\":[-0.825484037399292,-0.6434045433998108],\"y\":[-0.5073594450950623,-0.3655993640422821],\"z\":[0.24731047451496124,-0.7257009148597717],\"type\":\"scatter3d\"},{\"line\":{\"width\":5},\"mode\":\"lines\",\"x\":[-0.825484037399292,0.005021929740905762],\"y\":[-0.5073594450950623,-1.058895468711853],\"z\":[0.24731047451496124,0.16941438615322113],\"type\":\"scatter3d\"},{\"line\":{\"width\":5},\"mode\":\"lines\",\"x\":[-0.825484037399292,0.150262713432312],\"y\":[-0.5073594450950623,-0.28918957710266113],\"z\":[0.24731047451496124,0.2652032673358917],\"type\":\"scatter3d\"},{\"line\":{\"width\":5},\"mode\":\"lines\",\"x\":[-0.825484037399292,-0.4418337345123291],\"y\":[-0.5073594450950623,-1.039149284362793],\"z\":[0.24731047451496124,-0.5076809525489807],\"type\":\"scatter3d\"},{\"line\":{\"width\":5},\"mode\":\"lines\",\"x\":[-0.825484037399292,0.17027735710144043],\"y\":[-0.5073594450950623,-0.5709817409515381],\"z\":[0.24731047451496124,0.31372806429862976],\"type\":\"scatter3d\"},{\"line\":{\"width\":5},\"mode\":\"lines\",\"x\":[-0.825484037399292,-0.7045687437057495],\"y\":[-0.5073594450950623,-0.7429132461547852],\"z\":[0.24731047451496124,-0.7169995903968811],\"type\":\"scatter3d\"},{\"line\":{\"width\":5},\"mode\":\"lines\",\"x\":[-0.825484037399292,-0.3310224711894989],\"y\":[-0.5073594450950623,-0.3945153057575226],\"z\":[0.24731047451496124,1.1091538667678833],\"type\":\"scatter3d\"},{\"line\":{\"width\":5},\"mode\":\"lines\",\"x\":[-0.825484037399292,0.09256887435913086],\"y\":[-0.5073594450950623,-0.2777191996574402],\"z\":[0.24731047451496124,-0.07586784660816193],\"type\":\"scatter3d\"},{\"line\":{\"width\":5},\"mode\":\"lines\",\"x\":[-0.825484037399292,-0.24736154079437256],\"y\":[-0.5073594450950623,-1.1294485330581665],\"z\":[0.24731047451496124,0.7753061652183533],\"type\":\"scatter3d\"},{\"line\":{\"width\":5},\"mode\":\"lines\",\"x\":[-0.825484037399292,0.0448794960975647],\"y\":[-0.5073594450950623,-0.46994128823280334],\"z\":[0.24731047451496124,0.7382965087890625],\"type\":\"scatter3d\"},{\"line\":{\"width\":5},\"mode\":\"lines\",\"x\":[-0.825484037399292,-0.43250980973243713],\"y\":[-0.5073594450950623,0.16496622562408447],\"z\":[0.24731047451496124,0.8746456503868103],\"type\":\"scatter3d\"},{\"line\":{\"width\":5},\"mode\":\"lines\",\"x\":[-0.825484037399292,-1.0165098905563354],\"y\":[-0.5073594450950623,0.3668854832649231],\"z\":[0.24731047451496124,-0.19901330769062042],\"type\":\"scatter3d\"},{\"line\":{\"width\":5},\"mode\":\"lines\",\"x\":[-0.825484037399292,0.14346623420715332],\"y\":[-0.5073594450950623,-0.7224187850952148],\"z\":[0.24731047451496124,0.12530724704265594],\"type\":\"scatter3d\"},{\"line\":{\"width\":5},\"mode\":\"lines\",\"x\":[-0.825484037399292,-1.0394304990768433],\"y\":[-0.5073594450950623,0.3644293546676636],\"z\":[0.24731047451496124,0.6880044341087341],\"type\":\"scatter3d\"},{\"line\":{\"width\":5},\"mode\":\"lines\",\"x\":[0.2373226433992386,1.0633015632629395],\"y\":[-0.9617244601249695,-0.42504262924194336],\"z\":[-0.13698221743106842,-0.3094105124473572],\"type\":\"scatter3d\"},{\"line\":{\"width\":5},\"mode\":\"lines\",\"x\":[0.2373226433992386,0.19144383072853088],\"y\":[-0.9617244601249695,-0.42318612337112427],\"z\":[-0.13698221743106842,0.7043688297271729],\"type\":\"scatter3d\"},{\"line\":{\"width\":5},\"mode\":\"lines\",\"x\":[0.2373226433992386,-0.04063756763935089],\"y\":[-0.9617244601249695,-0.8669590950012207],\"z\":[-0.13698221743106842,0.8189244866371155],\"type\":\"scatter3d\"},{\"line\":{\"width\":5},\"mode\":\"lines\",\"x\":[0.2373226433992386,0.8315652012825012],\"y\":[-0.9617244601249695,-0.5548521280288696],\"z\":[-0.13698221743106842,0.5567978024482727],\"type\":\"scatter3d\"},{\"line\":{\"width\":5},\"mode\":\"lines\",\"x\":[0.2373226433992386,-0.6325186491012573],\"y\":[-0.9617244601249695,-0.6042900085449219],\"z\":[-0.13698221743106842,0.20304252207279205],\"type\":\"scatter3d\"},{\"line\":{\"width\":5},\"mode\":\"lines\",\"x\":[0.2373226433992386,-0.0941927582025528],\"y\":[-0.9617244601249695,-0.5874603390693665],\"z\":[-0.13698221743106842,-1.003021478652954],\"type\":\"scatter3d\"},{\"line\":{\"width\":5},\"mode\":\"lines\",\"x\":[0.2373226433992386,-0.48695534467697144],\"y\":[-0.9617244601249695,-0.3627796769142151],\"z\":[-0.13698221743106842,-0.47857630252838135],\"type\":\"scatter3d\"},{\"line\":{\"width\":5},\"mode\":\"lines\",\"x\":[0.2373226433992386,0.743392288684845],\"y\":[-0.9617244601249695,-0.565659761428833],\"z\":[-0.13698221743106842,-0.9031585454940796],\"type\":\"scatter3d\"},{\"line\":{\"width\":5},\"mode\":\"lines\",\"x\":[0.2373226433992386,0.7839036583900452],\"y\":[-0.9617244601249695,-0.27408337593078613],\"z\":[-0.13698221743106842,-0.6148931980133057],\"type\":\"scatter3d\"},{\"line\":{\"width\":5},\"mode\":\"lines\",\"x\":[0.2373226433992386,0.32048049569129944],\"y\":[-0.9617244601249695,-0.08951878547668457],\"z\":[-0.13698221743106842,-0.6190009117126465],\"type\":\"scatter3d\"},{\"line\":{\"width\":5},\"mode\":\"lines\",\"x\":[0.2373226433992386,0.5494675040245056],\"y\":[-0.9617244601249695,-0.01171046495437622],\"z\":[-0.13698221743106842,-0.13074101507663727],\"type\":\"scatter3d\"},{\"line\":{\"width\":5},\"mode\":\"lines\",\"x\":[0.2373226433992386,-0.38483303785324097],\"y\":[-0.9617244601249695,-0.2976738214492798],\"z\":[-0.13698221743106842,0.27769726514816284],\"type\":\"scatter3d\"},{\"line\":{\"width\":5},\"mode\":\"lines\",\"x\":[0.2373226433992386,-0.264506995677948],\"y\":[-0.9617244601249695,-0.09979677200317383],\"z\":[-0.13698221743106842,-0.20942318439483643],\"type\":\"scatter3d\"},{\"line\":{\"width\":5},\"mode\":\"lines\",\"x\":[0.2373226433992386,-0.3835851550102234],\"y\":[-0.9617244601249695,-1.0681785345077515],\"z\":[-0.13698221743106842,0.6396393775939941],\"type\":\"scatter3d\"},{\"line\":{\"width\":5},\"mode\":\"lines\",\"x\":[0.2373226433992386,0.40480712056159973],\"y\":[-0.9617244601249695,0.018340647220611572],\"z\":[-0.13698221743106842,-0.030111655592918396],\"type\":\"scatter3d\"}],                        {\"template\":{\"data\":{\"histogram2dcontour\":[{\"type\":\"histogram2dcontour\",\"colorbar\":{\"outlinewidth\":0,\"ticks\":\"\"},\"colorscale\":[[0.0,\"#0d0887\"],[0.1111111111111111,\"#46039f\"],[0.2222222222222222,\"#7201a8\"],[0.3333333333333333,\"#9c179e\"],[0.4444444444444444,\"#bd3786\"],[0.5555555555555556,\"#d8576b\"],[0.6666666666666666,\"#ed7953\"],[0.7777777777777778,\"#fb9f3a\"],[0.8888888888888888,\"#fdca26\"],[1.0,\"#f0f921\"]]}],\"choropleth\":[{\"type\":\"choropleth\",\"colorbar\":{\"outlinewidth\":0,\"ticks\":\"\"}}],\"histogram2d\":[{\"type\":\"histogram2d\",\"colorbar\":{\"outlinewidth\":0,\"ticks\":\"\"},\"colorscale\":[[0.0,\"#0d0887\"],[0.1111111111111111,\"#46039f\"],[0.2222222222222222,\"#7201a8\"],[0.3333333333333333,\"#9c179e\"],[0.4444444444444444,\"#bd3786\"],[0.5555555555555556,\"#d8576b\"],[0.6666666666666666,\"#ed7953\"],[0.7777777777777778,\"#fb9f3a\"],[0.8888888888888888,\"#fdca26\"],[1.0,\"#f0f921\"]]}],\"heatmap\":[{\"type\":\"heatmap\",\"colorbar\":{\"outlinewidth\":0,\"ticks\":\"\"},\"colorscale\":[[0.0,\"#0d0887\"],[0.1111111111111111,\"#46039f\"],[0.2222222222222222,\"#7201a8\"],[0.3333333333333333,\"#9c179e\"],[0.4444444444444444,\"#bd3786\"],[0.5555555555555556,\"#d8576b\"],[0.6666666666666666,\"#ed7953\"],[0.7777777777777778,\"#fb9f3a\"],[0.8888888888888888,\"#fdca26\"],[1.0,\"#f0f921\"]]}],\"heatmapgl\":[{\"type\":\"heatmapgl\",\"colorbar\":{\"outlinewidth\":0,\"ticks\":\"\"},\"colorscale\":[[0.0,\"#0d0887\"],[0.1111111111111111,\"#46039f\"],[0.2222222222222222,\"#7201a8\"],[0.3333333333333333,\"#9c179e\"],[0.4444444444444444,\"#bd3786\"],[0.5555555555555556,\"#d8576b\"],[0.6666666666666666,\"#ed7953\"],[0.7777777777777778,\"#fb9f3a\"],[0.8888888888888888,\"#fdca26\"],[1.0,\"#f0f921\"]]}],\"contourcarpet\":[{\"type\":\"contourcarpet\",\"colorbar\":{\"outlinewidth\":0,\"ticks\":\"\"}}],\"contour\":[{\"type\":\"contour\",\"colorbar\":{\"outlinewidth\":0,\"ticks\":\"\"},\"colorscale\":[[0.0,\"#0d0887\"],[0.1111111111111111,\"#46039f\"],[0.2222222222222222,\"#7201a8\"],[0.3333333333333333,\"#9c179e\"],[0.4444444444444444,\"#bd3786\"],[0.5555555555555556,\"#d8576b\"],[0.6666666666666666,\"#ed7953\"],[0.7777777777777778,\"#fb9f3a\"],[0.8888888888888888,\"#fdca26\"],[1.0,\"#f0f921\"]]}],\"surface\":[{\"type\":\"surface\",\"colorbar\":{\"outlinewidth\":0,\"ticks\":\"\"},\"colorscale\":[[0.0,\"#0d0887\"],[0.1111111111111111,\"#46039f\"],[0.2222222222222222,\"#7201a8\"],[0.3333333333333333,\"#9c179e\"],[0.4444444444444444,\"#bd3786\"],[0.5555555555555556,\"#d8576b\"],[0.6666666666666666,\"#ed7953\"],[0.7777777777777778,\"#fb9f3a\"],[0.8888888888888888,\"#fdca26\"],[1.0,\"#f0f921\"]]}],\"mesh3d\":[{\"type\":\"mesh3d\",\"colorbar\":{\"outlinewidth\":0,\"ticks\":\"\"}}],\"scatter\":[{\"fillpattern\":{\"fillmode\":\"overlay\",\"size\":10,\"solidity\":0.2},\"type\":\"scatter\"}],\"parcoords\":[{\"type\":\"parcoords\",\"line\":{\"colorbar\":{\"outlinewidth\":0,\"ticks\":\"\"}}}],\"scatterpolargl\":[{\"type\":\"scatterpolargl\",\"marker\":{\"colorbar\":{\"outlinewidth\":0,\"ticks\":\"\"}}}],\"bar\":[{\"error_x\":{\"color\":\"#2a3f5f\"},\"error_y\":{\"color\":\"#2a3f5f\"},\"marker\":{\"line\":{\"color\":\"#E5ECF6\",\"width\":0.5},\"pattern\":{\"fillmode\":\"overlay\",\"size\":10,\"solidity\":0.2}},\"type\":\"bar\"}],\"scattergeo\":[{\"type\":\"scattergeo\",\"marker\":{\"colorbar\":{\"outlinewidth\":0,\"ticks\":\"\"}}}],\"scatterpolar\":[{\"type\":\"scatterpolar\",\"marker\":{\"colorbar\":{\"outlinewidth\":0,\"ticks\":\"\"}}}],\"histogram\":[{\"marker\":{\"pattern\":{\"fillmode\":\"overlay\",\"size\":10,\"solidity\":0.2}},\"type\":\"histogram\"}],\"scattergl\":[{\"type\":\"scattergl\",\"marker\":{\"colorbar\":{\"outlinewidth\":0,\"ticks\":\"\"}}}],\"scatter3d\":[{\"type\":\"scatter3d\",\"line\":{\"colorbar\":{\"outlinewidth\":0,\"ticks\":\"\"}},\"marker\":{\"colorbar\":{\"outlinewidth\":0,\"ticks\":\"\"}}}],\"scattermapbox\":[{\"type\":\"scattermapbox\",\"marker\":{\"colorbar\":{\"outlinewidth\":0,\"ticks\":\"\"}}}],\"scatterternary\":[{\"type\":\"scatterternary\",\"marker\":{\"colorbar\":{\"outlinewidth\":0,\"ticks\":\"\"}}}],\"scattercarpet\":[{\"type\":\"scattercarpet\",\"marker\":{\"colorbar\":{\"outlinewidth\":0,\"ticks\":\"\"}}}],\"carpet\":[{\"aaxis\":{\"endlinecolor\":\"#2a3f5f\",\"gridcolor\":\"white\",\"linecolor\":\"white\",\"minorgridcolor\":\"white\",\"startlinecolor\":\"#2a3f5f\"},\"baxis\":{\"endlinecolor\":\"#2a3f5f\",\"gridcolor\":\"white\",\"linecolor\":\"white\",\"minorgridcolor\":\"white\",\"startlinecolor\":\"#2a3f5f\"},\"type\":\"carpet\"}],\"table\":[{\"cells\":{\"fill\":{\"color\":\"#EBF0F8\"},\"line\":{\"color\":\"white\"}},\"header\":{\"fill\":{\"color\":\"#C8D4E3\"},\"line\":{\"color\":\"white\"}},\"type\":\"table\"}],\"barpolar\":[{\"marker\":{\"line\":{\"color\":\"#E5ECF6\",\"width\":0.5},\"pattern\":{\"fillmode\":\"overlay\",\"size\":10,\"solidity\":0.2}},\"type\":\"barpolar\"}],\"pie\":[{\"automargin\":true,\"type\":\"pie\"}]},\"layout\":{\"autotypenumbers\":\"strict\",\"colorway\":[\"#636efa\",\"#EF553B\",\"#00cc96\",\"#ab63fa\",\"#FFA15A\",\"#19d3f3\",\"#FF6692\",\"#B6E880\",\"#FF97FF\",\"#FECB52\"],\"font\":{\"color\":\"#2a3f5f\"},\"hovermode\":\"closest\",\"hoverlabel\":{\"align\":\"left\"},\"paper_bgcolor\":\"white\",\"plot_bgcolor\":\"#E5ECF6\",\"polar\":{\"bgcolor\":\"#E5ECF6\",\"angularaxis\":{\"gridcolor\":\"white\",\"linecolor\":\"white\",\"ticks\":\"\"},\"radialaxis\":{\"gridcolor\":\"white\",\"linecolor\":\"white\",\"ticks\":\"\"}},\"ternary\":{\"bgcolor\":\"#E5ECF6\",\"aaxis\":{\"gridcolor\":\"white\",\"linecolor\":\"white\",\"ticks\":\"\"},\"baxis\":{\"gridcolor\":\"white\",\"linecolor\":\"white\",\"ticks\":\"\"},\"caxis\":{\"gridcolor\":\"white\",\"linecolor\":\"white\",\"ticks\":\"\"}},\"coloraxis\":{\"colorbar\":{\"outlinewidth\":0,\"ticks\":\"\"}},\"colorscale\":{\"sequential\":[[0.0,\"#0d0887\"],[0.1111111111111111,\"#46039f\"],[0.2222222222222222,\"#7201a8\"],[0.3333333333333333,\"#9c179e\"],[0.4444444444444444,\"#bd3786\"],[0.5555555555555556,\"#d8576b\"],[0.6666666666666666,\"#ed7953\"],[0.7777777777777778,\"#fb9f3a\"],[0.8888888888888888,\"#fdca26\"],[1.0,\"#f0f921\"]],\"sequentialminus\":[[0.0,\"#0d0887\"],[0.1111111111111111,\"#46039f\"],[0.2222222222222222,\"#7201a8\"],[0.3333333333333333,\"#9c179e\"],[0.4444444444444444,\"#bd3786\"],[0.5555555555555556,\"#d8576b\"],[0.6666666666666666,\"#ed7953\"],[0.7777777777777778,\"#fb9f3a\"],[0.8888888888888888,\"#fdca26\"],[1.0,\"#f0f921\"]],\"diverging\":[[0,\"#8e0152\"],[0.1,\"#c51b7d\"],[0.2,\"#de77ae\"],[0.3,\"#f1b6da\"],[0.4,\"#fde0ef\"],[0.5,\"#f7f7f7\"],[0.6,\"#e6f5d0\"],[0.7,\"#b8e186\"],[0.8,\"#7fbc41\"],[0.9,\"#4d9221\"],[1,\"#276419\"]]},\"xaxis\":{\"gridcolor\":\"white\",\"linecolor\":\"white\",\"ticks\":\"\",\"title\":{\"standoff\":15},\"zerolinecolor\":\"white\",\"automargin\":true,\"zerolinewidth\":2},\"yaxis\":{\"gridcolor\":\"white\",\"linecolor\":\"white\",\"ticks\":\"\",\"title\":{\"standoff\":15},\"zerolinecolor\":\"white\",\"automargin\":true,\"zerolinewidth\":2},\"scene\":{\"xaxis\":{\"backgroundcolor\":\"#E5ECF6\",\"gridcolor\":\"white\",\"linecolor\":\"white\",\"showbackground\":true,\"ticks\":\"\",\"zerolinecolor\":\"white\",\"gridwidth\":2},\"yaxis\":{\"backgroundcolor\":\"#E5ECF6\",\"gridcolor\":\"white\",\"linecolor\":\"white\",\"showbackground\":true,\"ticks\":\"\",\"zerolinecolor\":\"white\",\"gridwidth\":2},\"zaxis\":{\"backgroundcolor\":\"#E5ECF6\",\"gridcolor\":\"white\",\"linecolor\":\"white\",\"showbackground\":true,\"ticks\":\"\",\"zerolinecolor\":\"white\",\"gridwidth\":2}},\"shapedefaults\":{\"line\":{\"color\":\"#2a3f5f\"}},\"annotationdefaults\":{\"arrowcolor\":\"#2a3f5f\",\"arrowhead\":0,\"arrowwidth\":1},\"geo\":{\"bgcolor\":\"white\",\"landcolor\":\"#E5ECF6\",\"subunitcolor\":\"white\",\"showland\":true,\"showlakes\":true,\"lakecolor\":\"white\"},\"title\":{\"x\":0.05},\"mapbox\":{\"style\":\"light\"}}},\"scene\":{\"xaxis\":{\"range\":[-2,2],\"autorange\":false,\"zeroline\":false},\"yaxis\":{\"range\":[-2,2],\"autorange\":false,\"zeroline\":false},\"zaxis\":{\"range\":[-2,2],\"autorange\":false,\"zeroline\":false},\"aspectmode\":\"cube\"}},                        {\"responsive\": true}                    ).then(function(){\n",
       "                            \n",
       "var gd = document.getElementById('6baa2230-8c91-4ac9-bb5c-6f3b0d0d2105');\n",
       "var x = new MutationObserver(function (mutations, observer) {{\n",
       "        var display = window.getComputedStyle(gd).display;\n",
       "        if (!display || display === 'none') {{\n",
       "            console.log([gd, 'removed!']);\n",
       "            Plotly.purge(gd);\n",
       "            observer.disconnect();\n",
       "        }}\n",
       "}});\n",
       "\n",
       "// Listen for the removal of the full notebook cells\n",
       "var notebookContainer = gd.closest('#notebook-container');\n",
       "if (notebookContainer) {{\n",
       "    x.observe(notebookContainer, {childList: true});\n",
       "}}\n",
       "\n",
       "// Listen for the clearing of the current output cell\n",
       "var outputEl = gd.closest('.output');\n",
       "if (outputEl) {{\n",
       "    x.observe(outputEl, {childList: true});\n",
       "}}\n",
       "\n",
       "                        })                };                });            </script>        </div>"
      ]
     },
     "metadata": {},
     "output_type": "display_data"
    }
   ],
   "source": [
    "num_positions = 2\n",
    "num_directions = 15\n",
    "positions = random_points_on_unit_sphere(num_positions, cartesian=True)\n",
    "normals = -positions\n",
    "directions = random_inward_facing_directions(num_directions, normals)\n",
    "\n",
    "# plot position as point and normal as line with arrow head using plotly\n",
    "fig = go.Figure()\n",
    "\n",
    "# Add position points\n",
    "fig.add_trace(go.Scatter3d(x=positions[:, 0], y=positions[:, 1], z=positions[:, 2], mode='markers'))\n",
    "\n",
    "# Add normal vector lines\n",
    "for position, normal in zip(positions, normals):\n",
    "    fig.add_trace(go.Scatter3d(x=[position[0], normal[0]+position[0]], y=[position[1], normal[1]+position[1]], z=[position[2], normal[2]+position[2]], mode='lines', line=dict(width=15)))\n",
    "\n",
    "\n",
    "for i, position in enumerate(positions):\n",
    "    for j, direction in enumerate(directions[i]):\n",
    "        # Add direction vector lines\n",
    "        fig.add_trace(go.Scatter3d(x=[position[0], direction[0]+position[0]], y=[position[1], direction[1]+position[1]], z=[position[2], direction[2]+position[2]], mode='lines', line=dict(width=5)))\n",
    "\n",
    "# set square and all axes equal\n",
    "fig.update_layout(\n",
    "    scene=dict(\n",
    "        aspectmode='cube',\n",
    "        xaxis=dict(range=[-2, 2], autorange=False, zeroline=False),\n",
    "        yaxis=dict(range=[-2, 2], autorange=False, zeroline=False),\n",
    "        zaxis=dict(range=[-2, 2], autorange=False, zeroline=False),\n",
    "    )\n",
    ")\n",
    "\n",
    "fig.show()"
   ]
  },
  {
   "cell_type": "code",
   "execution_count": 8,
   "metadata": {},
   "outputs": [
    {
     "data": {
      "text/plain": [
       "Network(n_input_dims=38, n_output_dims=2, seed=1337, dtype=torch.float16, hyperparams={'encoding': {'offset': 0.0, 'otype': 'Identity', 'scale': 1.0}, 'network': {'activation': 'ReLU', 'n_hidden_layers': 3, 'n_neurons': 128, 'otype': 'FullyFusedMLP', 'output_activation': 'None'}, 'otype': 'NetworkWithInputEncoding'})"
      ]
     },
     "execution_count": 8,
     "metadata": {},
     "output_type": "execute_result"
    }
   ],
   "source": [
    "# Setup DDF Field\n",
    "from nerfstudio.field_components.encodings import SHEncoding\n",
    "import tinycudann as tcnn\n",
    "\n",
    "def get_normalized_tensor(t):\n",
    "    \"\"\"SH encoding must be in the range [0, 1]\n",
    "\n",
    "    Args:\n",
    "        t: batch of vectors\n",
    "    \"\"\"\n",
    "    return (t + 1.0) / 2.0\n",
    "\n",
    "position_encoding = SHEncoding(4)\n",
    "direction_encoding = SHEncoding(4)\n",
    "\n",
    "hidden_dim_ddf = 128\n",
    "num_layers_ddf = 4\n",
    "output_dim_ddf = 2 # Scalar distance and probability of termination\n",
    "\n",
    "ddf = tcnn.Network(\n",
    "    n_input_dims=6\n",
    "    + position_encoding.get_out_dim()\n",
    "    + direction_encoding.get_out_dim(),\n",
    "    n_output_dims=output_dim_ddf,\n",
    "    network_config={\n",
    "        \"otype\": \"FullyFusedMLP\",\n",
    "        \"activation\": \"ReLU\",\n",
    "        \"output_activation\": \"None\",\n",
    "        \"n_neurons\": hidden_dim_ddf,\n",
    "        \"n_hidden_layers\": num_layers_ddf - 1,\n",
    "    },\n",
    ")\n",
    "\n",
    "ddf.to(device)"
   ]
  },
  {
   "cell_type": "code",
   "execution_count": 11,
   "metadata": {},
   "outputs": [
    {
     "name": "stderr",
     "output_type": "stream",
     "text": [
      "Failed to detect the name of this notebook, you can set it manually with the WANDB_NOTEBOOK_NAME environment variable to enable code saving.\n",
      "\u001b[34m\u001b[1mwandb\u001b[0m: Currently logged in as: \u001b[33muoy-jadgardner\u001b[0m. Use \u001b[1m`wandb login --relogin`\u001b[0m to force relogin\n"
     ]
    },
    {
     "data": {
      "text/html": [
       "wandb version 0.15.0 is available!  To upgrade, please run:\n",
       " $ pip install wandb --upgrade"
      ],
      "text/plain": [
       "<IPython.core.display.HTML object>"
      ]
     },
     "metadata": {},
     "output_type": "display_data"
    },
    {
     "data": {
      "text/html": [
       "Tracking run with wandb version 0.13.7"
      ],
      "text/plain": [
       "<IPython.core.display.HTML object>"
      ]
     },
     "metadata": {},
     "output_type": "display_data"
    },
    {
     "data": {
      "text/html": [
       "Run data is saved locally in <code>/workspaces/sdfstudio/wandb/run-20230424_081536-2qjn5fuv</code>"
      ],
      "text/plain": [
       "<IPython.core.display.HTML object>"
      ]
     },
     "metadata": {},
     "output_type": "display_data"
    },
    {
     "data": {
      "text/html": [
       "Syncing run <strong><a href=\"https://wandb.ai/uoy-jadgardner/ddf/runs/2qjn5fuv\" target=\"_blank\">effortless-salad-1</a></strong> to <a href=\"https://wandb.ai/uoy-jadgardner/ddf\" target=\"_blank\">Weights & Biases</a> (<a href=\"https://wandb.me/run\" target=\"_blank\">docs</a>)<br/>"
      ],
      "text/plain": [
       "<IPython.core.display.HTML object>"
      ]
     },
     "metadata": {},
     "output_type": "display_data"
    },
    {
     "name": "stderr",
     "output_type": "stream",
     "text": [
      "/home/user/.local/lib/python3.10/site-packages/torch/nn/modules/loss.py:530: UserWarning:\n",
      "\n",
      "Using a target size (torch.Size([100, 1])) that is different to the input size (torch.Size([100])). This will likely lead to incorrect results due to broadcasting. Please ensure they have the same size.\n",
      "\n"
     ]
    },
    {
     "data": {
      "text/html": [
       "Waiting for W&B process to finish... <strong style=\"color:green\">(success).</strong>"
      ],
      "text/plain": [
       "<IPython.core.display.HTML object>"
      ]
     },
     "metadata": {},
     "output_type": "display_data"
    },
    {
     "data": {
      "application/vnd.jupyter.widget-view+json": {
       "model_id": "a8b2946e667f40b8b58dd55af7cfc1b7",
       "version_major": 2,
       "version_minor": 0
      },
      "text/plain": [
       "VBox(children=(Label(value='0.003 MB of 0.003 MB uploaded (0.000 MB deduped)\\r'), FloatProgress(value=1.0, max…"
      ]
     },
     "metadata": {},
     "output_type": "display_data"
    },
    {
     "data": {
      "text/html": [
       "<style>\n",
       "    table.wandb td:nth-child(1) { padding: 0 10px; text-align: left ; width: auto;} td:nth-child(2) {text-align: left ; width: 100%}\n",
       "    .wandb-row { display: flex; flex-direction: row; flex-wrap: wrap; justify-content: flex-start; width: 100% }\n",
       "    .wandb-col { display: flex; flex-direction: column; flex-basis: 100%; flex: 1; padding: 10px; }\n",
       "    </style>\n",
       "<div class=\"wandb-row\"><div class=\"wandb-col\"><h3>Run history:</h3><br/><table class=\"wandb\"><tr><td>hit_loss</td><td>▅▇▅▇▆▇▆▃▇▅▅▄▆▆▅█▄▆▆▅▄▅▄▃▇▅▄▁▅▆▅▂▇▅▆▇▆▇▆▆</td></tr><tr><td>sdf_loss</td><td>▃▇▅▅▂▇▅▁▆▅▃▁▅▅▅▅▁▅▅▂▂▂▂▁▇▄▅▂▅▅▄▁▄▆▆▆▁█▅▅</td></tr><tr><td>term_loss</td><td>▅▄▄▄▄▃▅▂▂▆▅▂▄▄█▅▃▆▄▄▄▃▇▂▃▃▆▁▅▂▄▁▄▅▂▃█▂▄▄</td></tr><tr><td>total_loss</td><td>▅▅▅▅▅▅▆▂▄▆▅▃▅▅█▆▃▆▅▄▄▄▇▂▄▄▆▁▆▃▅▁▅▆▃▄█▄▅▅</td></tr></table><br/></div><div class=\"wandb-col\"><h3>Run summary:</h3><br/><table class=\"wandb\"><tr><td>hit_loss</td><td>0.65804</td></tr><tr><td>sdf_loss</td><td>0.10465</td></tr><tr><td>term_loss</td><td>0.40325</td></tr><tr><td>total_loss</td><td>1.16594</td></tr></table><br/></div></div>"
      ],
      "text/plain": [
       "<IPython.core.display.HTML object>"
      ]
     },
     "metadata": {},
     "output_type": "display_data"
    },
    {
     "data": {
      "text/html": [
       "Synced <strong style=\"color:#cdcd00\">effortless-salad-1</strong>: <a href=\"https://wandb.ai/uoy-jadgardner/ddf/runs/2qjn5fuv\" target=\"_blank\">https://wandb.ai/uoy-jadgardner/ddf/runs/2qjn5fuv</a><br/>Synced 5 W&B file(s), 0 media file(s), 0 artifact file(s) and 0 other file(s)"
      ],
      "text/plain": [
       "<IPython.core.display.HTML object>"
      ]
     },
     "metadata": {},
     "output_type": "display_data"
    },
    {
     "data": {
      "text/html": [
       "Find logs at: <code>./wandb/run-20230424_081536-2qjn5fuv/logs</code>"
      ],
      "text/plain": [
       "<IPython.core.display.HTML object>"
      ]
     },
     "metadata": {},
     "output_type": "display_data"
    }
   ],
   "source": [
    "import wandb\n",
    "\n",
    "# Initialize a new W&B run\n",
    "wandb.init(project=\"ddf\")\n",
    "\n",
    "# setup optimizer and training loop\n",
    "optim = torch.optim.Adam(ddf.parameters(), lr=1e-4)\n",
    "sdf_loss = torch.nn.MSELoss()\n",
    "hit_probability_loss = torch.nn.BCEWithLogitsLoss()\n",
    "expected_termination_loss = torch.nn.MSELoss()\n",
    "\n",
    "dataset = DDFSDFDataset(100, 1.0, model, device)\n",
    "\n",
    "for i in range(5000):\n",
    "    positions, directions, accumultation, termination_dist = dataset[0]\n",
    "    positions = positions.to(device)\n",
    "    directions = directions.to(device)\n",
    "    accumultation = accumultation.to(device)\n",
    "    termination_dist = termination_dist.to(device)\n",
    "\n",
    "    encoded_positions = position_encoding(get_normalized_tensor(positions))\n",
    "    encoded_directions = direction_encoding(get_normalized_tensor(directions))\n",
    "\n",
    "    model_input = torch.cat([positions, directions, encoded_positions, encoded_directions], dim=-1)\n",
    "    \n",
    "    output = ddf(model_input).type(torch.float32)\n",
    "    expected_termination_dist = torch.relu(output[..., 0])\n",
    "    probability_of_hit = torch.sigmoid(output[..., 1])\n",
    "\n",
    "    # get sdf at expected termination distance\n",
    "    sdf_at_termination = model.field.get_sdf_at_pos(positions + directions * expected_termination_dist.unsqueeze(-1))\n",
    "    \n",
    "    l1 = 1.0 * sdf_loss(sdf_at_termination, torch.zeros_like(sdf_at_termination))\n",
    "    l2 = 1.0 * hit_probability_loss(probability_of_hit, accumultation)\n",
    "    l3 = 3.0 * expected_termination_loss(expected_termination_dist, termination_dist)\n",
    "\n",
    "    loss = l1 + l2 + l3\n",
    "    \n",
    "    optim.zero_grad()\n",
    "    loss.backward()\n",
    "    optim.step()\n",
    "\n",
    "    # Log losses to W&B\n",
    "    wandb.log({\"sdf_loss\": l1.item(), \"hit_loss\": l2.item(), \"term_loss\": l3.item(), \"total_loss\": loss.item()})\n",
    "\n",
    "wandb.finish()"
   ]
  },
  {
   "cell_type": "code",
   "execution_count": 19,
   "metadata": {},
   "outputs": [
    {
     "data": {
      "text/html": [
       "<pre style=\"white-space:pre;overflow-x:auto;line-height:normal;font-family:Menlo,'DejaVu Sans Mono',consolas,'Courier New',monospace\"><span style=\"color: #008000; text-decoration-color: #008000\">Generating output for camera...</span> <span style=\"color: #f92672; text-decoration-color: #f92672\">━━━━━━━━━━━━━━━━━━━━━━━━━━━━━━━━━━━━━━╸</span><span style=\"color: #3a3a3a; text-decoration-color: #3a3a3a\">━</span> <span style=\"color: #800080; text-decoration-color: #800080\"> 97%</span> <span style=\"color: #008080; text-decoration-color: #008080\">0:00:01</span>\n",
       "</pre>\n"
      ],
      "text/plain": [
       "\u001b[32mGenerating output for camera...\u001b[0m \u001b[38;2;249;38;114m━━━━━━━━━━━━━━━━━━━━━━━━━━━━━━━━━━━━━━\u001b[0m\u001b[38;2;249;38;114m╸\u001b[0m\u001b[38;5;237m━\u001b[0m \u001b[35m 97%\u001b[0m \u001b[36m0:00:01\u001b[0m\n"
      ]
     },
     "metadata": {},
     "output_type": "display_data"
    },
    {
     "data": {
      "text/html": [
       "<pre style=\"white-space:pre;overflow-x:auto;line-height:normal;font-family:Menlo,'DejaVu Sans Mono',consolas,'Courier New',monospace\"></pre>\n"
      ],
      "text/plain": []
     },
     "metadata": {},
     "output_type": "display_data"
    },
    {
     "data": {
      "text/html": [
       "<pre style=\"white-space:pre;overflow-x:auto;line-height:normal;font-family:Menlo,'DejaVu Sans Mono',consolas,'Courier New',monospace\">\n",
       "</pre>\n"
      ],
      "text/plain": [
       "\n"
      ]
     },
     "metadata": {},
     "output_type": "display_data"
    },
    {
     "data": {
      "text/plain": [
       "<matplotlib.image.AxesImage at 0x7f924012fac0>"
      ]
     },
     "execution_count": 19,
     "metadata": {},
     "output_type": "execute_result"
    },
    {
     "data": {
      "image/png": "[encoded data removed]",
      "text/plain": [
       "<Figure size 1000x500 with 2 Axes>"
      ]
     },
     "metadata": {},
     "output_type": "display_data"
    }
   ],
   "source": []
  },
  {
   "cell_type": "code",
   "execution_count": 31,
   "metadata": {},
   "outputs": [
    {
     "data": {
      "text/plain": [
       "torch.int64"
      ]
     },
     "execution_count": 31,
     "metadata": {},
     "output_type": "execute_result"
    }
   ],
   "source": [
    "camera_ray_bundle.camera_indices.dtype"
   ]
  },
  {
   "cell_type": "code",
   "execution_count": null,
   "metadata": {},
   "outputs": [],
   "source": []
  }
 ],
 "metadata": {
  "kernelspec": {
   "display_name": "Python 3",
   "language": "python",
   "name": "python3"
  },
  "language_info": {
   "codemirror_mode": {
    "name": "ipython",
    "version": 3
   },
   "file_extension": ".py",
   "mimetype": "text/x-python",
   "name": "python",
   "nbconvert_exporter": "python",
   "pygments_lexer": "ipython3",
   "version": "3.10.6"
  },
  "orig_nbformat": 4
 },
 "nbformat": 4,
 "nbformat_minor": 2
}

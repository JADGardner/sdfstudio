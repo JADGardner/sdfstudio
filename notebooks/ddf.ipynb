{
 "cells": [
  {
   "cell_type": "code",
   "execution_count": null,
   "metadata": {},
   "outputs": [],
   "source": [
    "# set visible devices\n",
    "import os\n",
    "os.environ[\"CUDA_VISIBLE_DEVICES\"] = \"1\""
   ]
  },
  {
   "cell_type": "code",
   "execution_count": 1,
   "metadata": {},
   "outputs": [
    {
     "data": {
      "text/html": [
       "<pre style=\"white-space:pre;overflow-x:auto;line-height:normal;font-family:Menlo,'DejaVu Sans Mono',consolas,'Courier New',monospace\">Loading data batch <span style=\"color: #729c1f; text-decoration-color: #729c1f\">━━━━━━━━━━━━━━━━━━━━━━━━━━━━━━━━━━━━━━━━</span> <span style=\"color: #800080; text-decoration-color: #800080\">100%</span> <span style=\"color: #008080; text-decoration-color: #008080\">0:00:00</span>\n",
       "</pre>\n"
      ],
      "text/plain": [
       "Loading data batch \u001b[38;2;114;156;31m━━━━━━━━━━━━━━━━━━━━━━━━━━━━━━━━━━━━━━━━\u001b[0m \u001b[35m100%\u001b[0m \u001b[36m0:00:00\u001b[0m\n"
      ]
     },
     "metadata": {},
     "output_type": "display_data"
    },
    {
     "data": {
      "text/html": [
       "<pre style=\"white-space:pre;overflow-x:auto;line-height:normal;font-family:Menlo,'DejaVu Sans Mono',consolas,'Courier New',monospace\"></pre>\n"
      ],
      "text/plain": []
     },
     "metadata": {},
     "output_type": "display_data"
    },
    {
     "data": {
      "text/html": [
       "<pre style=\"white-space:pre;overflow-x:auto;line-height:normal;font-family:Menlo,'DejaVu Sans Mono',consolas,'Courier New',monospace\">\n",
       "</pre>\n"
      ],
      "text/plain": [
       "\n"
      ]
     },
     "metadata": {},
     "output_type": "display_data"
    },
    {
     "data": {
      "text/plain": [
       "True"
      ]
     },
     "execution_count": 1,
     "metadata": {},
     "output_type": "execute_result"
    }
   ],
   "source": [
    "# set the cwd to the root of the repo\n",
    "\n",
    "import os\n",
    "# change dir to root of repo\n",
    "os.chdir('..')\n",
    "\n",
    "import torch\n",
    "import yaml\n",
    "from pathlib import Path\n",
    "import random\n",
    "import matplotlib.pyplot as plt\n",
    "import numpy as np\n",
    "import tqdm\n",
    "import plotly.graph_objects as go\n",
    "from torch.utils.data import Dataset\n",
    "\n",
    "from nerfstudio.configs import base_config as cfg\n",
    "from nerfstudio.configs.method_configs import method_configs\n",
    "from nerfstudio.data.dataparsers.nerfosr_dataparser import NeRFOSR, NeRFOSRDataParserConfig\n",
    "from nerfstudio.models.reni_neus import RENINeuSModel, RENINeuSModelConfig\n",
    "from nerfstudio.pipelines.base_pipeline import VanillaDataManager\n",
    "from nerfstudio.field_components.field_heads import FieldHeadNames\n",
    "from nerfstudio.fields.reni_field import get_directions\n",
    "from nerfstudio.fields.reni_field import RENIField, get_directions, get_sineweight\n",
    "from nerfstudio.cameras.rays import RayBundle\n",
    "from nerfstudio.utils.images import BasicImages\n",
    "\n",
    "def make_ray_bundle_clone(ray_bundle):\n",
    "    new_ray_bundle = RayBundle(\n",
    "      origins=ray_bundle.origins.detach().clone(),\n",
    "      directions=ray_bundle.directions.detach().clone(),\n",
    "      pixel_area=ray_bundle.pixel_area.detach().clone(),\n",
    "      directions_norm=ray_bundle.directions_norm.detach().clone(),\n",
    "      camera_indices=ray_bundle.camera_indices.detach().clone(),\n",
    "      nears=ray_bundle.nears.detach().clone() if ray_bundle.nears is not None else None,\n",
    "      fars=ray_bundle.fars.detach().clone() if ray_bundle.fars is not None else None,\n",
    "    )\n",
    "    return new_ray_bundle\n",
    "\n",
    "def make_batch_clone(batch):\n",
    "    new_batch = {}\n",
    "    for key, value in batch.items():\n",
    "        if isinstance(value, torch.Tensor):\n",
    "            new_batch[key] = value.detach().clone()\n",
    "        else:\n",
    "            new_batch[key] = value\n",
    "    return new_batch       \n",
    "\n",
    "def sRGB(imgs):\n",
    "    # if shape is not B, C, H, W, then add batch dimension\n",
    "    if len(imgs.shape) == 3:\n",
    "        imgs = imgs.unsqueeze(0)\n",
    "    q = torch.quantile(torch.quantile(torch.quantile(imgs, 0.98, dim=(1)), 0.98, dim=(1)), 0.98, dim=(1))\n",
    "    imgs = imgs / q.unsqueeze(1).unsqueeze(2).unsqueeze(3)\n",
    "    imgs = torch.clamp(imgs, 0.0, 1.0)\n",
    "    imgs = torch.where(\n",
    "        imgs <= 0.0031308,\n",
    "        12.92 * imgs,\n",
    "        1.055 * torch.pow(torch.abs(imgs), 1 / 2.4) - 0.055,\n",
    "    )\n",
    "    return imgs\n",
    "\n",
    "def rotation_matrix(axis, angle):\n",
    "    \"\"\"\n",
    "    Return 3D rotation matrix for rotating around the given axis by the given angle.\n",
    "    \"\"\"\n",
    "    axis = np.asarray(axis)\n",
    "    axis = axis / np.sqrt(np.dot(axis, axis))\n",
    "    a = np.cos(angle / 2.0)\n",
    "    b, c, d = -axis * np.sin(angle / 2.0)\n",
    "    aa, bb, cc, dd = a * a, b * b, c * c, d * d\n",
    "    bc, ad, ac, ab, bd, cd = b * c, a * d, a * c, a * b, b * d, c * d\n",
    "    return np.array([[aa + bb - cc - dd, 2 * (bc + ad), 2 * (bd - ac)],\n",
    "                     [2 * (bc - ad), aa + cc - bb - dd, 2 * (cd + ab)],\n",
    "                     [2 * (bd + ac), 2 * (cd - ab), aa + dd - bb - cc]])\n",
    "\n",
    "# setup config\n",
    "test_mode = 'val'\n",
    "world_size = 1\n",
    "local_rank = 0\n",
    "device = 'cuda:0'\n",
    "\n",
    "ckpt_path = 'outputs/data-NeRF-OSR-Data/RENI-NeuS/latest_with_rot_and_clip_illumination/'\n",
    "step = 80000\n",
    "\n",
    "ckpt = torch.load(ckpt_path + '/sdfstudio_models' + f'/step-{step:09d}.ckpt', map_location=device)\n",
    "model_dict = {}\n",
    "for key in ckpt['pipeline'].keys():\n",
    "    if key.startswith('_model.'):\n",
    "        model_dict[key[7:]] = ckpt['pipeline'][key]\n",
    "\n",
    "# load yaml checkpoint config\n",
    "config_path = Path(ckpt_path) / 'config.yml'\n",
    "config = yaml.load(config_path.open(), Loader=yaml.Loader)\n",
    "\n",
    "pipeline_config = config.pipeline\n",
    "pipeline_config.datamanager.dataparser.scene = 'lk2'\n",
    "pipeline_config.datamanager.dataparser.use_session_data = False\n",
    "\n",
    "# if illumination_sampler_random_rotation not in pipeline.config.model add it and set to false\n",
    "try:\n",
    "    pipeline_config.model.illumination_sampler_random_rotation\n",
    "except AttributeError:\n",
    "    pipeline_config.model.illumination_sampler_random_rotation = True\n",
    "try:\n",
    "    pipeline_config.model.illumination_sample_remove_lower_hemisphere\n",
    "except AttributeError:\n",
    "    pipeline_config.model.illumination_sample_remove_lower_hemisphere = True\n",
    "\n",
    "datamanager: VanillaDataManager = pipeline_config.datamanager.setup(\n",
    "    device=device, test_mode=test_mode, world_size=world_size, local_rank=local_rank, \n",
    ")\n",
    "datamanager.to(device)\n",
    "# includes num_eval_data as needed for reni latent code fitting.\n",
    "model = pipeline_config.model.setup(\n",
    "    scene_box=datamanager.train_dataset.scene_box,\n",
    "    num_train_data=len(datamanager.train_dataset),\n",
    "    num_eval_data=len(datamanager.eval_dataset),\n",
    "    metadata=datamanager.train_dataset.metadata,\n",
    "    world_size=world_size,\n",
    "    local_rank=local_rank,\n",
    "    eval_latent_optimisation_source=pipeline_config.eval_latent_optimisation_source,\n",
    ")\n",
    "model.to(device)\n",
    "\n",
    "model.load_state_dict(model_dict)\n",
    "model.eval()\n",
    "\n",
    "image_idx_original = 1\n",
    "camera_ray_bundle_original, batch_original = datamanager.eval_dataloader.get_data_from_image_idx(image_idx_original)\n",
    "if isinstance(batch_original[\"image\"], BasicImages):\n",
    "    batch_original[\"image\"] = batch_original[\"image\"].images[0]\n",
    "    camera_ray_bundle_original = camera_ray_bundle_original.reshape((*batch_original[\"image\"].shape[:-1], 1))\n",
    "\n",
    "True # printing to hide long cell output"
   ]
  },
  {
   "attachments": {},
   "cell_type": "markdown",
   "metadata": {},
   "source": [
    "mlp($\\hat{x}, d$) where $x = \\hat{x}r$\n",
    "\n",
    "$||x|| = ||d|| = 1$\n",
    "\n",
    "Losses:\n",
    "\n",
    "1. DDF->SDF Level Set \n",
    "2. Ray Hit Probability Supervision -> SDF Accumulation \n",
    "3. SDF Expected Termination Supervisioni -> SDF Accumulation\n",
    "4. Multiview consitancy -> other point on sphere $x_{2}$ looking at same point must have $f_{\\text{DDF}} <= \n"
   ]
  },
  {
   "attachments": {},
   "cell_type": "markdown",
   "metadata": {},
   "source": [
    "Now we need to generate a lot of random positions on a unit sphere and directions but directions need to be only in the hemisphere of the inward facing normal from the point on the sphere."
   ]
  },
  {
   "cell_type": "code",
   "execution_count": 2,
   "metadata": {},
   "outputs": [],
   "source": [
    "def random_points_on_unit_sphere(num_points, cartesian=False):\n",
    "    theta = 2 * torch.pi * torch.rand(num_points)\n",
    "    phi = torch.acos(2 * torch.rand(num_points) - 1)\n",
    "    if cartesian:\n",
    "        return torch.stack(sph2cart(theta, phi), dim=1)\n",
    "    return torch.stack([theta, phi], dim=1)\n",
    "\n",
    "def random_inward_facing_directions(num_directions, normals):\n",
    "    # num_directions = scalar\n",
    "    # normals = (N, 3)\n",
    "    # returns (N, num_directions, 3)\n",
    "\n",
    "    # For each normal get a random set of directions\n",
    "    directions = random_points_on_unit_sphere(num_directions * normals.shape[0], cartesian=True)\n",
    "    directions = directions.reshape(normals.shape[0], num_directions, 3)\n",
    "\n",
    "    # remove any directions that are not in the hemisphere of the associated normal\n",
    "    dot_products = torch.sum(normals.unsqueeze(1) * directions, dim=2)\n",
    "    mask = dot_products < 0\n",
    "\n",
    "    # negate the directions that are not in the hemisphere\n",
    "    directions[mask] = -directions[mask]\n",
    "\n",
    "    return directions    \n",
    "\n",
    "def sph2cart(theta, phi):\n",
    "    x = torch.sin(phi) * torch.cos(theta)\n",
    "    y = torch.sin(phi) * torch.sin(theta)\n",
    "    z = torch.cos(phi)\n",
    "    return x, y, z\n",
    "\n",
    "def cart2sph(x, y, z):\n",
    "    r = torch.sqrt(x**2 + y**2 + z**2)\n",
    "    theta = torch.atan2(y, x)\n",
    "    phi = torch.acos(z / r)\n",
    "    return theta, phi\n",
    "\n",
    "def look_at_target(camera_position, target_position, up_vector=torch.tensor([0.0, 0.0, 1.0])):\n",
    "    def normalize(vector):\n",
    "        return vector / torch.norm(vector)\n",
    "    \n",
    "    forward_vector = -normalize(target_position - camera_position)\n",
    "    \n",
    "    right_vector = normalize(torch.cross(up_vector, forward_vector))\n",
    "    \n",
    "    actual_up_vector = normalize(torch.cross(forward_vector, right_vector))\n",
    "    \n",
    "    c2w_matrix = torch.zeros(4, 4)\n",
    "    c2w_matrix[:3, 0] = right_vector\n",
    "    c2w_matrix[:3, 1] = actual_up_vector\n",
    "    c2w_matrix[:3, 2] = forward_vector\n",
    "    c2w_matrix[:3, 3] = camera_position\n",
    "    c2w_matrix[3, 3] = 1.0\n",
    "    \n",
    "    return c2w_matrix\n",
    "\n",
    "class DDFSDFDataset(Dataset):\n",
    "    def __init__(self, num_directions, ddf_sphere_radius, sdf_function, repeat_position, device):\n",
    "        self.sdf_function = sdf_function\n",
    "        self.ddf_sphere_radius = ddf_sphere_radius\n",
    "        self.num_directions = num_directions\n",
    "        self.repeat_position = repeat_position\n",
    "        self.device = device\n",
    "        # generate a H and W from number of directions\n",
    "        self.H, self.W = self._find_factors(self.num_directions)[-1]\n",
    "\n",
    "        origins = torch.zeros(self.H, self.W, 1, 3, device=device)\n",
    "        directions = torch.ones(self.H, self.W, 1, 3, device=device)\n",
    "        pixel_area = torch.ones(self.H, self.W, 1, 1, device=device)\n",
    "        directions_norm = torch.ones(self.H, self.W, 1, 1, device=device)\n",
    "        # camera indices should be int64\n",
    "        camera_indices = torch.zeros(self.H, self.W, 1, 1, device=device, dtype=torch.int64)\n",
    "        nears = torch.ones(self.H, self.W, 1, 1, device=device) * sdf_function.scene_box.near\n",
    "        fars = torch.ones(self.H, self.W, 1, 1, device=device) * sdf_function.scene_box.far\n",
    "\n",
    "        self.ray_bundle = RayBundle(\n",
    "                              origins=origins,\n",
    "                              directions=directions,\n",
    "                              pixel_area=pixel_area,\n",
    "                              directions_norm=directions_norm,\n",
    "                              camera_indices=camera_indices,\n",
    "                              nears=nears,\n",
    "                              fars=fars\n",
    "                          )\n",
    "\n",
    "    def __len__(self):\n",
    "        return self.num_positions\n",
    "    \n",
    "    def _find_factors(self, value):\n",
    "      factors = []\n",
    "      for i in range(2, int(value**0.5) + 1):\n",
    "          if value % i == 0:\n",
    "              factors.append((i, value // i))\n",
    "      return factors\n",
    "\n",
    "    def _generate_sample(self):\n",
    "        if self.repeat_position:\n",
    "            positions = torch.tensor([[0.6421, 0.7197, -0.2640]])\n",
    "            positions = positions / torch.norm(positions)\n",
    "        else:\n",
    "            positions = random_points_on_unit_sphere(1, cartesian=True) # (1, 3)\n",
    "\n",
    "        directions = random_inward_facing_directions(self.num_directions, normals=-positions) # (1, num_directions, 3)\n",
    "        \n",
    "        # scale positions from unit sphere to ddf_sphere_radius\n",
    "        positions = positions * self.ddf_sphere_radius\n",
    "        \n",
    "        pos_ray = positions.unsqueeze(1).unsqueeze(1).expand(self.H, self.W, 1, -1).to(self.device)\n",
    "        dir_ray = directions.reshape(self.H, self.W, 3).unsqueeze(2).to(self.device)\n",
    "\n",
    "        self.ray_bundle.origins = pos_ray\n",
    "        self.ray_bundle.directions = dir_ray\n",
    "        field_outputs = self.sdf_function.get_outputs_for_camera_ray_bundle(self.ray_bundle)\n",
    "        accumultation = field_outputs[\"accumulation\"].reshape(-1, 1).squeeze()\n",
    "        termination_dist = field_outputs[\"depth\"].reshape(-1, 1).squeeze()\n",
    "\n",
    "        directions = directions.squeeze(0)\n",
    "        positions = positions.repeat(directions.shape[0], 1)\n",
    "\n",
    "        return positions, directions, accumultation, termination_dist\n",
    "        \n",
    "    def __getitem__(self, idx):\n",
    "        return self._generate_sample()\n"
   ]
  },
  {
   "cell_type": "code",
   "execution_count": 3,
   "metadata": {},
   "outputs": [
    {
     "data": {
      "text/html": [
       "<pre style=\"white-space:pre;overflow-x:auto;line-height:normal;font-family:Menlo,'DejaVu Sans Mono',consolas,'Courier New',monospace\"><span style=\"color: #008000; text-decoration-color: #008000\">Generating output for camera...</span> <span style=\"color: #f92672; text-decoration-color: #f92672\">━━━━━━━━━━━━━━━━━━━━━━━━━━━━━━━━━━━━━━━╸</span> <span style=\"color: #800080; text-decoration-color: #800080\">100%</span> <span style=\"color: #008080; text-decoration-color: #008080\">0:00:01</span>\n",
       "</pre>\n"
      ],
      "text/plain": [
       "\u001b[32mGenerating output for camera...\u001b[0m \u001b[38;2;249;38;114m━━━━━━━━━━━━━━━━━━━━━━━━━━━━━━━━━━━━━━━\u001b[0m\u001b[38;2;249;38;114m╸\u001b[0m \u001b[35m100%\u001b[0m \u001b[36m0:00:01\u001b[0m\n"
      ]
     },
     "metadata": {},
     "output_type": "display_data"
    },
    {
     "data": {
      "text/html": [
       "<pre style=\"white-space:pre;overflow-x:auto;line-height:normal;font-family:Menlo,'DejaVu Sans Mono',consolas,'Courier New',monospace\"></pre>\n"
      ],
      "text/plain": []
     },
     "metadata": {},
     "output_type": "display_data"
    },
    {
     "data": {
      "text/html": [
       "<pre style=\"white-space:pre;overflow-x:auto;line-height:normal;font-family:Menlo,'DejaVu Sans Mono',consolas,'Courier New',monospace\">\n",
       "</pre>\n"
      ],
      "text/plain": [
       "\n"
      ]
     },
     "metadata": {},
     "output_type": "display_data"
    },
    {
     "data": {
      "text/plain": [
       "<matplotlib.image.AxesImage at 0x7f285d75bb50>"
      ]
     },
     "execution_count": 3,
     "metadata": {},
     "output_type": "execute_result"
    },
    {
     "data": {
      "image/png": "[encoded data removed]",
      "text/plain": [
       "<Figure size 1000x500 with 3 Axes>"
      ]
     },
     "metadata": {},
     "output_type": "display_data"
    }
   ],
   "source": [
    "camera_ray_bundle = make_ray_bundle_clone(camera_ray_bundle_original)\n",
    "batch = make_batch_clone(batch_original)\n",
    "\n",
    "# set all nears to 0.05\n",
    "camera_ray_bundle.nears = torch.zeros_like(camera_ray_bundle.directions_norm) + model.scene_box.near\n",
    "# set all fars to 100\n",
    "camera_ray_bundle.fars = torch.zeros_like(camera_ray_bundle.directions_norm) + model.scene_box.far\n",
    "\n",
    "model.config.eval_num_rays_per_chunk = 2048\n",
    "\n",
    "outputs = model.get_outputs_for_camera_ray_bundle(camera_ray_bundle, show_progress=True)\n",
    "\n",
    "accumulation = outputs['accumulation'].cpu().detach().numpy()\n",
    "visibiltiy = 1.0 - accumulation\n",
    "rgb = outputs['rgb'].cpu().detach().numpy()\n",
    "depth = outputs['depth'].cpu().detach().numpy()\n",
    "depth = depth * (outputs['accumulation'] > 0.7).float().cpu().detach().numpy()\n",
    "\n",
    "# plot both in the same figure\n",
    "fig, ax = plt.subplots(1, 3, figsize=(10, 5))\n",
    "ax[0].imshow(visibiltiy)\n",
    "ax[1].imshow(rgb)\n",
    "ax[2].imshow(depth)"
   ]
  },
  {
   "attachments": {},
   "cell_type": "markdown",
   "metadata": {},
   "source": [
    "So lets test this with just a single frame, looking at the centre of the scene but but on the unit sphere\n",
    "\n",
    "First generate the data:"
   ]
  },
  {
   "cell_type": "code",
   "execution_count": 11,
   "metadata": {},
   "outputs": [
    {
     "data": {
      "text/html": [
       "<pre style=\"white-space:pre;overflow-x:auto;line-height:normal;font-family:Menlo,'DejaVu Sans Mono',consolas,'Courier New',monospace\"><span style=\"color: #008000; text-decoration-color: #008000\">Generating output for camera...</span> <span style=\"color: #f92672; text-decoration-color: #f92672\">━━━━━━━━━━━━━━━━━━━━━━━━━━━━━━━━━━━━━━━╸</span> <span style=\"color: #800080; text-decoration-color: #800080\">100%</span> <span style=\"color: #008080; text-decoration-color: #008080\">0:00:01</span>\n",
       "</pre>\n"
      ],
      "text/plain": [
       "\u001b[32mGenerating output for camera...\u001b[0m \u001b[38;2;249;38;114m━━━━━━━━━━━━━━━━━━━━━━━━━━━━━━━━━━━━━━━\u001b[0m\u001b[38;2;249;38;114m╸\u001b[0m \u001b[35m100%\u001b[0m \u001b[36m0:00:01\u001b[0m\n"
      ]
     },
     "metadata": {},
     "output_type": "display_data"
    },
    {
     "data": {
      "text/html": [
       "<pre style=\"white-space:pre;overflow-x:auto;line-height:normal;font-family:Menlo,'DejaVu Sans Mono',consolas,'Courier New',monospace\"></pre>\n"
      ],
      "text/plain": []
     },
     "metadata": {},
     "output_type": "display_data"
    },
    {
     "data": {
      "text/html": [
       "<pre style=\"white-space:pre;overflow-x:auto;line-height:normal;font-family:Menlo,'DejaVu Sans Mono',consolas,'Courier New',monospace\">\n",
       "</pre>\n"
      ],
      "text/plain": [
       "\n"
      ]
     },
     "metadata": {},
     "output_type": "display_data"
    },
    {
     "data": {
      "text/plain": [
       "tensor([[ 0.9907, -0.0118, -0.1355, -0.0879],\n",
       "        [-0.1336, -0.2737, -0.9525, -0.5683],\n",
       "        [-0.0259,  0.9618, -0.2727,  0.0014]], device='cuda:0')"
      ]
     },
     "execution_count": 11,
     "metadata": {},
     "output_type": "execute_result"
    }
   ],
   "source": [
    "# get the c2w matrix of the camera\n",
    "old_c2w = datamanager.eval_dataloader.cameras[image_idx_original].camera_to_worlds.detach().clone() # [3, 4]\n",
    "new_pos = old_c2w[:3, 3].detach().clone() # [3]\n",
    "new_pos[2] = new_pos[2] + 0.07\n",
    "new_pos = new_pos / torch.norm(new_pos) # on the unit sphere\n",
    "\n",
    "new_c2w = look_at_target(new_pos.cpu(), torch.tensor([0.0, 0.0, 0.0]))[:3, :4] # [3, 4] # C2W matrix looking at the center of the scene\n",
    "\n",
    "datamanager.eval_dataloader.cameras.camera_to_worlds[image_idx_original].copy_(new_c2w)\n",
    "\n",
    "camera_ray_bundle, batch = datamanager.eval_dataloader.get_data_from_image_idx(image_idx_original)\n",
    "if isinstance(batch[\"image\"], BasicImages):\n",
    "    batch[\"image\"] = batch[\"image\"].images[0]\n",
    "    camera_ray_bundle = camera_ray_bundle.reshape((*batch[\"image\"].shape[:-1], 1))\n",
    "\n",
    "# set all nears to 0.05\n",
    "camera_ray_bundle.nears = torch.zeros_like(camera_ray_bundle.directions_norm) + model.scene_box.near\n",
    "# set all fars to 100\n",
    "camera_ray_bundle.fars = torch.zeros_like(camera_ray_bundle.directions_norm) + model.scene_box.far\n",
    "\n",
    "model.config.eval_num_rays_per_chunk = 2048\n",
    "\n",
    "outputs = model.get_outputs_for_camera_ray_bundle(camera_ray_bundle, show_progress=True)\n",
    "\n",
    "# set the c2w matrix back to the original one\n",
    "datamanager.eval_dataloader.cameras.camera_to_worlds[image_idx_original].copy_(old_c2w)"
   ]
  },
  {
   "cell_type": "code",
   "execution_count": 12,
   "metadata": {},
   "outputs": [
    {
     "data": {
      "text/plain": [
       "<matplotlib.image.AxesImage at 0x7eff0cb32e90>"
      ]
     },
     "execution_count": 12,
     "metadata": {},
     "output_type": "execute_result"
    },
    {
     "data": {
      "image/png": "[encoded data removed]",
      "text/plain": [
       "<Figure size 1000x500 with 3 Axes>"
      ]
     },
     "metadata": {},
     "output_type": "display_data"
    }
   ],
   "source": [
    "accumulation = outputs['accumulation'].cpu().detach().numpy()\n",
    "visibiltiy = 1.0 - accumulation\n",
    "rgb = outputs['rgb'].cpu().detach().numpy()\n",
    "depth = outputs['depth'].cpu().detach().numpy()\n",
    "depth = depth * (outputs['accumulation'] > 0.7).float().cpu().detach().numpy()\n",
    "\n",
    "# plot both in the same figure\n",
    "fig, ax = plt.subplots(1, 3, figsize=(10, 5))\n",
    "ax[0].imshow(visibiltiy)\n",
    "ax[1].imshow(rgb)\n",
    "ax[2].imshow(depth)"
   ]
  },
  {
   "attachments": {},
   "cell_type": "markdown",
   "metadata": {},
   "source": [
    "Get positions and directions for each ray in coming from the camera:"
   ]
  },
  {
   "cell_type": "code",
   "execution_count": null,
   "metadata": {},
   "outputs": [],
   "source": [
    "H, W = camera_ray_bundle.origins.shape[:2]\n",
    "\n",
    "positions = new_pos.unsqueeze(0).unsqueeze(0).unsqueeze(0).repeat(H, W, 1, 1).to(device) # [H, W, 1, 3]\n",
    "positions = positions.reshape(-1, 3) # [N, 3]\n",
    "directions = camera_ray_bundle.directions # [H, W, 1, 3]\n",
    "directions = directions.reshape(-1, 3) # [N, 3]\n",
    "accumulation = outputs['accumulation'].reshape(-1, 1).squeeze() # [N]\n",
    "termination_dist = outputs['depth'].reshape(-1, 1).squeeze() # [N]\n",
    "\n",
    "# move data into dictionary and save\n",
    "data = {\n",
    "    \"H\": H,\n",
    "    \"W\": W,\n",
    "    \"positions\": positions,\n",
    "    \"directions\": directions,\n",
    "    \"accumulation\": accumulation,\n",
    "    \"termination_dist\": termination_dist,\n",
    "}\n",
    "\n",
    "torch.save(data, \"notebooks/ddf_test_data/single_viewpoint_data.pt\")"
   ]
  },
  {
   "cell_type": "code",
   "execution_count": 4,
   "metadata": {},
   "outputs": [
    {
     "data": {
      "text/plain": [
       "Network(n_input_dims=108, n_output_dims=2, seed=1337, dtype=torch.float16, hyperparams={'encoding': {'offset': 0.0, 'otype': 'Identity', 'scale': 1.0}, 'network': {'activation': 'ReLU', 'n_hidden_layers': 6, 'n_neurons': 128, 'otype': 'FullyFusedMLP', 'output_activation': 'None'}, 'otype': 'NetworkWithInputEncoding'})"
      ]
     },
     "execution_count": 4,
     "metadata": {},
     "output_type": "execute_result"
    }
   ],
   "source": [
    "# Setup DDF Field\n",
    "from nerfstudio.field_components.encodings import SHEncoding, NeRFEncoding\n",
    "import tinycudann as tcnn\n",
    "\n",
    "def get_normalized_tensor(t):\n",
    "    \"\"\"SH encoding must be in the range [0, 1]\n",
    "\n",
    "    Args:\n",
    "        t: batch of vectors\n",
    "    \"\"\"\n",
    "    return (t + 1.0) / 2.0\n",
    "\n",
    "position_encoding = SHEncoding(4)\n",
    "direction_encoding = SHEncoding(4)\n",
    "\n",
    "position_encoding = NeRFEncoding(\n",
    "    in_dim=3, num_frequencies=10, min_freq_exp=0.0, max_freq_exp=8.0, include_input=True\n",
    ")\n",
    "direction_encoding = NeRFEncoding(\n",
    "    in_dim=3, num_frequencies=6, min_freq_exp=0.0, max_freq_exp=8.0, include_input=True\n",
    ")\n",
    "\n",
    "hidden_dim_ddf = 128\n",
    "num_layers_ddf = 7\n",
    "output_dim_ddf = 2 # Scalar distance and probability of termination\n",
    "\n",
    "ddf = tcnn.Network(\n",
    "    n_input_dims=6\n",
    "    + position_encoding.get_out_dim()\n",
    "    + direction_encoding.get_out_dim(),\n",
    "    n_output_dims=output_dim_ddf,\n",
    "    network_config={\n",
    "        \"otype\": \"FullyFusedMLP\",\n",
    "        \"activation\": \"ReLU\",\n",
    "        \"output_activation\": \"None\",\n",
    "        \"n_neurons\": hidden_dim_ddf,\n",
    "        \"n_hidden_layers\": num_layers_ddf - 1,\n",
    "    },\n",
    ")\n",
    "\n",
    "ddf.to(device)"
   ]
  },
  {
   "attachments": {},
   "cell_type": "markdown",
   "metadata": {},
   "source": [
    "This is testing using a SIREN network"
   ]
  },
  {
   "cell_type": "code",
   "execution_count": 20,
   "metadata": {},
   "outputs": [
    {
     "data": {
      "text/plain": [
       "Siren(\n",
       "  (net): Sequential(\n",
       "    (0): SineLayer(\n",
       "      (linear): Linear(in_features=6, out_features=256, bias=True)\n",
       "    )\n",
       "    (1): SineLayer(\n",
       "      (linear): Linear(in_features=256, out_features=256, bias=True)\n",
       "    )\n",
       "    (2): SineLayer(\n",
       "      (linear): Linear(in_features=256, out_features=256, bias=True)\n",
       "    )\n",
       "    (3): SineLayer(\n",
       "      (linear): Linear(in_features=256, out_features=256, bias=True)\n",
       "    )\n",
       "    (4): SineLayer(\n",
       "      (linear): Linear(in_features=256, out_features=256, bias=True)\n",
       "    )\n",
       "    (5): Linear(in_features=256, out_features=2, bias=True)\n",
       "  )\n",
       ")"
      ]
     },
     "execution_count": 20,
     "metadata": {},
     "output_type": "execute_result"
    }
   ],
   "source": [
    "from notebooks.siren import Siren\n",
    "\n",
    "ddf = Siren(in_features=6, hidden_features=256, hidden_layers=4, out_features=2, outermost_linear=True, first_omega_0=30, hidden_omega_0=30)\n",
    "\n",
    "ddf.to(device)"
   ]
  },
  {
   "cell_type": "code",
   "execution_count": 24,
   "metadata": {},
   "outputs": [
    {
     "data": {
      "text/html": [
       "Finishing last run (ID:25icxl01) before initializing another..."
      ],
      "text/plain": [
       "<IPython.core.display.HTML object>"
      ]
     },
     "metadata": {},
     "output_type": "display_data"
    },
    {
     "data": {
      "text/html": [
       "Waiting for W&B process to finish... <strong style=\"color:green\">(success).</strong>"
      ],
      "text/plain": [
       "<IPython.core.display.HTML object>"
      ]
     },
     "metadata": {},
     "output_type": "display_data"
    },
    {
     "data": {
      "application/vnd.jupyter.widget-view+json": {
       "model_id": "0021614682d64fa7b1f4523225dcb6d2",
       "version_major": 2,
       "version_minor": 0
      },
      "text/plain": [
       "VBox(children=(Label(value='0.003 MB of 0.003 MB uploaded (0.000 MB deduped)\\r'), FloatProgress(value=1.0, max…"
      ]
     },
     "metadata": {},
     "output_type": "display_data"
    },
    {
     "data": {
      "text/html": [
       "Synced <strong style=\"color:#cdcd00\">clean-microwave-39</strong>: <a href=\"https://wandb.ai/uoy-jadgardner/ddf/runs/25icxl01\" target=\"_blank\">https://wandb.ai/uoy-jadgardner/ddf/runs/25icxl01</a><br/>Synced 5 W&B file(s), 0 media file(s), 0 artifact file(s) and 0 other file(s)"
      ],
      "text/plain": [
       "<IPython.core.display.HTML object>"
      ]
     },
     "metadata": {},
     "output_type": "display_data"
    },
    {
     "data": {
      "text/html": [
       "Find logs at: <code>./wandb/run-20230425_075026-25icxl01/logs</code>"
      ],
      "text/plain": [
       "<IPython.core.display.HTML object>"
      ]
     },
     "metadata": {},
     "output_type": "display_data"
    },
    {
     "data": {
      "text/html": [
       "Successfully finished last run (ID:25icxl01). Initializing new run:<br/>"
      ],
      "text/plain": [
       "<IPython.core.display.HTML object>"
      ]
     },
     "metadata": {},
     "output_type": "display_data"
    },
    {
     "data": {
      "application/vnd.jupyter.widget-view+json": {
       "model_id": "caa4fb4894af4243baff473510542f51",
       "version_major": 2,
       "version_minor": 0
      },
      "text/plain": [
       "VBox(children=(Label(value='Waiting for wandb.init()...\\r'), FloatProgress(value=0.01666997563346134, max=1.0)…"
      ]
     },
     "metadata": {},
     "output_type": "display_data"
    },
    {
     "data": {
      "text/html": [
       "wandb version 0.15.0 is available!  To upgrade, please run:\n",
       " $ pip install wandb --upgrade"
      ],
      "text/plain": [
       "<IPython.core.display.HTML object>"
      ]
     },
     "metadata": {},
     "output_type": "display_data"
    },
    {
     "data": {
      "text/html": [
       "Tracking run with wandb version 0.13.7"
      ],
      "text/plain": [
       "<IPython.core.display.HTML object>"
      ]
     },
     "metadata": {},
     "output_type": "display_data"
    },
    {
     "data": {
      "text/html": [
       "Run data is saved locally in <code>/workspaces/sdfstudio/wandb/run-20230425_075052-9rf5oe41</code>"
      ],
      "text/plain": [
       "<IPython.core.display.HTML object>"
      ]
     },
     "metadata": {},
     "output_type": "display_data"
    },
    {
     "data": {
      "text/html": [
       "Syncing run <strong><a href=\"https://wandb.ai/uoy-jadgardner/ddf/runs/9rf5oe41\" target=\"_blank\">olive-lion-40</a></strong> to <a href=\"https://wandb.ai/uoy-jadgardner/ddf\" target=\"_blank\">Weights & Biases</a> (<a href=\"https://wandb.me/run\" target=\"_blank\">docs</a>)<br/>"
      ],
      "text/plain": [
       "<IPython.core.display.HTML object>"
      ]
     },
     "metadata": {},
     "output_type": "display_data"
    },
    {
     "name": "stderr",
     "output_type": "stream",
     "text": [
      "100%|██████████| 1500/1500 [00:24<00:00, 60.27it/s]\n"
     ]
    },
    {
     "data": {
      "text/html": [
       "Waiting for W&B process to finish... <strong style=\"color:green\">(success).</strong>"
      ],
      "text/plain": [
       "<IPython.core.display.HTML object>"
      ]
     },
     "metadata": {},
     "output_type": "display_data"
    },
    {
     "data": {
      "application/vnd.jupyter.widget-view+json": {
       "model_id": "8e8b28d471c649d6b3005984ea44dad5",
       "version_major": 2,
       "version_minor": 0
      },
      "text/plain": [
       "VBox(children=(Label(value='0.003 MB of 0.003 MB uploaded (0.000 MB deduped)\\r'), FloatProgress(value=1.0, max…"
      ]
     },
     "metadata": {},
     "output_type": "display_data"
    },
    {
     "data": {
      "text/html": [
       "<style>\n",
       "    table.wandb td:nth-child(1) { padding: 0 10px; text-align: left ; width: auto;} td:nth-child(2) {text-align: left ; width: 100%}\n",
       "    .wandb-row { display: flex; flex-direction: row; flex-wrap: wrap; justify-content: flex-start; width: 100% }\n",
       "    .wandb-col { display: flex; flex-direction: column; flex-basis: 100%; flex: 1; padding: 10px; }\n",
       "    </style>\n",
       "<div class=\"wandb-row\"><div class=\"wandb-col\"><h3>Run history:</h3><br/><table class=\"wandb\"><tr><td>hit_loss</td><td>█▅▄▃▂▂▂▂▂▂▂▁▂▂▁▁▁▁▁▁▁▂▁▁▁▁▁▁▁▁▁▁▁▁▁▁▁▁▁▁</td></tr><tr><td>sdf_loss</td><td>█▁▁▁▁▁▁▁▁▁▁▁▁▁▁▁▁▁▁▁▁▁▁▂▂▁▁▁▁▁▂▁▁▁▁▁▁▁▁▁</td></tr><tr><td>term_loss</td><td>█▂▂▂▁▁▁▁▁▁▁▁▁▁▁▁▁▁▁▁▁▁▁▁▁▁▁▁▁▁▁▁▁▁▁▁▁▁▁▁</td></tr><tr><td>total_loss</td><td>█▃▂▂▂▁▂▂▁▁▁▁▁▁▁▁▁▁▁▁▁▁▁▁▁▁▁▁▁▁▁▁▁▁▁▁▁▁▁▁</td></tr></table><br/></div><div class=\"wandb-col\"><h3>Run summary:</h3><br/><table class=\"wandb\"><tr><td>hit_loss</td><td>0.00422</td></tr><tr><td>sdf_loss</td><td>0.00256</td></tr><tr><td>term_loss</td><td>0.00659</td></tr><tr><td>total_loss</td><td>0.01337</td></tr></table><br/></div></div>"
      ],
      "text/plain": [
       "<IPython.core.display.HTML object>"
      ]
     },
     "metadata": {},
     "output_type": "display_data"
    },
    {
     "data": {
      "text/html": [
       "Synced <strong style=\"color:#cdcd00\">olive-lion-40</strong>: <a href=\"https://wandb.ai/uoy-jadgardner/ddf/runs/9rf5oe41\" target=\"_blank\">https://wandb.ai/uoy-jadgardner/ddf/runs/9rf5oe41</a><br/>Synced 5 W&B file(s), 0 media file(s), 0 artifact file(s) and 1 other file(s)"
      ],
      "text/plain": [
       "<IPython.core.display.HTML object>"
      ]
     },
     "metadata": {},
     "output_type": "display_data"
    },
    {
     "data": {
      "text/html": [
       "Find logs at: <code>./wandb/run-20230425_075052-9rf5oe41/logs</code>"
      ],
      "text/plain": [
       "<IPython.core.display.HTML object>"
      ]
     },
     "metadata": {},
     "output_type": "display_data"
    }
   ],
   "source": [
    "import wandb\n",
    "\n",
    "# Initialize a new W&B run\n",
    "wandb.init(project=\"ddf\")\n",
    "\n",
    "# setup optimizer and training loop\n",
    "optim = torch.optim.Adam(ddf.parameters(), lr=1e-4)\n",
    "sdf_loss = torch.nn.MSELoss()\n",
    "hit_probability_loss = torch.nn.MSELoss()\n",
    "expected_termination_loss = torch.nn.MSELoss()\n",
    "\n",
    "epochs = 1500\n",
    "num_samples = 256\n",
    "epochs_until_checkpoint = 10\n",
    "\n",
    "# load data\n",
    "data = torch.load(\"notebooks/ddf_test_data/single_viewpoint_data.pt\")\n",
    "H, W = data[\"H\"], data[\"W\"]\n",
    "positions = data[\"positions\"].to(device)\n",
    "directions = data[\"directions\"].to(device)\n",
    "accumulation = data[\"accumulation\"].to(device)\n",
    "termination_dist = data[\"termination_dist\"].to(device)\n",
    "\n",
    "for i in tqdm.tqdm(range(epochs)):\n",
    "    # generate a random batch \n",
    "    idx = torch.randperm(positions.shape[0])[:num_samples]\n",
    "    positions_batch = positions[idx]\n",
    "    directions_batch = directions[idx]\n",
    "    accumulation_batch = accumulation[idx]\n",
    "    termination_dist_batch = termination_dist[idx]\n",
    "\n",
    "    # encoded_positions = position_encoding(get_normalized_tensor(positions_batch)) # [N, 16]\n",
    "    # encoded_directions = direction_encoding(get_normalized_tensor(directions_batch)) # [N, 16]\n",
    "    # encoded_positions = position_encoding(positions_batch) # [N, K]\n",
    "    # encoded_directions = direction_encoding(directions_batch) # [N, K]\n",
    "    # model_input = torch.cat([positions_batch, directions_batch, encoded_positions, encoded_directions], dim=-1) # [N, K]\n",
    "\n",
    "    model_input = torch.cat([positions_batch, directions_batch], dim=-1) # [N, 3 + 3] = [N, 6]\n",
    "\n",
    "    output = ddf(model_input) # [N, 2]\n",
    "    output = output.type(torch.float32)\n",
    "    expected_termination_dist = torch.relu(output[..., 0]) # [N]\n",
    "    probability_of_hit = torch.sigmoid(output[..., 1]) # We want a probability between 0 and 1 [N]\n",
    "\n",
    "    # get sdf at termination outputted by the ddf\n",
    "    sdf_at_termination = model.field.get_sdf_at_pos(positions_batch + directions_batch * expected_termination_dist.unsqueeze(-1)).squeeze() # [N]\n",
    "\n",
    "    l1 = 1.0 * hit_probability_loss(probability_of_hit, accumulation_batch)\n",
    "\n",
    "    mask = (accumulation_batch > 0.7).float() # only consider pixels that hit an object when estimating expected termination distance [N]\n",
    "\n",
    "    l2 = 1.0 * sdf_loss(sdf_at_termination * mask, torch.zeros_like(sdf_at_termination))\n",
    "\n",
    "    l3 = 3.0 * expected_termination_loss(expected_termination_dist * mask, termination_dist_batch * mask)\n",
    "\n",
    "    loss = l1 + l2 + l3\n",
    "    \n",
    "    optim.zero_grad()\n",
    "    loss.backward()\n",
    "    optim.step()\n",
    "\n",
    "    # save model to wandb folder\n",
    "    if i % epochs_until_checkpoint == 0:\n",
    "        torch.save(ddf.state_dict(), os.path.join(wandb.run.dir, \"ddf.pt\"))\n",
    "\n",
    "    # Log losses to W&B\n",
    "    wandb.log({\"hit_loss\": l1.item(), \"sdf_loss\": l2.item(), \"term_loss\": l3.item(), \"total_loss\": loss.item()})\n",
    "\n",
    "wandb.finish()"
   ]
  },
  {
   "cell_type": "code",
   "execution_count": 27,
   "metadata": {},
   "outputs": [
    {
     "data": {
      "image/png": "[encoded data removed]",
      "text/plain": [
       "<Figure size 1000x700 with 4 Axes>"
      ]
     },
     "metadata": {},
     "output_type": "display_data"
    }
   ],
   "source": [
    "with torch.no_grad():\n",
    "  accumulation = data['accumulation'].reshape(H, W).cpu().detach().numpy()\n",
    "  depth = termination_dist.reshape(H, W).cpu().detach().numpy()\n",
    "  depth = (data['termination_dist'] * (data['accumulation'] > 0.7).float()).reshape(H, W).cpu().detach().numpy()\n",
    "\n",
    "  # plot everything in the same figure\n",
    "  fig, ax = plt.subplots(2, 2, figsize=(10, 7))\n",
    "  # first row is accumulation, rgb, depth\n",
    "  im1 = ax[0, 0].imshow(accumulation, vmin=0, vmax=1)\n",
    "  im2 = ax[0, 1].imshow(depth, vmin=0, vmax=3.5)\n",
    "  # add titles to the first row\n",
    "  ax[0, 0].set_title(\"Accumulation\")\n",
    "  ax[0, 1].set_title(\"Depth\")\n",
    "\n",
    "  encoded_positions = position_encoding(positions) # [N, 16]\n",
    "  encoded_directions = direction_encoding(directions) # [N, 16]\n",
    "  model_input = torch.cat([positions, directions, encoded_positions, encoded_directions], dim=-1) # [N, 3 + 3 + 16 + 16] = [N, 38]\n",
    "  model_input = torch.cat([positions, directions], dim=-1) # [N, 3 + 3] = [N, 6]\n",
    "\n",
    "  output = ddf(model_input) # [N, 2]\n",
    "  output = output.type(torch.float32)\n",
    "  expected_termination_dist = torch.relu(output[..., 0]) # [N]\n",
    "  probability_of_hit = torch.sigmoid(output[..., 1]) # We want a probability between 0 and 1 [N]\n",
    "\n",
    "  # second row is probability of hit, blank image and expected termination distance\n",
    "  im1 = ax[1, 0].imshow(probability_of_hit.reshape(H, W).cpu().detach().numpy(), vmin=0, vmax=1)\n",
    "  im2 = ax[1, 1].imshow((expected_termination_dist * (probability_of_hit > 0.7).float()).reshape(H, W).cpu().detach().numpy(), vmin=0, vmax=3.5)\n",
    "\n",
    "  # add titles to the second row\n",
    "  ax[1, 0].set_title(\"Probability of Hit\")\n",
    "  ax[1, 1].set_title(\"Expected Termination Distance\")"
   ]
  },
  {
   "attachments": {},
   "cell_type": "markdown",
   "metadata": {},
   "source": [
    "So now I'm creating a dataset that generates positions on a unit sphere with directions within the hemisphere of the inward facing normal of the position"
   ]
  },
  {
   "cell_type": "code",
   "execution_count": 16,
   "metadata": {},
   "outputs": [
    {
     "data": {
      "application/vnd.plotly.v1+json": {
       "config": {
        "plotlyServerURL": "https://plot.ly"
       },
       "data": [
        {
         "mode": "markers",
         "type": "scatter3d",
         "x": [
          -0.027726758271455765,
          0.5331022143363953
         ],
         "y": [
          0.6701784729957581,
          0.5419698357582092
         ],
         "z": [
          -0.7416818737983704,
          -0.6496697068214417
         ]
        },
        {
         "line": {
          "width": 15
         },
         "mode": "lines",
         "type": "scatter3d",
         "x": [
          -0.027726758271455765,
          0
         ],
         "y": [
          0.6701784729957581,
          0
         ],
         "z": [
          -0.7416818737983704,
          0
         ]
        },
        {
         "line": {
          "width": 15
         },
         "mode": "lines",
         "type": "scatter3d",
         "x": [
          0.5331022143363953,
          0
         ],
         "y": [
          0.5419698357582092,
          0
         ],
         "z": [
          -0.6496697068214417,
          0
         ]
        },
        {
         "line": {
          "width": 5
         },
         "mode": "lines",
         "type": "scatter3d",
         "x": [
          -0.027726758271455765,
          0.203455850481987
         ],
         "y": [
          0.6701784729957581,
          0.06827104091644287
         ],
         "z": [
          -0.7416818737983704,
          0.022688448429107666
         ]
        },
        {
         "line": {
          "width": 5
         },
         "mode": "lines",
         "type": "scatter3d",
         "x": [
          -0.027726758271455765,
          0.6271440982818604
         ],
         "y": [
          0.6701784729957581,
          0.6694630980491638
         ],
         "z": [
          -0.7416818737983704,
          0.014058530330657959
         ]
        },
        {
         "line": {
          "width": 5
         },
         "mode": "lines",
         "type": "scatter3d",
         "x": [
          -0.027726758271455765,
          0.7329723238945007
         ],
         "y": [
          0.6701784729957581,
          0.16356390714645386
         ],
         "z": [
          -0.7416818737983704,
          -1.147487998008728
         ]
        },
        {
         "line": {
          "width": 5
         },
         "mode": "lines",
         "type": "scatter3d",
         "x": [
          -0.027726758271455765,
          0.6908135414123535
         ],
         "y": [
          0.6701784729957581,
          0.20124360918998718
         ],
         "z": [
          -0.7416818737983704,
          -0.2280672788619995
         ]
        },
        {
         "line": {
          "width": 5
         },
         "mode": "lines",
         "type": "scatter3d",
         "x": [
          -0.027726758271455765,
          0.3096424639225006
         ],
         "y": [
          0.6701784729957581,
          0.7950520515441895
         ],
         "z": [
          -0.7416818737983704,
          0.19137150049209595
         ]
        },
        {
         "line": {
          "width": 5
         },
         "mode": "lines",
         "type": "scatter3d",
         "x": [
          -0.027726758271455765,
          -0.47799190878868103
         ],
         "y": [
          0.6701784729957581,
          0.05308258533477783
         ],
         "z": [
          -0.7416818737983704,
          -0.09634941816329956
         ]
        },
        {
         "line": {
          "width": 5
         },
         "mode": "lines",
         "type": "scatter3d",
         "x": [
          -0.027726758271455765,
          -0.09185604751110077
         ],
         "y": [
          0.6701784729957581,
          -0.21935635805130005
         ],
         "z": [
          -0.7416818737983704,
          -1.194025993347168
         ]
        },
        {
         "line": {
          "width": 5
         },
         "mode": "lines",
         "type": "scatter3d",
         "x": [
          -0.027726758271455765,
          0.9355552196502686
         ],
         "y": [
          0.6701784729957581,
          0.4078073799610138
         ],
         "z": [
          -0.7416818737983704,
          -0.6846797466278076
         ]
        },
        {
         "line": {
          "width": 5
         },
         "mode": "lines",
         "type": "scatter3d",
         "x": [
          -0.027726758271455765,
          0.4143041670322418
         ],
         "y": [
          0.6701784729957581,
          -0.21787899732589722
         ],
         "z": [
          -0.7416818737983704,
          -0.615338921546936
         ]
        },
        {
         "line": {
          "width": 5
         },
         "mode": "lines",
         "type": "scatter3d",
         "x": [
          -0.027726758271455765,
          -0.36901211738586426
         ],
         "y": [
          0.6701784729957581,
          -0.22374004125595093
         ],
         "z": [
          -0.7416818737983704,
          -1.032257080078125
         ]
        },
        {
         "line": {
          "width": 5
         },
         "mode": "lines",
         "type": "scatter3d",
         "x": [
          -0.027726758271455765,
          -0.84580397605896
         ],
         "y": [
          0.6701784729957581,
          0.10277950763702393
         ],
         "z": [
          -0.7416818737983704,
          -0.6478304862976074
         ]
        },
        {
         "line": {
          "width": 5
         },
         "mode": "lines",
         "type": "scatter3d",
         "x": [
          -0.027726758271455765,
          0.3550052344799042
         ],
         "y": [
          0.6701784729957581,
          -0.22718918323516846
         ],
         "z": [
          -0.7416818737983704,
          -0.9613348245620728
         ]
        },
        {
         "line": {
          "width": 5
         },
         "mode": "lines",
         "type": "scatter3d",
         "x": [
          -0.027726758271455765,
          -0.5436351299285889
         ],
         "y": [
          0.6701784729957581,
          0.6611416339874268
         ],
         "z": [
          -0.7416818737983704,
          0.11491423845291138
         ]
        },
        {
         "line": {
          "width": 5
         },
         "mode": "lines",
         "type": "scatter3d",
         "x": [
          -0.027726758271455765,
          -0.9337297677993774
         ],
         "y": [
          0.6701784729957581,
          0.253769189119339
         ],
         "z": [
          -0.7416818737983704,
          -0.8175891637802124
         ]
        },
        {
         "line": {
          "width": 5
         },
         "mode": "lines",
         "type": "scatter3d",
         "x": [
          -0.027726758271455765,
          0.24646298587322235
         ],
         "y": [
          0.6701784729957581,
          0.7683761715888977
         ],
         "z": [
          -0.7416818737983704,
          0.21496707201004028
         ]
        },
        {
         "line": {
          "width": 5
         },
         "mode": "lines",
         "type": "scatter3d",
         "x": [
          0.5331022143363953,
          -0.4509539008140564
         ],
         "y": [
          0.5419698357582092,
          0.4755781888961792
         ],
         "z": [
          -0.6496697068214417,
          -0.4846676290035248
         ]
        },
        {
         "line": {
          "width": 5
         },
         "mode": "lines",
         "type": "scatter3d",
         "x": [
          0.5331022143363953,
          0.804985523223877
         ],
         "y": [
          0.5419698357582092,
          1.1406235694885254
         ],
         "z": [
          -0.6496697068214417,
          0.10378438234329224
         ]
        },
        {
         "line": {
          "width": 5
         },
         "mode": "lines",
         "type": "scatter3d",
         "x": [
          0.5331022143363953,
          0.8035010099411011
         ],
         "y": [
          0.5419698357582092,
          -0.3060477375984192
         ],
         "z": [
          -0.6496697068214417,
          -0.19387286901474
         ]
        },
        {
         "line": {
          "width": 5
         },
         "mode": "lines",
         "type": "scatter3d",
         "x": [
          0.5331022143363953,
          -0.16138118505477905
         ],
         "y": [
          0.5419698357582092,
          1.0808998346328735
         ],
         "z": [
          -0.6496697068214417,
          -0.17296507954597473
         ]
        },
        {
         "line": {
          "width": 5
         },
         "mode": "lines",
         "type": "scatter3d",
         "x": [
          0.5331022143363953,
          -0.18732529878616333
         ],
         "y": [
          0.5419698357582092,
          1.0657954216003418
         ],
         "z": [
          -0.6496697068214417,
          -0.19514703750610352
         ]
        },
        {
         "line": {
          "width": 5
         },
         "mode": "lines",
         "type": "scatter3d",
         "x": [
          0.5331022143363953,
          0.036038756370544434
         ],
         "y": [
          0.5419698357582092,
          1.256009817123413
         ],
         "z": [
          -0.6496697068214417,
          -0.15664362907409668
         ]
        },
        {
         "line": {
          "width": 5
         },
         "mode": "lines",
         "type": "scatter3d",
         "x": [
          0.5331022143363953,
          -0.2644425630569458
         ],
         "y": [
          0.5419698357582092,
          0.27498891949653625
         ],
         "z": [
          -0.6496697068214417,
          -1.1906349658966064
         ]
        },
        {
         "line": {
          "width": 5
         },
         "mode": "lines",
         "type": "scatter3d",
         "x": [
          0.5331022143363953,
          0.3403143286705017
         ],
         "y": [
          0.5419698357582092,
          0.9904772639274597
         ],
         "z": [
          -0.6496697068214417,
          0.22306960821151733
         ]
        },
        {
         "line": {
          "width": 5
         },
         "mode": "lines",
         "type": "scatter3d",
         "x": [
          0.5331022143363953,
          0.42674946784973145
         ],
         "y": [
          0.5419698357582092,
          -0.33758974075317383
         ],
         "z": [
          -0.6496697068214417,
          -0.18591970205307007
         ]
        },
        {
         "line": {
          "width": 5
         },
         "mode": "lines",
         "type": "scatter3d",
         "x": [
          0.5331022143363953,
          0.5794082283973694
         ],
         "y": [
          0.5419698357582092,
          0.07915183901786804
         ],
         "z": [
          -0.6496697068214417,
          0.23557335138320923
         ]
        },
        {
         "line": {
          "width": 5
         },
         "mode": "lines",
         "type": "scatter3d",
         "x": [
          0.5331022143363953,
          0.21162614226341248
         ],
         "y": [
          0.5419698357582092,
          -0.3859994411468506
         ],
         "z": [
          -0.6496697068214417,
          -0.8381540179252625
         ]
        },
        {
         "line": {
          "width": 5
         },
         "mode": "lines",
         "type": "scatter3d",
         "x": [
          0.5331022143363953,
          0.02360767126083374
         ],
         "y": [
          0.5419698357582092,
          0.05599033832550049
         ],
         "z": [
          -0.6496697068214417,
          -1.3597676753997803
         ]
        },
        {
         "line": {
          "width": 5
         },
         "mode": "lines",
         "type": "scatter3d",
         "x": [
          0.5331022143363953,
          0.5967495441436768
         ],
         "y": [
          0.5419698357582092,
          1.0492877960205078
         ],
         "z": [
          -0.6496697068214417,
          0.20973563194274902
         ]
        },
        {
         "line": {
          "width": 5
         },
         "mode": "lines",
         "type": "scatter3d",
         "x": [
          0.5331022143363953,
          0.2699914276599884
         ],
         "y": [
          0.5419698357582092,
          1.2994678020477295
         ],
         "z": [
          -0.6496697068214417,
          -0.05220043659210205
         ]
        },
        {
         "line": {
          "width": 5
         },
         "mode": "lines",
         "type": "scatter3d",
         "x": [
          0.5331022143363953,
          1.2349295616149902
         ],
         "y": [
          0.5419698357582092,
          0.30927354097366333
         ],
         "z": [
          -0.6496697068214417,
          0.023598968982696533
         ]
        }
       ],
       "layout": {
        "scene": {
         "aspectmode": "cube",
         "xaxis": {
          "autorange": false,
          "range": [
           -2,
           2
          ],
          "zeroline": false
         },
         "yaxis": {
          "autorange": false,
          "range": [
           -2,
           2
          ],
          "zeroline": false
         },
         "zaxis": {
          "autorange": false,
          "range": [
           -2,
           2
          ],
          "zeroline": false
         }
        },
        "template": {
         "data": {
          "bar": [
           {
            "error_x": {
             "color": "#2a3f5f"
            },
            "error_y": {
             "color": "#2a3f5f"
            },
            "marker": {
             "line": {
              "color": "#E5ECF6",
              "width": 0.5
             },
             "pattern": {
              "fillmode": "overlay",
              "size": 10,
              "solidity": 0.2
             }
            },
            "type": "bar"
           }
          ],
          "barpolar": [
           {
            "marker": {
             "line": {
              "color": "#E5ECF6",
              "width": 0.5
             },
             "pattern": {
              "fillmode": "overlay",
              "size": 10,
              "solidity": 0.2
             }
            },
            "type": "barpolar"
           }
          ],
          "carpet": [
           {
            "aaxis": {
             "endlinecolor": "#2a3f5f",
             "gridcolor": "white",
             "linecolor": "white",
             "minorgridcolor": "white",
             "startlinecolor": "#2a3f5f"
            },
            "baxis": {
             "endlinecolor": "#2a3f5f",
             "gridcolor": "white",
             "linecolor": "white",
             "minorgridcolor": "white",
             "startlinecolor": "#2a3f5f"
            },
            "type": "carpet"
           }
          ],
          "choropleth": [
           {
            "colorbar": {
             "outlinewidth": 0,
             "ticks": ""
            },
            "type": "choropleth"
           }
          ],
          "contour": [
           {
            "colorbar": {
             "outlinewidth": 0,
             "ticks": ""
            },
            "colorscale": [
             [
              0,
              "#0d0887"
             ],
             [
              0.1111111111111111,
              "#46039f"
             ],
             [
              0.2222222222222222,
              "#7201a8"
             ],
             [
              0.3333333333333333,
              "#9c179e"
             ],
             [
              0.4444444444444444,
              "#bd3786"
             ],
             [
              0.5555555555555556,
              "#d8576b"
             ],
             [
              0.6666666666666666,
              "#ed7953"
             ],
             [
              0.7777777777777778,
              "#fb9f3a"
             ],
             [
              0.8888888888888888,
              "#fdca26"
             ],
             [
              1,
              "#f0f921"
             ]
            ],
            "type": "contour"
           }
          ],
          "contourcarpet": [
           {
            "colorbar": {
             "outlinewidth": 0,
             "ticks": ""
            },
            "type": "contourcarpet"
           }
          ],
          "heatmap": [
           {
            "colorbar": {
             "outlinewidth": 0,
             "ticks": ""
            },
            "colorscale": [
             [
              0,
              "#0d0887"
             ],
             [
              0.1111111111111111,
              "#46039f"
             ],
             [
              0.2222222222222222,
              "#7201a8"
             ],
             [
              0.3333333333333333,
              "#9c179e"
             ],
             [
              0.4444444444444444,
              "#bd3786"
             ],
             [
              0.5555555555555556,
              "#d8576b"
             ],
             [
              0.6666666666666666,
              "#ed7953"
             ],
             [
              0.7777777777777778,
              "#fb9f3a"
             ],
             [
              0.8888888888888888,
              "#fdca26"
             ],
             [
              1,
              "#f0f921"
             ]
            ],
            "type": "heatmap"
           }
          ],
          "heatmapgl": [
           {
            "colorbar": {
             "outlinewidth": 0,
             "ticks": ""
            },
            "colorscale": [
             [
              0,
              "#0d0887"
             ],
             [
              0.1111111111111111,
              "#46039f"
             ],
             [
              0.2222222222222222,
              "#7201a8"
             ],
             [
              0.3333333333333333,
              "#9c179e"
             ],
             [
              0.4444444444444444,
              "#bd3786"
             ],
             [
              0.5555555555555556,
              "#d8576b"
             ],
             [
              0.6666666666666666,
              "#ed7953"
             ],
             [
              0.7777777777777778,
              "#fb9f3a"
             ],
             [
              0.8888888888888888,
              "#fdca26"
             ],
             [
              1,
              "#f0f921"
             ]
            ],
            "type": "heatmapgl"
           }
          ],
          "histogram": [
           {
            "marker": {
             "pattern": {
              "fillmode": "overlay",
              "size": 10,
              "solidity": 0.2
             }
            },
            "type": "histogram"
           }
          ],
          "histogram2d": [
           {
            "colorbar": {
             "outlinewidth": 0,
             "ticks": ""
            },
            "colorscale": [
             [
              0,
              "#0d0887"
             ],
             [
              0.1111111111111111,
              "#46039f"
             ],
             [
              0.2222222222222222,
              "#7201a8"
             ],
             [
              0.3333333333333333,
              "#9c179e"
             ],
             [
              0.4444444444444444,
              "#bd3786"
             ],
             [
              0.5555555555555556,
              "#d8576b"
             ],
             [
              0.6666666666666666,
              "#ed7953"
             ],
             [
              0.7777777777777778,
              "#fb9f3a"
             ],
             [
              0.8888888888888888,
              "#fdca26"
             ],
             [
              1,
              "#f0f921"
             ]
            ],
            "type": "histogram2d"
           }
          ],
          "histogram2dcontour": [
           {
            "colorbar": {
             "outlinewidth": 0,
             "ticks": ""
            },
            "colorscale": [
             [
              0,
              "#0d0887"
             ],
             [
              0.1111111111111111,
              "#46039f"
             ],
             [
              0.2222222222222222,
              "#7201a8"
             ],
             [
              0.3333333333333333,
              "#9c179e"
             ],
             [
              0.4444444444444444,
              "#bd3786"
             ],
             [
              0.5555555555555556,
              "#d8576b"
             ],
             [
              0.6666666666666666,
              "#ed7953"
             ],
             [
              0.7777777777777778,
              "#fb9f3a"
             ],
             [
              0.8888888888888888,
              "#fdca26"
             ],
             [
              1,
              "#f0f921"
             ]
            ],
            "type": "histogram2dcontour"
           }
          ],
          "mesh3d": [
           {
            "colorbar": {
             "outlinewidth": 0,
             "ticks": ""
            },
            "type": "mesh3d"
           }
          ],
          "parcoords": [
           {
            "line": {
             "colorbar": {
              "outlinewidth": 0,
              "ticks": ""
             }
            },
            "type": "parcoords"
           }
          ],
          "pie": [
           {
            "automargin": true,
            "type": "pie"
           }
          ],
          "scatter": [
           {
            "fillpattern": {
             "fillmode": "overlay",
             "size": 10,
             "solidity": 0.2
            },
            "type": "scatter"
           }
          ],
          "scatter3d": [
           {
            "line": {
             "colorbar": {
              "outlinewidth": 0,
              "ticks": ""
             }
            },
            "marker": {
             "colorbar": {
              "outlinewidth": 0,
              "ticks": ""
             }
            },
            "type": "scatter3d"
           }
          ],
          "scattercarpet": [
           {
            "marker": {
             "colorbar": {
              "outlinewidth": 0,
              "ticks": ""
             }
            },
            "type": "scattercarpet"
           }
          ],
          "scattergeo": [
           {
            "marker": {
             "colorbar": {
              "outlinewidth": 0,
              "ticks": ""
             }
            },
            "type": "scattergeo"
           }
          ],
          "scattergl": [
           {
            "marker": {
             "colorbar": {
              "outlinewidth": 0,
              "ticks": ""
             }
            },
            "type": "scattergl"
           }
          ],
          "scattermapbox": [
           {
            "marker": {
             "colorbar": {
              "outlinewidth": 0,
              "ticks": ""
             }
            },
            "type": "scattermapbox"
           }
          ],
          "scatterpolar": [
           {
            "marker": {
             "colorbar": {
              "outlinewidth": 0,
              "ticks": ""
             }
            },
            "type": "scatterpolar"
           }
          ],
          "scatterpolargl": [
           {
            "marker": {
             "colorbar": {
              "outlinewidth": 0,
              "ticks": ""
             }
            },
            "type": "scatterpolargl"
           }
          ],
          "scatterternary": [
           {
            "marker": {
             "colorbar": {
              "outlinewidth": 0,
              "ticks": ""
             }
            },
            "type": "scatterternary"
           }
          ],
          "surface": [
           {
            "colorbar": {
             "outlinewidth": 0,
             "ticks": ""
            },
            "colorscale": [
             [
              0,
              "#0d0887"
             ],
             [
              0.1111111111111111,
              "#46039f"
             ],
             [
              0.2222222222222222,
              "#7201a8"
             ],
             [
              0.3333333333333333,
              "#9c179e"
             ],
             [
              0.4444444444444444,
              "#bd3786"
             ],
             [
              0.5555555555555556,
              "#d8576b"
             ],
             [
              0.6666666666666666,
              "#ed7953"
             ],
             [
              0.7777777777777778,
              "#fb9f3a"
             ],
             [
              0.8888888888888888,
              "#fdca26"
             ],
             [
              1,
              "#f0f921"
             ]
            ],
            "type": "surface"
           }
          ],
          "table": [
           {
            "cells": {
             "fill": {
              "color": "#EBF0F8"
             },
             "line": {
              "color": "white"
             }
            },
            "header": {
             "fill": {
              "color": "#C8D4E3"
             },
             "line": {
              "color": "white"
             }
            },
            "type": "table"
           }
          ]
         },
         "layout": {
          "annotationdefaults": {
           "arrowcolor": "#2a3f5f",
           "arrowhead": 0,
           "arrowwidth": 1
          },
          "autotypenumbers": "strict",
          "coloraxis": {
           "colorbar": {
            "outlinewidth": 0,
            "ticks": ""
           }
          },
          "colorscale": {
           "diverging": [
            [
             0,
             "#8e0152"
            ],
            [
             0.1,
             "#c51b7d"
            ],
            [
             0.2,
             "#de77ae"
            ],
            [
             0.3,
             "#f1b6da"
            ],
            [
             0.4,
             "#fde0ef"
            ],
            [
             0.5,
             "#f7f7f7"
            ],
            [
             0.6,
             "#e6f5d0"
            ],
            [
             0.7,
             "#b8e186"
            ],
            [
             0.8,
             "#7fbc41"
            ],
            [
             0.9,
             "#4d9221"
            ],
            [
             1,
             "#276419"
            ]
           ],
           "sequential": [
            [
             0,
             "#0d0887"
            ],
            [
             0.1111111111111111,
             "#46039f"
            ],
            [
             0.2222222222222222,
             "#7201a8"
            ],
            [
             0.3333333333333333,
             "#9c179e"
            ],
            [
             0.4444444444444444,
             "#bd3786"
            ],
            [
             0.5555555555555556,
             "#d8576b"
            ],
            [
             0.6666666666666666,
             "#ed7953"
            ],
            [
             0.7777777777777778,
             "#fb9f3a"
            ],
            [
             0.8888888888888888,
             "#fdca26"
            ],
            [
             1,
             "#f0f921"
            ]
           ],
           "sequentialminus": [
            [
             0,
             "#0d0887"
            ],
            [
             0.1111111111111111,
             "#46039f"
            ],
            [
             0.2222222222222222,
             "#7201a8"
            ],
            [
             0.3333333333333333,
             "#9c179e"
            ],
            [
             0.4444444444444444,
             "#bd3786"
            ],
            [
             0.5555555555555556,
             "#d8576b"
            ],
            [
             0.6666666666666666,
             "#ed7953"
            ],
            [
             0.7777777777777778,
             "#fb9f3a"
            ],
            [
             0.8888888888888888,
             "#fdca26"
            ],
            [
             1,
             "#f0f921"
            ]
           ]
          },
          "colorway": [
           "#636efa",
           "#EF553B",
           "#00cc96",
           "#ab63fa",
           "#FFA15A",
           "#19d3f3",
           "#FF6692",
           "#B6E880",
           "#FF97FF",
           "#FECB52"
          ],
          "font": {
           "color": "#2a3f5f"
          },
          "geo": {
           "bgcolor": "white",
           "lakecolor": "white",
           "landcolor": "#E5ECF6",
           "showlakes": true,
           "showland": true,
           "subunitcolor": "white"
          },
          "hoverlabel": {
           "align": "left"
          },
          "hovermode": "closest",
          "mapbox": {
           "style": "light"
          },
          "paper_bgcolor": "white",
          "plot_bgcolor": "#E5ECF6",
          "polar": {
           "angularaxis": {
            "gridcolor": "white",
            "linecolor": "white",
            "ticks": ""
           },
           "bgcolor": "#E5ECF6",
           "radialaxis": {
            "gridcolor": "white",
            "linecolor": "white",
            "ticks": ""
           }
          },
          "scene": {
           "xaxis": {
            "backgroundcolor": "#E5ECF6",
            "gridcolor": "white",
            "gridwidth": 2,
            "linecolor": "white",
            "showbackground": true,
            "ticks": "",
            "zerolinecolor": "white"
           },
           "yaxis": {
            "backgroundcolor": "#E5ECF6",
            "gridcolor": "white",
            "gridwidth": 2,
            "linecolor": "white",
            "showbackground": true,
            "ticks": "",
            "zerolinecolor": "white"
           },
           "zaxis": {
            "backgroundcolor": "#E5ECF6",
            "gridcolor": "white",
            "gridwidth": 2,
            "linecolor": "white",
            "showbackground": true,
            "ticks": "",
            "zerolinecolor": "white"
           }
          },
          "shapedefaults": {
           "line": {
            "color": "#2a3f5f"
           }
          },
          "ternary": {
           "aaxis": {
            "gridcolor": "white",
            "linecolor": "white",
            "ticks": ""
           },
           "baxis": {
            "gridcolor": "white",
            "linecolor": "white",
            "ticks": ""
           },
           "bgcolor": "#E5ECF6",
           "caxis": {
            "gridcolor": "white",
            "linecolor": "white",
            "ticks": ""
           }
          },
          "title": {
           "x": 0.05
          },
          "xaxis": {
           "automargin": true,
           "gridcolor": "white",
           "linecolor": "white",
           "ticks": "",
           "title": {
            "standoff": 15
           },
           "zerolinecolor": "white",
           "zerolinewidth": 2
          },
          "yaxis": {
           "automargin": true,
           "gridcolor": "white",
           "linecolor": "white",
           "ticks": "",
           "title": {
            "standoff": 15
           },
           "zerolinecolor": "white",
           "zerolinewidth": 2
          }
         }
        }
       }
      },
      "text/html": [
       "<div>                            <div id=\"7dece6f3-1403-43d7-a75d-00103ea70b9a\" class=\"plotly-graph-div\" style=\"height:525px; width:100%;\"></div>            <script type=\"text/javascript\">                require([\"plotly\"], function(Plotly) {                    window.PLOTLYENV=window.PLOTLYENV || {};                                    if (document.getElementById(\"7dece6f3-1403-43d7-a75d-00103ea70b9a\")) {                    Plotly.newPlot(                        \"7dece6f3-1403-43d7-a75d-00103ea70b9a\",                        [{\"mode\":\"markers\",\"x\":[-0.027726758271455765,0.5331022143363953],\"y\":[0.6701784729957581,0.5419698357582092],\"z\":[-0.7416818737983704,-0.6496697068214417],\"type\":\"scatter3d\"},{\"line\":{\"width\":15},\"mode\":\"lines\",\"x\":[-0.027726758271455765,0.0],\"y\":[0.6701784729957581,0.0],\"z\":[-0.7416818737983704,0.0],\"type\":\"scatter3d\"},{\"line\":{\"width\":15},\"mode\":\"lines\",\"x\":[0.5331022143363953,0.0],\"y\":[0.5419698357582092,0.0],\"z\":[-0.6496697068214417,0.0],\"type\":\"scatter3d\"},{\"line\":{\"width\":5},\"mode\":\"lines\",\"x\":[-0.027726758271455765,0.203455850481987],\"y\":[0.6701784729957581,0.06827104091644287],\"z\":[-0.7416818737983704,0.022688448429107666],\"type\":\"scatter3d\"},{\"line\":{\"width\":5},\"mode\":\"lines\",\"x\":[-0.027726758271455765,0.6271440982818604],\"y\":[0.6701784729957581,0.6694630980491638],\"z\":[-0.7416818737983704,0.014058530330657959],\"type\":\"scatter3d\"},{\"line\":{\"width\":5},\"mode\":\"lines\",\"x\":[-0.027726758271455765,0.7329723238945007],\"y\":[0.6701784729957581,0.16356390714645386],\"z\":[-0.7416818737983704,-1.147487998008728],\"type\":\"scatter3d\"},{\"line\":{\"width\":5},\"mode\":\"lines\",\"x\":[-0.027726758271455765,0.6908135414123535],\"y\":[0.6701784729957581,0.20124360918998718],\"z\":[-0.7416818737983704,-0.2280672788619995],\"type\":\"scatter3d\"},{\"line\":{\"width\":5},\"mode\":\"lines\",\"x\":[-0.027726758271455765,0.3096424639225006],\"y\":[0.6701784729957581,0.7950520515441895],\"z\":[-0.7416818737983704,0.19137150049209595],\"type\":\"scatter3d\"},{\"line\":{\"width\":5},\"mode\":\"lines\",\"x\":[-0.027726758271455765,-0.47799190878868103],\"y\":[0.6701784729957581,0.05308258533477783],\"z\":[-0.7416818737983704,-0.09634941816329956],\"type\":\"scatter3d\"},{\"line\":{\"width\":5},\"mode\":\"lines\",\"x\":[-0.027726758271455765,-0.09185604751110077],\"y\":[0.6701784729957581,-0.21935635805130005],\"z\":[-0.7416818737983704,-1.194025993347168],\"type\":\"scatter3d\"},{\"line\":{\"width\":5},\"mode\":\"lines\",\"x\":[-0.027726758271455765,0.9355552196502686],\"y\":[0.6701784729957581,0.4078073799610138],\"z\":[-0.7416818737983704,-0.6846797466278076],\"type\":\"scatter3d\"},{\"line\":{\"width\":5},\"mode\":\"lines\",\"x\":[-0.027726758271455765,0.4143041670322418],\"y\":[0.6701784729957581,-0.21787899732589722],\"z\":[-0.7416818737983704,-0.615338921546936],\"type\":\"scatter3d\"},{\"line\":{\"width\":5},\"mode\":\"lines\",\"x\":[-0.027726758271455765,-0.36901211738586426],\"y\":[0.6701784729957581,-0.22374004125595093],\"z\":[-0.7416818737983704,-1.032257080078125],\"type\":\"scatter3d\"},{\"line\":{\"width\":5},\"mode\":\"lines\",\"x\":[-0.027726758271455765,-0.84580397605896],\"y\":[0.6701784729957581,0.10277950763702393],\"z\":[-0.7416818737983704,-0.6478304862976074],\"type\":\"scatter3d\"},{\"line\":{\"width\":5},\"mode\":\"lines\",\"x\":[-0.027726758271455765,0.3550052344799042],\"y\":[0.6701784729957581,-0.22718918323516846],\"z\":[-0.7416818737983704,-0.9613348245620728],\"type\":\"scatter3d\"},{\"line\":{\"width\":5},\"mode\":\"lines\",\"x\":[-0.027726758271455765,-0.5436351299285889],\"y\":[0.6701784729957581,0.6611416339874268],\"z\":[-0.7416818737983704,0.11491423845291138],\"type\":\"scatter3d\"},{\"line\":{\"width\":5},\"mode\":\"lines\",\"x\":[-0.027726758271455765,-0.9337297677993774],\"y\":[0.6701784729957581,0.253769189119339],\"z\":[-0.7416818737983704,-0.8175891637802124],\"type\":\"scatter3d\"},{\"line\":{\"width\":5},\"mode\":\"lines\",\"x\":[-0.027726758271455765,0.24646298587322235],\"y\":[0.6701784729957581,0.7683761715888977],\"z\":[-0.7416818737983704,0.21496707201004028],\"type\":\"scatter3d\"},{\"line\":{\"width\":5},\"mode\":\"lines\",\"x\":[0.5331022143363953,-0.4509539008140564],\"y\":[0.5419698357582092,0.4755781888961792],\"z\":[-0.6496697068214417,-0.4846676290035248],\"type\":\"scatter3d\"},{\"line\":{\"width\":5},\"mode\":\"lines\",\"x\":[0.5331022143363953,0.804985523223877],\"y\":[0.5419698357582092,1.1406235694885254],\"z\":[-0.6496697068214417,0.10378438234329224],\"type\":\"scatter3d\"},{\"line\":{\"width\":5},\"mode\":\"lines\",\"x\":[0.5331022143363953,0.8035010099411011],\"y\":[0.5419698357582092,-0.3060477375984192],\"z\":[-0.6496697068214417,-0.19387286901474],\"type\":\"scatter3d\"},{\"line\":{\"width\":5},\"mode\":\"lines\",\"x\":[0.5331022143363953,-0.16138118505477905],\"y\":[0.5419698357582092,1.0808998346328735],\"z\":[-0.6496697068214417,-0.17296507954597473],\"type\":\"scatter3d\"},{\"line\":{\"width\":5},\"mode\":\"lines\",\"x\":[0.5331022143363953,-0.18732529878616333],\"y\":[0.5419698357582092,1.0657954216003418],\"z\":[-0.6496697068214417,-0.19514703750610352],\"type\":\"scatter3d\"},{\"line\":{\"width\":5},\"mode\":\"lines\",\"x\":[0.5331022143363953,0.036038756370544434],\"y\":[0.5419698357582092,1.256009817123413],\"z\":[-0.6496697068214417,-0.15664362907409668],\"type\":\"scatter3d\"},{\"line\":{\"width\":5},\"mode\":\"lines\",\"x\":[0.5331022143363953,-0.2644425630569458],\"y\":[0.5419698357582092,0.27498891949653625],\"z\":[-0.6496697068214417,-1.1906349658966064],\"type\":\"scatter3d\"},{\"line\":{\"width\":5},\"mode\":\"lines\",\"x\":[0.5331022143363953,0.3403143286705017],\"y\":[0.5419698357582092,0.9904772639274597],\"z\":[-0.6496697068214417,0.22306960821151733],\"type\":\"scatter3d\"},{\"line\":{\"width\":5},\"mode\":\"lines\",\"x\":[0.5331022143363953,0.42674946784973145],\"y\":[0.5419698357582092,-0.33758974075317383],\"z\":[-0.6496697068214417,-0.18591970205307007],\"type\":\"scatter3d\"},{\"line\":{\"width\":5},\"mode\":\"lines\",\"x\":[0.5331022143363953,0.5794082283973694],\"y\":[0.5419698357582092,0.07915183901786804],\"z\":[-0.6496697068214417,0.23557335138320923],\"type\":\"scatter3d\"},{\"line\":{\"width\":5},\"mode\":\"lines\",\"x\":[0.5331022143363953,0.21162614226341248],\"y\":[0.5419698357582092,-0.3859994411468506],\"z\":[-0.6496697068214417,-0.8381540179252625],\"type\":\"scatter3d\"},{\"line\":{\"width\":5},\"mode\":\"lines\",\"x\":[0.5331022143363953,0.02360767126083374],\"y\":[0.5419698357582092,0.05599033832550049],\"z\":[-0.6496697068214417,-1.3597676753997803],\"type\":\"scatter3d\"},{\"line\":{\"width\":5},\"mode\":\"lines\",\"x\":[0.5331022143363953,0.5967495441436768],\"y\":[0.5419698357582092,1.0492877960205078],\"z\":[-0.6496697068214417,0.20973563194274902],\"type\":\"scatter3d\"},{\"line\":{\"width\":5},\"mode\":\"lines\",\"x\":[0.5331022143363953,0.2699914276599884],\"y\":[0.5419698357582092,1.2994678020477295],\"z\":[-0.6496697068214417,-0.05220043659210205],\"type\":\"scatter3d\"},{\"line\":{\"width\":5},\"mode\":\"lines\",\"x\":[0.5331022143363953,1.2349295616149902],\"y\":[0.5419698357582092,0.30927354097366333],\"z\":[-0.6496697068214417,0.023598968982696533],\"type\":\"scatter3d\"}],                        {\"template\":{\"data\":{\"histogram2dcontour\":[{\"type\":\"histogram2dcontour\",\"colorbar\":{\"outlinewidth\":0,\"ticks\":\"\"},\"colorscale\":[[0.0,\"#0d0887\"],[0.1111111111111111,\"#46039f\"],[0.2222222222222222,\"#7201a8\"],[0.3333333333333333,\"#9c179e\"],[0.4444444444444444,\"#bd3786\"],[0.5555555555555556,\"#d8576b\"],[0.6666666666666666,\"#ed7953\"],[0.7777777777777778,\"#fb9f3a\"],[0.8888888888888888,\"#fdca26\"],[1.0,\"#f0f921\"]]}],\"choropleth\":[{\"type\":\"choropleth\",\"colorbar\":{\"outlinewidth\":0,\"ticks\":\"\"}}],\"histogram2d\":[{\"type\":\"histogram2d\",\"colorbar\":{\"outlinewidth\":0,\"ticks\":\"\"},\"colorscale\":[[0.0,\"#0d0887\"],[0.1111111111111111,\"#46039f\"],[0.2222222222222222,\"#7201a8\"],[0.3333333333333333,\"#9c179e\"],[0.4444444444444444,\"#bd3786\"],[0.5555555555555556,\"#d8576b\"],[0.6666666666666666,\"#ed7953\"],[0.7777777777777778,\"#fb9f3a\"],[0.8888888888888888,\"#fdca26\"],[1.0,\"#f0f921\"]]}],\"heatmap\":[{\"type\":\"heatmap\",\"colorbar\":{\"outlinewidth\":0,\"ticks\":\"\"},\"colorscale\":[[0.0,\"#0d0887\"],[0.1111111111111111,\"#46039f\"],[0.2222222222222222,\"#7201a8\"],[0.3333333333333333,\"#9c179e\"],[0.4444444444444444,\"#bd3786\"],[0.5555555555555556,\"#d8576b\"],[0.6666666666666666,\"#ed7953\"],[0.7777777777777778,\"#fb9f3a\"],[0.8888888888888888,\"#fdca26\"],[1.0,\"#f0f921\"]]}],\"heatmapgl\":[{\"type\":\"heatmapgl\",\"colorbar\":{\"outlinewidth\":0,\"ticks\":\"\"},\"colorscale\":[[0.0,\"#0d0887\"],[0.1111111111111111,\"#46039f\"],[0.2222222222222222,\"#7201a8\"],[0.3333333333333333,\"#9c179e\"],[0.4444444444444444,\"#bd3786\"],[0.5555555555555556,\"#d8576b\"],[0.6666666666666666,\"#ed7953\"],[0.7777777777777778,\"#fb9f3a\"],[0.8888888888888888,\"#fdca26\"],[1.0,\"#f0f921\"]]}],\"contourcarpet\":[{\"type\":\"contourcarpet\",\"colorbar\":{\"outlinewidth\":0,\"ticks\":\"\"}}],\"contour\":[{\"type\":\"contour\",\"colorbar\":{\"outlinewidth\":0,\"ticks\":\"\"},\"colorscale\":[[0.0,\"#0d0887\"],[0.1111111111111111,\"#46039f\"],[0.2222222222222222,\"#7201a8\"],[0.3333333333333333,\"#9c179e\"],[0.4444444444444444,\"#bd3786\"],[0.5555555555555556,\"#d8576b\"],[0.6666666666666666,\"#ed7953\"],[0.7777777777777778,\"#fb9f3a\"],[0.8888888888888888,\"#fdca26\"],[1.0,\"#f0f921\"]]}],\"surface\":[{\"type\":\"surface\",\"colorbar\":{\"outlinewidth\":0,\"ticks\":\"\"},\"colorscale\":[[0.0,\"#0d0887\"],[0.1111111111111111,\"#46039f\"],[0.2222222222222222,\"#7201a8\"],[0.3333333333333333,\"#9c179e\"],[0.4444444444444444,\"#bd3786\"],[0.5555555555555556,\"#d8576b\"],[0.6666666666666666,\"#ed7953\"],[0.7777777777777778,\"#fb9f3a\"],[0.8888888888888888,\"#fdca26\"],[1.0,\"#f0f921\"]]}],\"mesh3d\":[{\"type\":\"mesh3d\",\"colorbar\":{\"outlinewidth\":0,\"ticks\":\"\"}}],\"scatter\":[{\"fillpattern\":{\"fillmode\":\"overlay\",\"size\":10,\"solidity\":0.2},\"type\":\"scatter\"}],\"parcoords\":[{\"type\":\"parcoords\",\"line\":{\"colorbar\":{\"outlinewidth\":0,\"ticks\":\"\"}}}],\"scatterpolargl\":[{\"type\":\"scatterpolargl\",\"marker\":{\"colorbar\":{\"outlinewidth\":0,\"ticks\":\"\"}}}],\"bar\":[{\"error_x\":{\"color\":\"#2a3f5f\"},\"error_y\":{\"color\":\"#2a3f5f\"},\"marker\":{\"line\":{\"color\":\"#E5ECF6\",\"width\":0.5},\"pattern\":{\"fillmode\":\"overlay\",\"size\":10,\"solidity\":0.2}},\"type\":\"bar\"}],\"scattergeo\":[{\"type\":\"scattergeo\",\"marker\":{\"colorbar\":{\"outlinewidth\":0,\"ticks\":\"\"}}}],\"scatterpolar\":[{\"type\":\"scatterpolar\",\"marker\":{\"colorbar\":{\"outlinewidth\":0,\"ticks\":\"\"}}}],\"histogram\":[{\"marker\":{\"pattern\":{\"fillmode\":\"overlay\",\"size\":10,\"solidity\":0.2}},\"type\":\"histogram\"}],\"scattergl\":[{\"type\":\"scattergl\",\"marker\":{\"colorbar\":{\"outlinewidth\":0,\"ticks\":\"\"}}}],\"scatter3d\":[{\"type\":\"scatter3d\",\"line\":{\"colorbar\":{\"outlinewidth\":0,\"ticks\":\"\"}},\"marker\":{\"colorbar\":{\"outlinewidth\":0,\"ticks\":\"\"}}}],\"scattermapbox\":[{\"type\":\"scattermapbox\",\"marker\":{\"colorbar\":{\"outlinewidth\":0,\"ticks\":\"\"}}}],\"scatterternary\":[{\"type\":\"scatterternary\",\"marker\":{\"colorbar\":{\"outlinewidth\":0,\"ticks\":\"\"}}}],\"scattercarpet\":[{\"type\":\"scattercarpet\",\"marker\":{\"colorbar\":{\"outlinewidth\":0,\"ticks\":\"\"}}}],\"carpet\":[{\"aaxis\":{\"endlinecolor\":\"#2a3f5f\",\"gridcolor\":\"white\",\"linecolor\":\"white\",\"minorgridcolor\":\"white\",\"startlinecolor\":\"#2a3f5f\"},\"baxis\":{\"endlinecolor\":\"#2a3f5f\",\"gridcolor\":\"white\",\"linecolor\":\"white\",\"minorgridcolor\":\"white\",\"startlinecolor\":\"#2a3f5f\"},\"type\":\"carpet\"}],\"table\":[{\"cells\":{\"fill\":{\"color\":\"#EBF0F8\"},\"line\":{\"color\":\"white\"}},\"header\":{\"fill\":{\"color\":\"#C8D4E3\"},\"line\":{\"color\":\"white\"}},\"type\":\"table\"}],\"barpolar\":[{\"marker\":{\"line\":{\"color\":\"#E5ECF6\",\"width\":0.5},\"pattern\":{\"fillmode\":\"overlay\",\"size\":10,\"solidity\":0.2}},\"type\":\"barpolar\"}],\"pie\":[{\"automargin\":true,\"type\":\"pie\"}]},\"layout\":{\"autotypenumbers\":\"strict\",\"colorway\":[\"#636efa\",\"#EF553B\",\"#00cc96\",\"#ab63fa\",\"#FFA15A\",\"#19d3f3\",\"#FF6692\",\"#B6E880\",\"#FF97FF\",\"#FECB52\"],\"font\":{\"color\":\"#2a3f5f\"},\"hovermode\":\"closest\",\"hoverlabel\":{\"align\":\"left\"},\"paper_bgcolor\":\"white\",\"plot_bgcolor\":\"#E5ECF6\",\"polar\":{\"bgcolor\":\"#E5ECF6\",\"angularaxis\":{\"gridcolor\":\"white\",\"linecolor\":\"white\",\"ticks\":\"\"},\"radialaxis\":{\"gridcolor\":\"white\",\"linecolor\":\"white\",\"ticks\":\"\"}},\"ternary\":{\"bgcolor\":\"#E5ECF6\",\"aaxis\":{\"gridcolor\":\"white\",\"linecolor\":\"white\",\"ticks\":\"\"},\"baxis\":{\"gridcolor\":\"white\",\"linecolor\":\"white\",\"ticks\":\"\"},\"caxis\":{\"gridcolor\":\"white\",\"linecolor\":\"white\",\"ticks\":\"\"}},\"coloraxis\":{\"colorbar\":{\"outlinewidth\":0,\"ticks\":\"\"}},\"colorscale\":{\"sequential\":[[0.0,\"#0d0887\"],[0.1111111111111111,\"#46039f\"],[0.2222222222222222,\"#7201a8\"],[0.3333333333333333,\"#9c179e\"],[0.4444444444444444,\"#bd3786\"],[0.5555555555555556,\"#d8576b\"],[0.6666666666666666,\"#ed7953\"],[0.7777777777777778,\"#fb9f3a\"],[0.8888888888888888,\"#fdca26\"],[1.0,\"#f0f921\"]],\"sequentialminus\":[[0.0,\"#0d0887\"],[0.1111111111111111,\"#46039f\"],[0.2222222222222222,\"#7201a8\"],[0.3333333333333333,\"#9c179e\"],[0.4444444444444444,\"#bd3786\"],[0.5555555555555556,\"#d8576b\"],[0.6666666666666666,\"#ed7953\"],[0.7777777777777778,\"#fb9f3a\"],[0.8888888888888888,\"#fdca26\"],[1.0,\"#f0f921\"]],\"diverging\":[[0,\"#8e0152\"],[0.1,\"#c51b7d\"],[0.2,\"#de77ae\"],[0.3,\"#f1b6da\"],[0.4,\"#fde0ef\"],[0.5,\"#f7f7f7\"],[0.6,\"#e6f5d0\"],[0.7,\"#b8e186\"],[0.8,\"#7fbc41\"],[0.9,\"#4d9221\"],[1,\"#276419\"]]},\"xaxis\":{\"gridcolor\":\"white\",\"linecolor\":\"white\",\"ticks\":\"\",\"title\":{\"standoff\":15},\"zerolinecolor\":\"white\",\"automargin\":true,\"zerolinewidth\":2},\"yaxis\":{\"gridcolor\":\"white\",\"linecolor\":\"white\",\"ticks\":\"\",\"title\":{\"standoff\":15},\"zerolinecolor\":\"white\",\"automargin\":true,\"zerolinewidth\":2},\"scene\":{\"xaxis\":{\"backgroundcolor\":\"#E5ECF6\",\"gridcolor\":\"white\",\"linecolor\":\"white\",\"showbackground\":true,\"ticks\":\"\",\"zerolinecolor\":\"white\",\"gridwidth\":2},\"yaxis\":{\"backgroundcolor\":\"#E5ECF6\",\"gridcolor\":\"white\",\"linecolor\":\"white\",\"showbackground\":true,\"ticks\":\"\",\"zerolinecolor\":\"white\",\"gridwidth\":2},\"zaxis\":{\"backgroundcolor\":\"#E5ECF6\",\"gridcolor\":\"white\",\"linecolor\":\"white\",\"showbackground\":true,\"ticks\":\"\",\"zerolinecolor\":\"white\",\"gridwidth\":2}},\"shapedefaults\":{\"line\":{\"color\":\"#2a3f5f\"}},\"annotationdefaults\":{\"arrowcolor\":\"#2a3f5f\",\"arrowhead\":0,\"arrowwidth\":1},\"geo\":{\"bgcolor\":\"white\",\"landcolor\":\"#E5ECF6\",\"subunitcolor\":\"white\",\"showland\":true,\"showlakes\":true,\"lakecolor\":\"white\"},\"title\":{\"x\":0.05},\"mapbox\":{\"style\":\"light\"}}},\"scene\":{\"xaxis\":{\"range\":[-2,2],\"autorange\":false,\"zeroline\":false},\"yaxis\":{\"range\":[-2,2],\"autorange\":false,\"zeroline\":false},\"zaxis\":{\"range\":[-2,2],\"autorange\":false,\"zeroline\":false},\"aspectmode\":\"cube\"}},                        {\"responsive\": true}                    ).then(function(){\n",
       "                            \n",
       "var gd = document.getElementById('7dece6f3-1403-43d7-a75d-00103ea70b9a');\n",
       "var x = new MutationObserver(function (mutations, observer) {{\n",
       "        var display = window.getComputedStyle(gd).display;\n",
       "        if (!display || display === 'none') {{\n",
       "            console.log([gd, 'removed!']);\n",
       "            Plotly.purge(gd);\n",
       "            observer.disconnect();\n",
       "        }}\n",
       "}});\n",
       "\n",
       "// Listen for the removal of the full notebook cells\n",
       "var notebookContainer = gd.closest('#notebook-container');\n",
       "if (notebookContainer) {{\n",
       "    x.observe(notebookContainer, {childList: true});\n",
       "}}\n",
       "\n",
       "// Listen for the clearing of the current output cell\n",
       "var outputEl = gd.closest('.output');\n",
       "if (outputEl) {{\n",
       "    x.observe(outputEl, {childList: true});\n",
       "}}\n",
       "\n",
       "                        })                };                });            </script>        </div>"
      ]
     },
     "metadata": {},
     "output_type": "display_data"
    }
   ],
   "source": [
    "num_positions = 2\n",
    "num_directions = 15\n",
    "positions = random_points_on_unit_sphere(num_positions, cartesian=True)\n",
    "normals = -positions\n",
    "directions = random_inward_facing_directions(num_directions, normals)\n",
    "\n",
    "# plot position as point and normal as line with arrow head using plotly\n",
    "fig = go.Figure()\n",
    "\n",
    "# Add position points\n",
    "fig.add_trace(go.Scatter3d(x=positions[:, 0], y=positions[:, 1], z=positions[:, 2], mode='markers'))\n",
    "\n",
    "# Add normal vector lines\n",
    "for position, normal in zip(positions, normals):\n",
    "    fig.add_trace(go.Scatter3d(x=[position[0], normal[0]+position[0]], y=[position[1], normal[1]+position[1]], z=[position[2], normal[2]+position[2]], mode='lines', line=dict(width=15)))\n",
    "\n",
    "\n",
    "for i, position in enumerate(positions):\n",
    "    for j, direction in enumerate(directions[i]):\n",
    "        # Add direction vector lines\n",
    "        fig.add_trace(go.Scatter3d(x=[position[0], direction[0]+position[0]], y=[position[1], direction[1]+position[1]], z=[position[2], direction[2]+position[2]], mode='lines', line=dict(width=5)))\n",
    "\n",
    "# set square and all axes equal\n",
    "fig.update_layout(\n",
    "    scene=dict(\n",
    "        aspectmode='cube',\n",
    "        xaxis=dict(range=[-2, 2], autorange=False, zeroline=False),\n",
    "        yaxis=dict(range=[-2, 2], autorange=False, zeroline=False),\n",
    "        zaxis=dict(range=[-2, 2], autorange=False, zeroline=False),\n",
    "    )\n",
    ")\n",
    "\n",
    "fig.show()"
   ]
  },
  {
   "cell_type": "code",
   "execution_count": 10,
   "metadata": {},
   "outputs": [
    {
     "data": {
      "text/plain": [
       "Network(n_input_dims=108, n_output_dims=2, seed=1337, dtype=torch.float16, hyperparams={'encoding': {'offset': 0.0, 'otype': 'Identity', 'scale': 1.0}, 'network': {'activation': 'ReLU', 'n_hidden_layers': 6, 'n_neurons': 128, 'otype': 'FullyFusedMLP', 'output_activation': 'None'}, 'otype': 'NetworkWithInputEncoding'})"
      ]
     },
     "execution_count": 10,
     "metadata": {},
     "output_type": "execute_result"
    }
   ],
   "source": [
    "# Setup DDF Field\n",
    "from nerfstudio.field_components.encodings import SHEncoding, NeRFEncoding\n",
    "import tinycudann as tcnn\n",
    "\n",
    "# def get_normalized_tensor(t):\n",
    "#     \"\"\"SH encoding must be in the range [0, 1]\n",
    "\n",
    "#     Args:\n",
    "#         t: batch of vectors\n",
    "#     \"\"\"\n",
    "#     return (t + 1.0) / 2.0\n",
    "\n",
    "# position_encoding = SHEncoding(4)\n",
    "# direction_encoding = SHEncoding(4)\n",
    "\n",
    "position_encoding = NeRFEncoding(\n",
    "    in_dim=3, num_frequencies=10, min_freq_exp=0.0, max_freq_exp=8.0, include_input=True\n",
    ")\n",
    "direction_encoding = NeRFEncoding(\n",
    "    in_dim=3, num_frequencies=6, min_freq_exp=0.0, max_freq_exp=8.0, include_input=True\n",
    ")\n",
    "\n",
    "hidden_dim_ddf = 128\n",
    "num_layers_ddf = 9\n",
    "output_dim_ddf = 2 # Scalar distance and probability of termination\n",
    "\n",
    "ddf = tcnn.Network(\n",
    "    n_input_dims=6\n",
    "    + position_encoding.get_out_dim()\n",
    "    + direction_encoding.get_out_dim(),\n",
    "    n_output_dims=output_dim_ddf,\n",
    "    network_config={\n",
    "        \"otype\": \"FullyFusedMLP\",\n",
    "        \"activation\": \"ReLU\",\n",
    "        \"output_activation\": \"None\",\n",
    "        \"n_neurons\": hidden_dim_ddf,\n",
    "        \"n_hidden_layers\": num_layers_ddf - 1,\n",
    "    },\n",
    ")\n",
    "\n",
    "ddf.to(device)"
   ]
  },
  {
   "cell_type": "code",
   "execution_count": 3,
   "metadata": {},
   "outputs": [
    {
     "data": {
      "text/plain": [
       "Siren(\n",
       "  (net): Sequential(\n",
       "    (0): SineLayer(\n",
       "      (linear): Linear(in_features=6, out_features=512, bias=True)\n",
       "    )\n",
       "    (1): SineLayer(\n",
       "      (linear): Linear(in_features=512, out_features=512, bias=True)\n",
       "    )\n",
       "    (2): SineLayer(\n",
       "      (linear): Linear(in_features=512, out_features=512, bias=True)\n",
       "    )\n",
       "    (3): SineLayer(\n",
       "      (linear): Linear(in_features=512, out_features=512, bias=True)\n",
       "    )\n",
       "    (4): SineLayer(\n",
       "      (linear): Linear(in_features=512, out_features=512, bias=True)\n",
       "    )\n",
       "    (5): SineLayer(\n",
       "      (linear): Linear(in_features=512, out_features=512, bias=True)\n",
       "    )\n",
       "    (6): SineLayer(\n",
       "      (linear): Linear(in_features=512, out_features=512, bias=True)\n",
       "    )\n",
       "    (7): Linear(in_features=512, out_features=2, bias=True)\n",
       "  )\n",
       ")"
      ]
     },
     "execution_count": 3,
     "metadata": {},
     "output_type": "execute_result"
    }
   ],
   "source": [
    "from notebooks.siren import Siren\n",
    "\n",
    "ddf = Siren(in_features=6, hidden_features=512, hidden_layers=6, out_features=2, outermost_linear=True, first_omega_0=30, hidden_omega_0=30)\n",
    "\n",
    "ddf.to(device)"
   ]
  },
  {
   "cell_type": "code",
   "execution_count": 13,
   "metadata": {},
   "outputs": [
    {
     "name": "stderr",
     "output_type": "stream",
     "text": [
      "Failed to detect the name of this notebook, you can set it manually with the WANDB_NOTEBOOK_NAME environment variable to enable code saving.\n",
      "\u001b[34m\u001b[1mwandb\u001b[0m: Currently logged in as: \u001b[33muoy-jadgardner\u001b[0m. Use \u001b[1m`wandb login --relogin`\u001b[0m to force relogin\n"
     ]
    },
    {
     "data": {
      "text/html": [
       "wandb version 0.15.0 is available!  To upgrade, please run:\n",
       " $ pip install wandb --upgrade"
      ],
      "text/plain": [
       "<IPython.core.display.HTML object>"
      ]
     },
     "metadata": {},
     "output_type": "display_data"
    },
    {
     "data": {
      "text/html": [
       "Tracking run with wandb version 0.13.7"
      ],
      "text/plain": [
       "<IPython.core.display.HTML object>"
      ]
     },
     "metadata": {},
     "output_type": "display_data"
    },
    {
     "data": {
      "text/html": [
       "Run data is saved locally in <code>/workspaces/sdfstudio/wandb/run-20230425_141311-19y4lt4b</code>"
      ],
      "text/plain": [
       "<IPython.core.display.HTML object>"
      ]
     },
     "metadata": {},
     "output_type": "display_data"
    },
    {
     "data": {
      "text/html": [
       "Syncing run <strong><a href=\"https://wandb.ai/uoy-jadgardner/ddf/runs/19y4lt4b\" target=\"_blank\">deft-donkey-49</a></strong> to <a href=\"https://wandb.ai/uoy-jadgardner/ddf\" target=\"_blank\">Weights & Biases</a> (<a href=\"https://wandb.me/run\" target=\"_blank\">docs</a>)<br/>"
      ],
      "text/plain": [
       "<IPython.core.display.HTML object>"
      ]
     },
     "metadata": {},
     "output_type": "display_data"
    },
    {
     "name": "stderr",
     "output_type": "stream",
     "text": [
      "100%|██████████| 15000/15000 [24:04<00:00, 10.38it/s]\n"
     ]
    },
    {
     "data": {
      "text/html": [
       "Waiting for W&B process to finish... <strong style=\"color:green\">(success).</strong>"
      ],
      "text/plain": [
       "<IPython.core.display.HTML object>"
      ]
     },
     "metadata": {},
     "output_type": "display_data"
    },
    {
     "data": {
      "application/vnd.jupyter.widget-view+json": {
       "model_id": "f7945aed3186436aad7cac9274d2af7b",
       "version_major": 2,
       "version_minor": 0
      },
      "text/plain": [
       "VBox(children=(Label(value='0.003 MB of 0.003 MB uploaded (0.000 MB deduped)\\r'), FloatProgress(value=1.0, max…"
      ]
     },
     "metadata": {},
     "output_type": "display_data"
    },
    {
     "data": {
      "text/html": [
       "<style>\n",
       "    table.wandb td:nth-child(1) { padding: 0 10px; text-align: left ; width: auto;} td:nth-child(2) {text-align: left ; width: 100%}\n",
       "    .wandb-row { display: flex; flex-direction: row; flex-wrap: wrap; justify-content: flex-start; width: 100% }\n",
       "    .wandb-col { display: flex; flex-direction: column; flex-basis: 100%; flex: 1; padding: 10px; }\n",
       "    </style>\n",
       "<div class=\"wandb-row\"><div class=\"wandb-col\"><h3>Run history:</h3><br/><table class=\"wandb\"><tr><td>hit_loss</td><td>█▆▄▄▄▂▃▃▂▅▂▂▁▃▁▂▃▂▂▁▁▁▂▂▁▁▂▁▂▁▁▁▂▁▁▁▁▂▁▁</td></tr><tr><td>sdf_loss</td><td>▅▄▃▂▄▄▃▂▄▂▃▂▄▂▃▄▂▂▂▂▂▃█▂▂▄▁▃▃▃▁▂▂▁▁▁▂▂▃▁</td></tr><tr><td>term_loss</td><td>▅▆█▄▅▅▆▇▅▃▄▄▅▃▃▂▂▂▃▂▂▂▃▂▂▂▁▂▃▃▂▂▂▁▂▁▁▁▁▁</td></tr><tr><td>total_loss</td><td>█▇▆▄▅▄▅▅▄▅▃▃▃▃▂▃▃▃▂▂▂▂▃▂▂▂▂▂▂▂▁▁▂▁▁▁▂▁▁▁</td></tr></table><br/></div><div class=\"wandb-col\"><h3>Run summary:</h3><br/><table class=\"wandb\"><tr><td>hit_loss</td><td>0.01018</td></tr><tr><td>sdf_loss</td><td>0.00401</td></tr><tr><td>term_loss</td><td>0.01158</td></tr><tr><td>total_loss</td><td>0.02576</td></tr></table><br/></div></div>"
      ],
      "text/plain": [
       "<IPython.core.display.HTML object>"
      ]
     },
     "metadata": {},
     "output_type": "display_data"
    },
    {
     "data": {
      "text/html": [
       "Synced <strong style=\"color:#cdcd00\">deft-donkey-49</strong>: <a href=\"https://wandb.ai/uoy-jadgardner/ddf/runs/19y4lt4b\" target=\"_blank\">https://wandb.ai/uoy-jadgardner/ddf/runs/19y4lt4b</a><br/>Synced 5 W&B file(s), 0 media file(s), 0 artifact file(s) and 15 other file(s)"
      ],
      "text/plain": [
       "<IPython.core.display.HTML object>"
      ]
     },
     "metadata": {},
     "output_type": "display_data"
    },
    {
     "data": {
      "text/html": [
       "Find logs at: <code>./wandb/run-20230425_141311-19y4lt4b/logs</code>"
      ],
      "text/plain": [
       "<IPython.core.display.HTML object>"
      ]
     },
     "metadata": {},
     "output_type": "display_data"
    }
   ],
   "source": [
    "import wandb\n",
    "\n",
    "# Initialize a new W&B run\n",
    "wandb.init(project=\"ddf\")\n",
    "\n",
    "# setup optimizer and training loop\n",
    "lr_start = 1e-4\n",
    "lr_end = 1e-6\n",
    "epochs = 15000\n",
    "optim = torch.optim.Adam(ddf.parameters(), lr=lr_start)\n",
    "# exponential learning rate decay\n",
    "gamma = np.exp(np.log(lr_end / lr_start) / epochs)\n",
    "scheduler = torch.optim.lr_scheduler.ExponentialLR(optim, gamma=gamma)\n",
    "\n",
    "sdf_loss = torch.nn.MSELoss()\n",
    "hit_probability_loss = torch.nn.MSELoss()\n",
    "expected_termination_loss = torch.nn.MSELoss()\n",
    "\n",
    "dataset = DDFSDFDataset(1000, 1.0, model, repeat_position=True, device=device)\n",
    "\n",
    "epochs_until_checkpoint = 1000\n",
    "\n",
    "for i in tqdm.tqdm(range(epochs)):\n",
    "    positions, directions, accumulation, termination_dist = dataset[i]\n",
    "    positions = positions.to(device)\n",
    "    directions = directions.to(device)\n",
    "    accumulation = accumulation.to(device)\n",
    "    termination_dist = termination_dist.to(device)\n",
    "\n",
    "    # encoded_positions = position_encoding(positions) # [N, K]\n",
    "    # encoded_directions = direction_encoding(directions) # [N, K]\n",
    "    # model_input = torch.cat([positions, directions, encoded_positions, encoded_directions], dim=-1) # [N, K]\n",
    "\n",
    "    model_input = torch.cat([positions, directions], dim=-1) # [N, 3 + 3] = [N, 6]\n",
    "\n",
    "    output = ddf(model_input) # [N, 2]\n",
    "    output = output.type(torch.float32)\n",
    "    expected_termination_dist = torch.relu(output[..., 0]) # [N]\n",
    "    probability_of_hit = torch.sigmoid(output[..., 1]) # We want a probability between 0 and 1 [N]\n",
    "\n",
    "    # get sdf at termination outputted by the ddf\n",
    "    sdf_at_termination = model.field.get_sdf_at_pos(positions + directions * expected_termination_dist.unsqueeze(-1)).squeeze() # [N]\n",
    "\n",
    "    l1 = 3.0 * hit_probability_loss(probability_of_hit, accumulation)\n",
    "\n",
    "    mask = (accumulation > 0.7).float() # only consider pixels that hit an object when estimating expected termination distance [N]\n",
    "\n",
    "    l2 = 10.0 * sdf_loss(sdf_at_termination * mask, torch.zeros_like(sdf_at_termination))\n",
    "\n",
    "    l3 = 3.0 * expected_termination_loss(expected_termination_dist * mask, termination_dist * mask)\n",
    "\n",
    "    loss = l1 + l2 + l3\n",
    "    \n",
    "    optim.zero_grad()\n",
    "    loss.backward()\n",
    "    optim.step()\n",
    "    scheduler.step()\n",
    "\n",
    "    # save model to wandb folder\n",
    "    if i + 1 % epochs_until_checkpoint == 0:\n",
    "        torch.save(ddf.state_dict(), os.path.join(wandb.run.dir, f\"ddf_step_{i}.pt\"))\n",
    "\n",
    "    # Log losses to W&B\n",
    "    wandb.log({\"hit_loss\": l1.item(), \"sdf_loss\": l2.item(), \"term_loss\": l3.item(), \"total_loss\": loss.item()})\n",
    "\n",
    "wandb.finish()"
   ]
  },
  {
   "cell_type": "code",
   "execution_count": 4,
   "metadata": {},
   "outputs": [
    {
     "data": {
      "text/plain": [
       "<All keys matched successfully>"
      ]
     },
     "execution_count": 4,
     "metadata": {},
     "output_type": "execute_result"
    }
   ],
   "source": [
    "# load model from latest wandb checkpoint\n",
    "step = 15000\n",
    "wandb_dir = os.path.join(\"/workspaces/sdfstudio/wandb/latest-run/files\", f\"ddf_step_{step}.pt\")\n",
    "ddf.load_state_dict(torch.load(wandb_dir))"
   ]
  },
  {
   "cell_type": "code",
   "execution_count": 15,
   "metadata": {},
   "outputs": [
    {
     "data": {
      "image/png": "[encoded data removed]",
      "text/plain": [
       "<Figure size 1000x700 with 9 Axes>"
      ]
     },
     "metadata": {},
     "output_type": "display_data"
    }
   ],
   "source": [
    "from mpl_toolkits.axes_grid1 import make_axes_locatable\n",
    "\n",
    "# load data\n",
    "data = torch.load(\"notebooks/ddf_test_data/single_viewpoint_data.pt\")\n",
    "H, W = data[\"H\"], data[\"W\"]\n",
    "\n",
    "with torch.no_grad():\n",
    "  accumulation = data['accumulation'].reshape(H, W).cpu().detach().numpy()\n",
    "  depth = (data['termination_dist'] * (data['accumulation'] > 0.7).float()).reshape(H, W).cpu().detach().numpy()\n",
    "\n",
    "  # plot everything in the same figure\n",
    "  fig, ax = plt.subplots(2, 3, figsize=(10, 7))\n",
    "  # first row is accumulation, rgb, depth\n",
    "  im1 = ax[0, 0].imshow(accumulation, vmin=0, vmax=1)\n",
    "  im2 = ax[0, 1].imshow(depth, vmin=0, vmax=3.5)\n",
    "  # plot blank figure\n",
    "  im3 = ax[0, 2].imshow(np.zeros((H, W)))\n",
    "  \n",
    "\n",
    "  # include colorbar next to im3 that is the same size as im3\n",
    "  # include colorbars next to im2 and im3 that are same size as im2 and im3\n",
    "  # Create a custom divider for the colorbar next to im2\n",
    "  # Create a custom divider for the colorbar next to im3\n",
    "  divider1 = make_axes_locatable(ax[0, 1])\n",
    "  cax1 = divider1.append_axes(\"right\", size=\"5%\", pad=0.05)\n",
    "\n",
    "  # Create the colorbars with the custom dividers\n",
    "  fig.colorbar(im2, cax=cax1)\n",
    "\n",
    "  # add titles to the first row\n",
    "  ax[0, 0].set_title(\"Accumulation\")\n",
    "  ax[0, 1].set_title(\"Depth\")\n",
    "  ax[0, 2].set_title(\"Blank Image\")\n",
    "\n",
    "  positions = data['positions']\n",
    "  directions = data['directions']\n",
    "\n",
    "  # encoded_positions = position_encoding(positions) # [N, 16]\n",
    "  # encoded_directions = direction_encoding(directions) # [N, 16]\n",
    "  # model_input = torch.cat([positions, directions, encoded_positions, encoded_directions], dim=-1) # [N, 3 + 3 + 16 + 16] = [N, 38]\n",
    "\n",
    "  model_input = torch.cat([positions, directions], dim=-1) # [N, 3 + 3] = [N, 6]\n",
    "\n",
    "  output = ddf(model_input) # [N, 2]\n",
    "  output = output.type(torch.float32)\n",
    "  expected_termination_dist = torch.relu(output[..., 0]) # [N]\n",
    "  probability_of_hit = torch.sigmoid(output[..., 1]) # We want a probability between 0 and 1 [N]\n",
    "\n",
    "  # second row is probability of hit, blank image and expected termination distance\n",
    "  im1 = ax[1, 0].imshow(probability_of_hit.reshape(H, W).cpu().detach().numpy(), vmin=0, vmax=1)\n",
    "  im2 = ax[1, 1].imshow((expected_termination_dist * (data['accumulation'] > 0.7).float()).reshape(H, W).cpu().detach().numpy(), vmin=0, vmax=3.5)\n",
    "  im3 = ax[1, 2].imshow(expected_termination_dist.reshape(H, W).cpu().detach().numpy(), vmin=0, vmax=3.5)\n",
    "\n",
    "  # include colorbars next to im2 and im3 that are same size as im2 and im3\n",
    "  # Create a custom divider for the colorbar next to im2\n",
    "  divider2 = make_axes_locatable(ax[1, 1])\n",
    "  cax2 = divider2.append_axes(\"right\", size=\"5%\", pad=0.05)\n",
    "\n",
    "  # Create a custom divider for the colorbar next to im3\n",
    "  divider3 = make_axes_locatable(ax[1, 2])\n",
    "  cax3 = divider3.append_axes(\"right\", size=\"5%\", pad=0.05)\n",
    "\n",
    "  # Create the colorbars with the custom dividers\n",
    "  fig.colorbar(im2, cax=cax2)\n",
    "  fig.colorbar(im3, cax=cax3)\n",
    "  \n",
    "  # add titles to the second row\n",
    "  ax[1, 0].set_title(\"Probability of Hit\")\n",
    "  ax[1, 1].set_title(\"Masked Termination Distance\")\n",
    "  ax[1, 2].set_title(\"Expected Termination Distance\")\n"
   ]
  },
  {
   "attachments": {},
   "cell_type": "markdown",
   "metadata": {},
   "source": [
    "Try including multi-view consistency loss"
   ]
  },
  {
   "cell_type": "code",
   "execution_count": 8,
   "metadata": {},
   "outputs": [],
   "source": [
    "def multi_view_consitency(model, positions, directions, expected_termination_dist, number_of_comparisons, device):\n",
    "  \"\"\"We have an expected termination distance for each position. \n",
    "  We first select 'number_of_comparisons' other positions from positions.\n",
    "  So we have [num_positions, num_comparisons, 3] new positions.\n",
    "  Then we get the normalised direction between these new positions and the\n",
    "  expected termination position. So we have [num_positions, num_comparisons, 3] directions.\n",
    "  Then we get the expected termination distance for these new positions and normalised\n",
    "  directions. We then expand the expected termination distance to [num_positions, num_comparisons]\n",
    "  and return both the expected termination distance and the comparison expected termination distance.\n",
    "  \"\"\"\n",
    "\n",
    "  # generate tensor or random indices shape [num_positions, num_comparisons] where each indices in num_comparisons\n",
    "  # does not contain the original index\n",
    "  num_positions = positions.shape[0]\n",
    "  new_positions = random_points_on_unit_sphere(num_positions * number_of_comparisons, cartesian=True) # [num_positions * num_comparisons, 3]\n",
    "  new_positions = new_positions.reshape(num_positions, number_of_comparisons, 3) # [num_positions, num_comparisons, 3]\n",
    "  new_positions = new_positions.to(device)\n",
    "\n",
    "  # get new directions between new positions and expected termination positions\n",
    "  expected_termination_positions = positions + directions * expected_termination_dist.unsqueeze(1)\n",
    "  expected_termination_dist = expected_termination_dist.unsqueeze(1).repeat(1, number_of_comparisons)\n",
    "  expected_termination_positions = expected_termination_positions.unsqueeze(1).repeat(1, number_of_comparisons, 1)\n",
    "  new_directions = new_positions - expected_termination_positions\n",
    "  new_directions = new_directions / torch.norm(new_directions, dim=-1, keepdim=True)\n",
    "\n",
    "  new_positions = new_positions.reshape(-1, 3)\n",
    "  new_directions = new_directions.reshape(-1, 3)\n",
    "  expected_termination_dist = expected_termination_dist.reshape(-1)\n",
    "\n",
    "  # pass through model\n",
    "  model_input = torch.cat([new_positions, new_directions], dim=-1)\n",
    "  output = ddf(model_input)\n",
    "  output = output.type(torch.float32)\n",
    "  multi_view_expected_termination_dist = torch.relu(output[..., 0]) # [N]\n",
    "\n",
    "  return expected_termination_dist, multi_view_expected_termination_dist\n",
    "\n"
   ]
  },
  {
   "cell_type": "code",
   "execution_count": 10,
   "metadata": {},
   "outputs": [
    {
     "data": {
      "text/html": [
       "Finishing last run (ID:s5c5is1x) before initializing another..."
      ],
      "text/plain": [
       "<IPython.core.display.HTML object>"
      ]
     },
     "metadata": {},
     "output_type": "display_data"
    },
    {
     "data": {
      "text/html": [
       "Waiting for W&B process to finish... <strong style=\"color:green\">(success).</strong>"
      ],
      "text/plain": [
       "<IPython.core.display.HTML object>"
      ]
     },
     "metadata": {},
     "output_type": "display_data"
    },
    {
     "data": {
      "text/html": [
       "<style>\n",
       "    table.wandb td:nth-child(1) { padding: 0 10px; text-align: left ; width: auto;} td:nth-child(2) {text-align: left ; width: 100%}\n",
       "    .wandb-row { display: flex; flex-direction: row; flex-wrap: wrap; justify-content: flex-start; width: 100% }\n",
       "    .wandb-col { display: flex; flex-direction: column; flex-basis: 100%; flex: 1; padding: 10px; }\n",
       "    </style>\n",
       "<div class=\"wandb-row\"><div class=\"wandb-col\"><h3>Run history:</h3><br/><table class=\"wandb\"><tr><td>hit_loss</td><td>█▂▁▁▁▁▁▁▂▂▁▁▁▁▁▁▁▁▁▁▁▁▁▁▁▁▁▁▁▁▁▁▁▁▁▁▁▁▁▁</td></tr><tr><td>mv_loss</td><td>█▁▁▁▁▁▁▁▂▂▂▂▂▂▂▂▂▁▂▂▁▂▁▁▁▁▁▁▁▁▁▁▂▁▁▁▁▁▂▁</td></tr><tr><td>sdf_loss</td><td>▄▃▂▁▁▁▂▂█▅▅▅▃▃▄▄▃▂▃▂▃▂▃▂▃▂▃▂▂▃▃▂▂▂▃▂▃▂▂▂</td></tr><tr><td>term_loss</td><td>█▄▂▁▂▁▂▁▃▄▂▃▂▁▂▂▄▂▂▂▁▁▁▂▁▁▂▁▁▁▁▂▂▁▁▁▁▁▂▁</td></tr><tr><td>total_loss</td><td>█▃▁▁▁▁▁▁▂▂▁▂▁▁▁▁▂▁▁▁▁▁▁▁▁▁▁▁▁▁▁▁▁▁▁▁▁▁▁▁</td></tr></table><br/></div><div class=\"wandb-col\"><h3>Run summary:</h3><br/><table class=\"wandb\"><tr><td>hit_loss</td><td>0.00455</td></tr><tr><td>mv_loss</td><td>7e-05</td></tr><tr><td>sdf_loss</td><td>0.00156</td></tr><tr><td>term_loss</td><td>0.00418</td></tr><tr><td>total_loss</td><td>0.01037</td></tr></table><br/></div></div>"
      ],
      "text/plain": [
       "<IPython.core.display.HTML object>"
      ]
     },
     "metadata": {},
     "output_type": "display_data"
    },
    {
     "data": {
      "text/html": [
       "Synced <strong style=\"color:#cdcd00\">fast-gorge-53</strong>: <a href=\"https://wandb.ai/uoy-jadgardner/ddf/runs/s5c5is1x\" target=\"_blank\">https://wandb.ai/uoy-jadgardner/ddf/runs/s5c5is1x</a><br/>Synced 5 W&B file(s), 0 media file(s), 0 artifact file(s) and 0 other file(s)"
      ],
      "text/plain": [
       "<IPython.core.display.HTML object>"
      ]
     },
     "metadata": {},
     "output_type": "display_data"
    },
    {
     "data": {
      "text/html": [
       "Find logs at: <code>./wandb/run-20230425_151802-s5c5is1x/logs</code>"
      ],
      "text/plain": [
       "<IPython.core.display.HTML object>"
      ]
     },
     "metadata": {},
     "output_type": "display_data"
    },
    {
     "data": {
      "text/html": [
       "Successfully finished last run (ID:s5c5is1x). Initializing new run:<br/>"
      ],
      "text/plain": [
       "<IPython.core.display.HTML object>"
      ]
     },
     "metadata": {},
     "output_type": "display_data"
    },
    {
     "data": {
      "application/vnd.jupyter.widget-view+json": {
       "model_id": "b09dba0e04fc409cb3df874a207771be",
       "version_major": 2,
       "version_minor": 0
      },
      "text/plain": [
       "VBox(children=(Label(value='Waiting for wandb.init()...\\r'), FloatProgress(value=0.01667082151664848, max=1.0)…"
      ]
     },
     "metadata": {},
     "output_type": "display_data"
    },
    {
     "data": {
      "text/html": [
       "wandb version 0.15.0 is available!  To upgrade, please run:\n",
       " $ pip install wandb --upgrade"
      ],
      "text/plain": [
       "<IPython.core.display.HTML object>"
      ]
     },
     "metadata": {},
     "output_type": "display_data"
    },
    {
     "data": {
      "text/html": [
       "Tracking run with wandb version 0.13.7"
      ],
      "text/plain": [
       "<IPython.core.display.HTML object>"
      ]
     },
     "metadata": {},
     "output_type": "display_data"
    },
    {
     "data": {
      "text/html": [
       "Run data is saved locally in <code>/workspaces/sdfstudio/wandb/run-20230425_152152-1o96e8pe</code>"
      ],
      "text/plain": [
       "<IPython.core.display.HTML object>"
      ]
     },
     "metadata": {},
     "output_type": "display_data"
    },
    {
     "data": {
      "text/html": [
       "Syncing run <strong><a href=\"https://wandb.ai/uoy-jadgardner/ddf/runs/1o96e8pe\" target=\"_blank\">warm-plant-54</a></strong> to <a href=\"https://wandb.ai/uoy-jadgardner/ddf\" target=\"_blank\">Weights & Biases</a> (<a href=\"https://wandb.me/run\" target=\"_blank\">docs</a>)<br/>"
      ],
      "text/plain": [
       "<IPython.core.display.HTML object>"
      ]
     },
     "metadata": {},
     "output_type": "display_data"
    },
    {
     "name": "stderr",
     "output_type": "stream",
     "text": [
      "  5%|▌         | 799/15000 [01:18<23:20, 10.14it/s]\n"
     ]
    },
    {
     "ename": "KeyboardInterrupt",
     "evalue": "",
     "output_type": "error",
     "traceback": [
      "\u001b[0;31m---------------------------------------------------------------------------\u001b[0m",
      "\u001b[0;31mKeyboardInterrupt\u001b[0m                         Traceback (most recent call last)",
      "Cell \u001b[0;32mIn[10], line 24\u001b[0m\n\u001b[1;32m     21\u001b[0m epochs_until_checkpoint \u001b[39m=\u001b[39m \u001b[39m1000\u001b[39m\n\u001b[1;32m     23\u001b[0m \u001b[39mfor\u001b[39;00m i \u001b[39min\u001b[39;00m tqdm\u001b[39m.\u001b[39mtqdm(\u001b[39mrange\u001b[39m(epochs)):\n\u001b[0;32m---> 24\u001b[0m     positions, directions, accumulation, termination_dist \u001b[39m=\u001b[39m dataset[i]\n\u001b[1;32m     25\u001b[0m     positions \u001b[39m=\u001b[39m positions\u001b[39m.\u001b[39mto(device)\n\u001b[1;32m     26\u001b[0m     directions \u001b[39m=\u001b[39m directions\u001b[39m.\u001b[39mto(device)\n",
      "Cell \u001b[0;32mIn[2], line 123\u001b[0m, in \u001b[0;36mDDFSDFDataset.__getitem__\u001b[0;34m(self, idx)\u001b[0m\n\u001b[1;32m    122\u001b[0m \u001b[39mdef\u001b[39;00m \u001b[39m__getitem__\u001b[39m(\u001b[39mself\u001b[39m, idx):\n\u001b[0;32m--> 123\u001b[0m     \u001b[39mreturn\u001b[39;00m \u001b[39mself\u001b[39;49m\u001b[39m.\u001b[39;49m_generate_sample()\n",
      "Cell \u001b[0;32mIn[2], line 113\u001b[0m, in \u001b[0;36mDDFSDFDataset._generate_sample\u001b[0;34m(self)\u001b[0m\n\u001b[1;32m    111\u001b[0m \u001b[39mself\u001b[39m\u001b[39m.\u001b[39mray_bundle\u001b[39m.\u001b[39morigins \u001b[39m=\u001b[39m pos_ray\n\u001b[1;32m    112\u001b[0m \u001b[39mself\u001b[39m\u001b[39m.\u001b[39mray_bundle\u001b[39m.\u001b[39mdirections \u001b[39m=\u001b[39m dir_ray\n\u001b[0;32m--> 113\u001b[0m field_outputs \u001b[39m=\u001b[39m \u001b[39mself\u001b[39;49m\u001b[39m.\u001b[39;49msdf_function\u001b[39m.\u001b[39;49mget_outputs_for_camera_ray_bundle(\u001b[39mself\u001b[39;49m\u001b[39m.\u001b[39;49mray_bundle)\n\u001b[1;32m    114\u001b[0m accumultation \u001b[39m=\u001b[39m field_outputs[\u001b[39m\"\u001b[39m\u001b[39maccumulation\u001b[39m\u001b[39m\"\u001b[39m]\u001b[39m.\u001b[39mreshape(\u001b[39m-\u001b[39m\u001b[39m1\u001b[39m, \u001b[39m1\u001b[39m)\u001b[39m.\u001b[39msqueeze()\n\u001b[1;32m    115\u001b[0m termination_dist \u001b[39m=\u001b[39m field_outputs[\u001b[39m\"\u001b[39m\u001b[39mdepth\u001b[39m\u001b[39m\"\u001b[39m]\u001b[39m.\u001b[39mreshape(\u001b[39m-\u001b[39m\u001b[39m1\u001b[39m, \u001b[39m1\u001b[39m)\u001b[39m.\u001b[39msqueeze()\n",
      "File \u001b[0;32m~/.local/lib/python3.10/site-packages/torch/autograd/grad_mode.py:27\u001b[0m, in \u001b[0;36m_DecoratorContextManager.__call__.<locals>.decorate_context\u001b[0;34m(*args, **kwargs)\u001b[0m\n\u001b[1;32m     24\u001b[0m \u001b[39m@functools\u001b[39m\u001b[39m.\u001b[39mwraps(func)\n\u001b[1;32m     25\u001b[0m \u001b[39mdef\u001b[39;00m \u001b[39mdecorate_context\u001b[39m(\u001b[39m*\u001b[39margs, \u001b[39m*\u001b[39m\u001b[39m*\u001b[39mkwargs):\n\u001b[1;32m     26\u001b[0m     \u001b[39mwith\u001b[39;00m \u001b[39mself\u001b[39m\u001b[39m.\u001b[39mclone():\n\u001b[0;32m---> 27\u001b[0m         \u001b[39mreturn\u001b[39;00m func(\u001b[39m*\u001b[39;49margs, \u001b[39m*\u001b[39;49m\u001b[39m*\u001b[39;49mkwargs)\n",
      "File \u001b[0;32m/workspaces/sdfstudio/nerfstudio/models/base_model.py:205\u001b[0m, in \u001b[0;36mModel.get_outputs_for_camera_ray_bundle\u001b[0;34m(self, camera_ray_bundle, show_progress)\u001b[0m\n\u001b[1;32m    203\u001b[0m end_idx \u001b[39m=\u001b[39m i \u001b[39m+\u001b[39m num_rays_per_chunk\n\u001b[1;32m    204\u001b[0m ray_bundle \u001b[39m=\u001b[39m camera_ray_bundle\u001b[39m.\u001b[39mget_row_major_sliced_ray_bundle(start_idx, end_idx)\n\u001b[0;32m--> 205\u001b[0m outputs \u001b[39m=\u001b[39m \u001b[39mself\u001b[39;49m\u001b[39m.\u001b[39;49mforward(ray_bundle\u001b[39m=\u001b[39;49mray_bundle)\n\u001b[1;32m    206\u001b[0m \u001b[39m# torch.cuda.empty_cache()\u001b[39;00m\n\u001b[1;32m    207\u001b[0m \u001b[39mfor\u001b[39;00m output_name, output \u001b[39min\u001b[39;00m outputs\u001b[39m.\u001b[39mitems():  \u001b[39m# type: ignore\u001b[39;00m\n",
      "File \u001b[0;32m/workspaces/sdfstudio/nerfstudio/models/reni_neus.py:1045\u001b[0m, in \u001b[0;36mRENINeuSModel.forward\u001b[0;34m(self, ray_bundle, step)\u001b[0m\n\u001b[1;32m   1042\u001b[0m \u001b[39mif\u001b[39;00m \u001b[39mself\u001b[39m\u001b[39m.\u001b[39mcollider \u001b[39mis\u001b[39;00m \u001b[39mnot\u001b[39;00m \u001b[39mNone\u001b[39;00m:\n\u001b[1;32m   1043\u001b[0m     ray_bundle \u001b[39m=\u001b[39m \u001b[39mself\u001b[39m\u001b[39m.\u001b[39mcollider(ray_bundle)\n\u001b[0;32m-> 1045\u001b[0m \u001b[39mreturn\u001b[39;00m \u001b[39mself\u001b[39;49m\u001b[39m.\u001b[39;49mget_outputs(ray_bundle, step\u001b[39m=\u001b[39;49mstep)\n",
      "File \u001b[0;32m/workspaces/sdfstudio/nerfstudio/models/reni_neus.py:625\u001b[0m, in \u001b[0;36mRENINeuSModel.get_outputs\u001b[0;34m(self, ray_bundle, step)\u001b[0m\n\u001b[1;32m    620\u001b[0m \u001b[39mdef\u001b[39;00m \u001b[39mget_outputs\u001b[39m(\u001b[39mself\u001b[39m, ray_bundle: RayBundle, step\u001b[39m=\u001b[39m\u001b[39mNone\u001b[39;00m) \u001b[39m-\u001b[39m\u001b[39m>\u001b[39m Dict:\n\u001b[1;32m    621\u001b[0m     \u001b[39m# TODO make this configurable\u001b[39;00m\n\u001b[1;32m    622\u001b[0m     \u001b[39m# compute near and far from from sphere with radius 1.0\u001b[39;00m\n\u001b[1;32m    623\u001b[0m     \u001b[39m# ray_bundle = self.sphere_collider(ray_bundle)\u001b[39;00m\n\u001b[0;32m--> 625\u001b[0m     samples_and_field_outputs \u001b[39m=\u001b[39m \u001b[39mself\u001b[39;49m\u001b[39m.\u001b[39;49msample_and_forward_field(ray_bundle\u001b[39m=\u001b[39;49mray_bundle, step\u001b[39m=\u001b[39;49mstep)\n\u001b[1;32m    627\u001b[0m     \u001b[39m# Shortcuts\u001b[39;00m\n\u001b[1;32m    628\u001b[0m     field_outputs \u001b[39m=\u001b[39m samples_and_field_outputs[\u001b[39m\"\u001b[39m\u001b[39mfield_outputs\u001b[39m\u001b[39m\"\u001b[39m]\n",
      "File \u001b[0;32m/workspaces/sdfstudio/nerfstudio/models/reni_neus.py:289\u001b[0m, in \u001b[0;36mRENINeuSModel.sample_and_forward_field\u001b[0;34m(self, ray_bundle, step)\u001b[0m\n\u001b[1;32m    286\u001b[0m illumination_directions \u001b[39m=\u001b[39m \u001b[39mself\u001b[39m\u001b[39m.\u001b[39millumination_sampler(\u001b[39mself\u001b[39m\u001b[39m.\u001b[39mconfig\u001b[39m.\u001b[39mnum_illumination_samples)\n\u001b[1;32m    287\u001b[0m illumination_directions \u001b[39m=\u001b[39m illumination_directions\u001b[39m.\u001b[39mto(\u001b[39mself\u001b[39m\u001b[39m.\u001b[39mdevice)\n\u001b[0;32m--> 289\u001b[0m field_outputs \u001b[39m=\u001b[39m \u001b[39mself\u001b[39;49m\u001b[39m.\u001b[39;49mfield(ray_samples, return_alphas\u001b[39m=\u001b[39;49m\u001b[39mTrue\u001b[39;49;00m, illumination_directions\u001b[39m=\u001b[39;49millumination_directions)\n\u001b[1;32m    290\u001b[0m weights, transmittance \u001b[39m=\u001b[39m ray_samples\u001b[39m.\u001b[39mget_weights_and_transmittance_from_alphas(\n\u001b[1;32m    291\u001b[0m     field_outputs[FieldHeadNames\u001b[39m.\u001b[39mALPHA]\n\u001b[1;32m    292\u001b[0m )\n\u001b[1;32m    294\u001b[0m bg_transmittance \u001b[39m=\u001b[39m transmittance[:, \u001b[39m-\u001b[39m\u001b[39m1\u001b[39m, :]\n",
      "File \u001b[0;32m~/.local/lib/python3.10/site-packages/torch/nn/modules/module.py:1130\u001b[0m, in \u001b[0;36mModule._call_impl\u001b[0;34m(self, *input, **kwargs)\u001b[0m\n\u001b[1;32m   1126\u001b[0m \u001b[39m# If we don't have any hooks, we want to skip the rest of the logic in\u001b[39;00m\n\u001b[1;32m   1127\u001b[0m \u001b[39m# this function, and just call forward.\u001b[39;00m\n\u001b[1;32m   1128\u001b[0m \u001b[39mif\u001b[39;00m \u001b[39mnot\u001b[39;00m (\u001b[39mself\u001b[39m\u001b[39m.\u001b[39m_backward_hooks \u001b[39mor\u001b[39;00m \u001b[39mself\u001b[39m\u001b[39m.\u001b[39m_forward_hooks \u001b[39mor\u001b[39;00m \u001b[39mself\u001b[39m\u001b[39m.\u001b[39m_forward_pre_hooks \u001b[39mor\u001b[39;00m _global_backward_hooks\n\u001b[1;32m   1129\u001b[0m         \u001b[39mor\u001b[39;00m _global_forward_hooks \u001b[39mor\u001b[39;00m _global_forward_pre_hooks):\n\u001b[0;32m-> 1130\u001b[0m     \u001b[39mreturn\u001b[39;00m forward_call(\u001b[39m*\u001b[39;49m\u001b[39minput\u001b[39;49m, \u001b[39m*\u001b[39;49m\u001b[39m*\u001b[39;49mkwargs)\n\u001b[1;32m   1131\u001b[0m \u001b[39m# Do not call functions when jit is used\u001b[39;00m\n\u001b[1;32m   1132\u001b[0m full_backward_hooks, non_full_backward_hooks \u001b[39m=\u001b[39m [], []\n",
      "File \u001b[0;32m/workspaces/sdfstudio/nerfstudio/fields/sdf_albedo_visibility_field.py:630\u001b[0m, in \u001b[0;36mSDFAlbedoVisibilityField.forward\u001b[0;34m(self, ray_samples, return_alphas, return_occupancy, illumination_directions)\u001b[0m\n\u001b[1;32m    618\u001b[0m \u001b[39mdef\u001b[39;00m \u001b[39mforward\u001b[39m(\n\u001b[1;32m    619\u001b[0m     \u001b[39mself\u001b[39m,\n\u001b[1;32m    620\u001b[0m     ray_samples: RaySamples,\n\u001b[0;32m   (...)\u001b[0m\n\u001b[1;32m    623\u001b[0m     illumination_directions\u001b[39m=\u001b[39m\u001b[39mNone\u001b[39;00m,\n\u001b[1;32m    624\u001b[0m ):  \u001b[39m# pylint: disable=arguments-renamed\u001b[39;00m\n\u001b[1;32m    625\u001b[0m     \u001b[39m\"\"\"Evaluates the field at points along the ray.\u001b[39;00m\n\u001b[1;32m    626\u001b[0m \n\u001b[1;32m    627\u001b[0m \u001b[39m    Args:\u001b[39;00m\n\u001b[1;32m    628\u001b[0m \u001b[39m        ray_samples: Samples to evaluate field on.\u001b[39;00m\n\u001b[1;32m    629\u001b[0m \u001b[39m    \"\"\"\u001b[39;00m\n\u001b[0;32m--> 630\u001b[0m     field_outputs \u001b[39m=\u001b[39m \u001b[39mself\u001b[39;49m\u001b[39m.\u001b[39;49mget_outputs(\n\u001b[1;32m    631\u001b[0m         ray_samples,\n\u001b[1;32m    632\u001b[0m         return_alphas\u001b[39m=\u001b[39;49mreturn_alphas,\n\u001b[1;32m    633\u001b[0m         return_occupancy\u001b[39m=\u001b[39;49mreturn_occupancy,\n\u001b[1;32m    634\u001b[0m         illumination_directions\u001b[39m=\u001b[39;49millumination_directions,\n\u001b[1;32m    635\u001b[0m     )\n\u001b[1;32m    636\u001b[0m     \u001b[39mreturn\u001b[39;00m field_outputs\n",
      "File \u001b[0;32m/workspaces/sdfstudio/nerfstudio/fields/sdf_albedo_visibility_field.py:519\u001b[0m, in \u001b[0;36mSDFAlbedoVisibilityField.get_outputs\u001b[0;34m(self, ray_samples, return_alphas, return_occupancy, illumination_directions)\u001b[0m\n\u001b[1;32m    516\u001b[0m     sdf, geo_features \u001b[39m=\u001b[39m torch\u001b[39m.\u001b[39msplit(h, [\u001b[39m1\u001b[39m, \u001b[39mself\u001b[39m\u001b[39m.\u001b[39mconfig\u001b[39m.\u001b[39mgeo_feat_dim], dim\u001b[39m=\u001b[39m\u001b[39m-\u001b[39m\u001b[39m1\u001b[39m)\n\u001b[1;32m    517\u001b[0m d_output \u001b[39m=\u001b[39m torch\u001b[39m.\u001b[39mones_like(sdf, requires_grad\u001b[39m=\u001b[39m\u001b[39mFalse\u001b[39;00m, device\u001b[39m=\u001b[39msdf\u001b[39m.\u001b[39mdevice)\n\u001b[0;32m--> 519\u001b[0m gradients \u001b[39m=\u001b[39m torch\u001b[39m.\u001b[39;49mautograd\u001b[39m.\u001b[39;49mgrad(\n\u001b[1;32m    520\u001b[0m     outputs\u001b[39m=\u001b[39;49msdf,\n\u001b[1;32m    521\u001b[0m     inputs\u001b[39m=\u001b[39;49mpositions_flat,\n\u001b[1;32m    522\u001b[0m     grad_outputs\u001b[39m=\u001b[39;49md_output,\n\u001b[1;32m    523\u001b[0m     create_graph\u001b[39m=\u001b[39;49m\u001b[39mTrue\u001b[39;49;00m,\n\u001b[1;32m    524\u001b[0m     retain_graph\u001b[39m=\u001b[39;49m\u001b[39mTrue\u001b[39;49;00m,\n\u001b[1;32m    525\u001b[0m     only_inputs\u001b[39m=\u001b[39;49m\u001b[39mTrue\u001b[39;49;00m,\n\u001b[1;32m    526\u001b[0m )[\u001b[39m0\u001b[39m]\n\u001b[1;32m    528\u001b[0m density \u001b[39m=\u001b[39m \u001b[39mself\u001b[39m\u001b[39m.\u001b[39mlaplace_density(sdf)\n\u001b[1;32m    530\u001b[0m sdf \u001b[39m=\u001b[39m sdf\u001b[39m.\u001b[39mview(\u001b[39m*\u001b[39mray_samples\u001b[39m.\u001b[39mfrustums\u001b[39m.\u001b[39mdirections\u001b[39m.\u001b[39mshape[:\u001b[39m-\u001b[39m\u001b[39m1\u001b[39m], \u001b[39m-\u001b[39m\u001b[39m1\u001b[39m)\n",
      "File \u001b[0;32m~/.local/lib/python3.10/site-packages/torch/autograd/__init__.py:276\u001b[0m, in \u001b[0;36mgrad\u001b[0;34m(outputs, inputs, grad_outputs, retain_graph, create_graph, only_inputs, allow_unused, is_grads_batched)\u001b[0m\n\u001b[1;32m    274\u001b[0m     \u001b[39mreturn\u001b[39;00m _vmap_internals\u001b[39m.\u001b[39m_vmap(vjp, \u001b[39m0\u001b[39m, \u001b[39m0\u001b[39m, allow_none_pass_through\u001b[39m=\u001b[39m\u001b[39mTrue\u001b[39;00m)(grad_outputs_)\n\u001b[1;32m    275\u001b[0m \u001b[39melse\u001b[39;00m:\n\u001b[0;32m--> 276\u001b[0m     \u001b[39mreturn\u001b[39;00m Variable\u001b[39m.\u001b[39;49m_execution_engine\u001b[39m.\u001b[39;49mrun_backward(  \u001b[39m# Calls into the C++ engine to run the backward pass\u001b[39;49;00m\n\u001b[1;32m    277\u001b[0m         t_outputs, grad_outputs_, retain_graph, create_graph, t_inputs,\n\u001b[1;32m    278\u001b[0m         allow_unused, accumulate_grad\u001b[39m=\u001b[39;49m\u001b[39mFalse\u001b[39;49;00m)\n",
      "\u001b[0;31mKeyboardInterrupt\u001b[0m: "
     ]
    }
   ],
   "source": [
    "import wandb\n",
    "\n",
    "# Initialize a new W&B run\n",
    "wandb.init(project=\"ddf\")\n",
    "\n",
    "# setup optimizer and training loop\n",
    "lr_start = 1e-4\n",
    "lr_end = 1e-6\n",
    "epochs = 15000\n",
    "optim = torch.optim.Adam(ddf.parameters(), lr=lr_start)\n",
    "# exponential learning rate decay\n",
    "gamma = np.exp(np.log(lr_end / lr_start) / epochs)\n",
    "scheduler = torch.optim.lr_scheduler.ExponentialLR(optim, gamma=gamma)\n",
    "\n",
    "sdf_loss = torch.nn.MSELoss()\n",
    "hit_probability_loss = torch.nn.MSELoss()\n",
    "expected_termination_loss = torch.nn.MSELoss()\n",
    "\n",
    "dataset = DDFSDFDataset(1000, 1.0, model, repeat_position=True, device=device)\n",
    "\n",
    "epochs_until_checkpoint = 1000\n",
    "\n",
    "for i in tqdm.tqdm(range(epochs)):\n",
    "    positions, directions, accumulation, termination_dist = dataset[i]\n",
    "    positions = positions.to(device)\n",
    "    directions = directions.to(device)\n",
    "    accumulation = accumulation.to(device)\n",
    "    termination_dist = termination_dist.to(device)\n",
    "\n",
    "    # encoded_positions = position_encoding(positions) # [N, K]\n",
    "    # encoded_directions = direction_encoding(directions) # [N, K]\n",
    "    # model_input = torch.cat([positions, directions, encoded_positions, encoded_directions], dim=-1) # [N, K]\n",
    "\n",
    "    model_input = torch.cat([positions, directions], dim=-1) # [N, 3 + 3] = [N, 6]\n",
    "\n",
    "    output = ddf(model_input) # [N, 2]\n",
    "    output = output.type(torch.float32)\n",
    "    expected_termination_dist = torch.relu(output[..., 0]) # [N]\n",
    "    probability_of_hit = torch.sigmoid(output[..., 1]) # We want a probability between 0 and 1 [N]\n",
    "\n",
    "    # get sdf at termination outputted by the ddf\n",
    "    sdf_at_termination = model.field.get_sdf_at_pos(positions + directions * expected_termination_dist.unsqueeze(-1)).squeeze() # [N]\n",
    "\n",
    "    l1 = 3.0 * hit_probability_loss(probability_of_hit, accumulation)\n",
    "\n",
    "    mask = (accumulation > 0.7).float() # only consider pixels that hit an object when estimating expected termination distance [N]\n",
    "\n",
    "    l2 = 10.0 * sdf_loss(sdf_at_termination * mask, torch.zeros_like(sdf_at_termination))\n",
    "\n",
    "    l3 = 3.0 * expected_termination_loss(expected_termination_dist * mask, termination_dist * mask)\n",
    "\n",
    "    # use multi-view consistency to regularise the expected termination distance\n",
    "    mv_original_termination_dist, mv_comparison_termination_dist = multi_view_consitency(ddf, positions, directions, expected_termination_dist, number_of_comparisons=1, device=device)\n",
    "\n",
    "    # we want to penalise the model if the comparison termination distance is greater than the original termination distance, it doesn't matter if it is less\n",
    "    mv_loss = torch.relu(mv_comparison_termination_dist - mv_original_termination_dist)\n",
    "    l4 = 0.1 * mv_loss.mean()\n",
    "\n",
    "    loss = l1 + l2 + l3 + l4\n",
    "    \n",
    "    optim.zero_grad()\n",
    "    loss.backward()\n",
    "    optim.step()\n",
    "    scheduler.step()\n",
    "\n",
    "    # save model to wandb folder\n",
    "    if i + 1 % epochs_until_checkpoint == 0:\n",
    "        torch.save(ddf.state_dict(), os.path.join(wandb.run.dir, f\"ddf_step_{i}.pt\"))\n",
    "\n",
    "    # Log losses to W&B\n",
    "    wandb.log({\"hit_loss\": l1.item(), \"sdf_loss\": l2.item(), \"term_loss\": l3.item(), \"mv_loss\": l4.item(), \"total_loss\": loss.item()})\n",
    "\n",
    "wandb.finish()\n",
    "\n"
   ]
  },
  {
   "cell_type": "code",
   "execution_count": 24,
   "metadata": {},
   "outputs": [
    {
     "data": {
      "text/plain": [
       "torch.Size([5, 3])"
      ]
     },
     "execution_count": 24,
     "metadata": {},
     "output_type": "execute_result"
    }
   ],
   "source": [
    "# load model from latest wandb checkpoint\n",
    "step = 1000\n",
    "wandb_dir = os.path.join(\"/workspaces/sdfstudio/wandb/latest-run/files\", f\"ddf_step_{step}.pt\")\n",
    "ddf.load_state_dict(torch.load(wandb_dir))"
   ]
  }
 ],
 "metadata": {
  "kernelspec": {
   "display_name": "Python 3",
   "language": "python",
   "name": "python3"
  },
  "language_info": {
   "codemirror_mode": {
    "name": "ipython",
    "version": 3
   },
   "file_extension": ".py",
   "mimetype": "text/x-python",
   "name": "python",
   "nbconvert_exporter": "python",
   "pygments_lexer": "ipython3",
   "version": "3.10.6"
  },
  "orig_nbformat": 4
 },
 "nbformat": 4,
 "nbformat_minor": 2
}
